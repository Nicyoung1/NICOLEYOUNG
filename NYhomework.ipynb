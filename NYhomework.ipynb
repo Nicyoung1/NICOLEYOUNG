{
 "cells": [
  {
   "cell_type": "code",
   "execution_count": 1,
   "metadata": {},
   "outputs": [],
   "source": [
    "import os\n",
    "import pandas as pd\n",
    "import numpy as np"
   ]
  },
  {
   "cell_type": "code",
   "execution_count": 2,
   "metadata": {},
   "outputs": [
    {
     "data": {
      "text/html": [
       "<div>\n",
       "<style scoped>\n",
       "    .dataframe tbody tr th:only-of-type {\n",
       "        vertical-align: middle;\n",
       "    }\n",
       "\n",
       "    .dataframe tbody tr th {\n",
       "        vertical-align: top;\n",
       "    }\n",
       "\n",
       "    .dataframe thead th {\n",
       "        text-align: right;\n",
       "    }\n",
       "</style>\n",
       "<table border=\"1\" class=\"dataframe\">\n",
       "  <thead>\n",
       "    <tr style=\"text-align: right;\">\n",
       "      <th></th>\n",
       "      <th>School ID</th>\n",
       "      <th>school_name</th>\n",
       "      <th>type</th>\n",
       "      <th>size</th>\n",
       "      <th>budget</th>\n",
       "      <th>Student ID</th>\n",
       "      <th>student_name</th>\n",
       "      <th>gender</th>\n",
       "      <th>grade</th>\n",
       "      <th>reading_score</th>\n",
       "      <th>math_score</th>\n",
       "    </tr>\n",
       "  </thead>\n",
       "  <tbody>\n",
       "    <tr>\n",
       "      <th>0</th>\n",
       "      <td>0</td>\n",
       "      <td>Huang High School</td>\n",
       "      <td>District</td>\n",
       "      <td>2917</td>\n",
       "      <td>1910635</td>\n",
       "      <td>0</td>\n",
       "      <td>Paul Bradley</td>\n",
       "      <td>M</td>\n",
       "      <td>9th</td>\n",
       "      <td>66</td>\n",
       "      <td>79</td>\n",
       "    </tr>\n",
       "    <tr>\n",
       "      <th>1</th>\n",
       "      <td>0</td>\n",
       "      <td>Huang High School</td>\n",
       "      <td>District</td>\n",
       "      <td>2917</td>\n",
       "      <td>1910635</td>\n",
       "      <td>1</td>\n",
       "      <td>Victor Smith</td>\n",
       "      <td>M</td>\n",
       "      <td>12th</td>\n",
       "      <td>94</td>\n",
       "      <td>61</td>\n",
       "    </tr>\n",
       "  </tbody>\n",
       "</table>\n",
       "</div>"
      ],
      "text/plain": [
       "   School ID        school_name      type  size   budget  Student ID  \\\n",
       "0          0  Huang High School  District  2917  1910635           0   \n",
       "1          0  Huang High School  District  2917  1910635           1   \n",
       "\n",
       "   student_name gender grade  reading_score  math_score  \n",
       "0  Paul Bradley      M   9th             66          79  \n",
       "1  Victor Smith      M  12th             94          61  "
      ]
     },
     "execution_count": 2,
     "metadata": {},
     "output_type": "execute_result"
    }
   ],
   "source": [
    "#Read in and merge two data records.\n",
    "school_datapath = \"schools_complete.csv\"\n",
    "student_datapath = \"students_complete.csv\"\n",
    "school_data = pd.read_csv(school_datapath)\n",
    "student_data = pd.read_csv(student_datapath)\n",
    "\n",
    "all_data = pd.merge(school_data, student_data, on=[\"school_name\", \"school_name\"], how=\"left\")\n",
    "all_data.head(2)\n",
    "\n"
   ]
  },
  {
   "cell_type": "code",
   "execution_count": 3,
   "metadata": {
    "scrolled": true
   },
   "outputs": [
    {
     "data": {
      "text/plain": [
       "School ID         int64\n",
       "school_name      object\n",
       "type             object\n",
       "size              int64\n",
       "budget            int64\n",
       "Student ID        int64\n",
       "student_name     object\n",
       "gender           object\n",
       "grade            object\n",
       "reading_score     int64\n",
       "math_score        int64\n",
       "dtype: object"
      ]
     },
     "execution_count": 3,
     "metadata": {},
     "output_type": "execute_result"
    }
   ],
   "source": [
    "#Verify present data types in dataframe\n",
    "all_data.dtypes\n"
   ]
  },
  {
   "cell_type": "code",
   "execution_count": 4,
   "metadata": {},
   "outputs": [
    {
     "data": {
      "text/plain": [
       "15"
      ]
     },
     "execution_count": 4,
     "metadata": {},
     "output_type": "execute_result"
    }
   ],
   "source": [
    "#Calculate the total number of schools \n",
    "school_count = len(all_data[\"school_name\"].unique())\n",
    "school_count\n",
    "\n",
    "\n"
   ]
  },
  {
   "cell_type": "code",
   "execution_count": 5,
   "metadata": {},
   "outputs": [
    {
     "data": {
      "text/plain": [
       "array(['Huang High School', 'Figueroa High School', 'Shelton High School',\n",
       "       'Hernandez High School', 'Griffin High School',\n",
       "       'Wilson High School', 'Cabrera High School', 'Bailey High School',\n",
       "       'Holden High School', 'Pena High School', 'Wright High School',\n",
       "       'Rodriguez High School', 'Johnson High School', 'Ford High School',\n",
       "       'Thomas High School'], dtype=object)"
      ]
     },
     "execution_count": 5,
     "metadata": {},
     "output_type": "execute_result"
    }
   ],
   "source": [
    "#List all school names for \"School Summary\"\n",
    "school_name = all_data[\"school_name\"].unique()\n",
    "school_name\n"
   ]
  },
  {
   "cell_type": "code",
   "execution_count": 6,
   "metadata": {},
   "outputs": [
    {
     "data": {
      "text/plain": [
       "array(['District', 'Charter'], dtype=object)"
      ]
     },
     "execution_count": 6,
     "metadata": {},
     "output_type": "execute_result"
    }
   ],
   "source": [
    "#List types of schools\n",
    "school_type = all_data[\"type\"].unique()\n",
    "school_type\n"
   ]
  },
  {
   "cell_type": "code",
   "execution_count": 7,
   "metadata": {
    "scrolled": true
   },
   "outputs": [
    {
     "data": {
      "text/plain": [
       "32715"
      ]
     },
     "execution_count": 7,
     "metadata": {},
     "output_type": "execute_result"
    }
   ],
   "source": [
    "#Get the total of all the Students\n",
    "#use len like above\n",
    "student_count = len(all_data[\"student_name\"].unique())\n",
    "student_count\n"
   ]
  },
  {
   "cell_type": "code",
   "execution_count": 8,
   "metadata": {},
   "outputs": [
    {
     "data": {
      "text/plain": [
       "82932329558"
      ]
     },
     "execution_count": 8,
     "metadata": {},
     "output_type": "execute_result"
    }
   ],
   "source": [
    "\n",
    "#Calculate the total budget\n",
    "budget_total = all_data[\"budget\"].sum()\n",
    "budget_total\n"
   ]
  },
  {
   "cell_type": "code",
   "execution_count": null,
   "metadata": {},
   "outputs": [],
   "source": []
  },
  {
   "cell_type": "code",
   "execution_count": 9,
   "metadata": {},
   "outputs": [
    {
     "data": {
      "text/plain": [
       "79.0"
      ]
     },
     "execution_count": 9,
     "metadata": {},
     "output_type": "execute_result"
    }
   ],
   "source": [
    "#Calculate the average math score\n",
    "ave_math = all_data[\"math_score\"].mean()\n",
    "round(ave_math, 1)\n"
   ]
  },
  {
   "cell_type": "code",
   "execution_count": 10,
   "metadata": {},
   "outputs": [
    {
     "data": {
      "text/plain": [
       "81.9"
      ]
     },
     "execution_count": 10,
     "metadata": {},
     "output_type": "execute_result"
    }
   ],
   "source": [
    "#Calculate the average reading score\n",
    "ave_reading = all_data[\"reading_score\"].mean()\n",
    "round(ave_reading, 1)\n"
   ]
  },
  {
   "cell_type": "code",
   "execution_count": 11,
   "metadata": {},
   "outputs": [
    {
     "data": {
      "text/plain": [
       "80.4"
      ]
     },
     "execution_count": 11,
     "metadata": {},
     "output_type": "execute_result"
    }
   ],
   "source": [
    "#Calculate the passing rate \n",
    "pass_rate = (ave_math + ave_reading)/2\n",
    "pass_rate\n",
    "round(pass_rate, 1)"
   ]
  },
  {
   "cell_type": "code",
   "execution_count": 12,
   "metadata": {},
   "outputs": [
    {
     "data": {
      "text/html": [
       "<div>\n",
       "<style scoped>\n",
       "    .dataframe tbody tr th:only-of-type {\n",
       "        vertical-align: middle;\n",
       "    }\n",
       "\n",
       "    .dataframe tbody tr th {\n",
       "        vertical-align: top;\n",
       "    }\n",
       "\n",
       "    .dataframe thead th {\n",
       "        text-align: right;\n",
       "    }\n",
       "</style>\n",
       "<table border=\"1\" class=\"dataframe\">\n",
       "  <thead>\n",
       "    <tr style=\"text-align: right;\">\n",
       "      <th></th>\n",
       "      <th>math_score</th>\n",
       "      <th>reading_score</th>\n",
       "    </tr>\n",
       "  </thead>\n",
       "  <tbody>\n",
       "    <tr>\n",
       "      <th>0</th>\n",
       "      <td>79</td>\n",
       "      <td>66</td>\n",
       "    </tr>\n",
       "    <tr>\n",
       "      <th>1</th>\n",
       "      <td>61</td>\n",
       "      <td>94</td>\n",
       "    </tr>\n",
       "    <tr>\n",
       "      <th>2</th>\n",
       "      <td>60</td>\n",
       "      <td>90</td>\n",
       "    </tr>\n",
       "    <tr>\n",
       "      <th>3</th>\n",
       "      <td>58</td>\n",
       "      <td>67</td>\n",
       "    </tr>\n",
       "    <tr>\n",
       "      <th>4</th>\n",
       "      <td>84</td>\n",
       "      <td>97</td>\n",
       "    </tr>\n",
       "  </tbody>\n",
       "</table>\n",
       "</div>"
      ],
      "text/plain": [
       "   math_score  reading_score\n",
       "0          79             66\n",
       "1          61             94\n",
       "2          60             90\n",
       "3          58             67\n",
       "4          84             97"
      ]
     },
     "execution_count": 12,
     "metadata": {},
     "output_type": "execute_result"
    }
   ],
   "source": [
    "#isolate math and reading scores\n",
    "sc_df = all_data[[\"math_score\", \"reading_score\"]]\n",
    "sc_df.head()\n",
    "\n"
   ]
  },
  {
   "cell_type": "code",
   "execution_count": 13,
   "metadata": {},
   "outputs": [
    {
     "data": {
      "text/html": [
       "<div>\n",
       "<style scoped>\n",
       "    .dataframe tbody tr th:only-of-type {\n",
       "        vertical-align: middle;\n",
       "    }\n",
       "\n",
       "    .dataframe tbody tr th {\n",
       "        vertical-align: top;\n",
       "    }\n",
       "\n",
       "    .dataframe thead th {\n",
       "        text-align: right;\n",
       "    }\n",
       "</style>\n",
       "<table border=\"1\" class=\"dataframe\">\n",
       "  <thead>\n",
       "    <tr style=\"text-align: right;\">\n",
       "      <th></th>\n",
       "      <th>math_score</th>\n",
       "      <th>reading_score</th>\n",
       "    </tr>\n",
       "  </thead>\n",
       "  <tbody>\n",
       "    <tr>\n",
       "      <th>0</th>\n",
       "      <td>79</td>\n",
       "      <td>66</td>\n",
       "    </tr>\n",
       "    <tr>\n",
       "      <th>1</th>\n",
       "      <td>61</td>\n",
       "      <td>94</td>\n",
       "    </tr>\n",
       "    <tr>\n",
       "      <th>2</th>\n",
       "      <td>60</td>\n",
       "      <td>90</td>\n",
       "    </tr>\n",
       "    <tr>\n",
       "      <th>4</th>\n",
       "      <td>84</td>\n",
       "      <td>97</td>\n",
       "    </tr>\n",
       "    <tr>\n",
       "      <th>5</th>\n",
       "      <td>94</td>\n",
       "      <td>94</td>\n",
       "    </tr>\n",
       "  </tbody>\n",
       "</table>\n",
       "</div>"
      ],
      "text/plain": [
       "   math_score  reading_score\n",
       "0          79             66\n",
       "1          61             94\n",
       "2          60             90\n",
       "4          84             97\n",
       "5          94             94"
      ]
     },
     "execution_count": 13,
     "metadata": {},
     "output_type": "execute_result"
    }
   ],
   "source": [
    "#Dataframe for only passing math and reading scores\n",
    "pass_df = sc_df.loc[(sc_df[\"math_score\"] > 69.9) | (sc_df[\"reading_score\"] > 69.9), :]\n",
    "pass_df.head()\n"
   ]
  },
  {
   "cell_type": "code",
   "execution_count": null,
   "metadata": {},
   "outputs": [],
   "source": []
  },
  {
   "cell_type": "code",
   "execution_count": 14,
   "metadata": {},
   "outputs": [
    {
     "data": {
      "text/plain": [
       "91.3"
      ]
     },
     "execution_count": 14,
     "metadata": {},
     "output_type": "execute_result"
    }
   ],
   "source": [
    "#calculate percentage of students with a passing math score\n",
    "pass_math = (pass_df[\"math_score\"].sum() / student_count)\n",
    "round(pass_math, 1)\n",
    "#use loc for average"
   ]
  },
  {
   "cell_type": "code",
   "execution_count": 15,
   "metadata": {},
   "outputs": [
    {
     "data": {
      "text/plain": [
       "94.6"
      ]
     },
     "execution_count": 15,
     "metadata": {},
     "output_type": "execute_result"
    }
   ],
   "source": [
    "#Calculate the percentage of students with a passing reading score \n",
    "pass_read = (pass_df[\"reading_score\"].sum() / student_count)\n",
    "round(pass_read, 1)\n"
   ]
  },
  {
   "cell_type": "code",
   "execution_count": null,
   "metadata": {},
   "outputs": [],
   "source": []
  },
  {
   "cell_type": "code",
   "execution_count": 16,
   "metadata": {},
   "outputs": [
    {
     "data": {
      "text/html": [
       "<div>\n",
       "<style scoped>\n",
       "    .dataframe tbody tr th:only-of-type {\n",
       "        vertical-align: middle;\n",
       "    }\n",
       "\n",
       "    .dataframe tbody tr th {\n",
       "        vertical-align: top;\n",
       "    }\n",
       "\n",
       "    .dataframe thead th {\n",
       "        text-align: right;\n",
       "    }\n",
       "</style>\n",
       "<table border=\"1\" class=\"dataframe\">\n",
       "  <thead>\n",
       "    <tr style=\"text-align: right;\">\n",
       "      <th></th>\n",
       "      <th>% Passing Math</th>\n",
       "      <th>% Passing Reading</th>\n",
       "      <th>Average Math Score</th>\n",
       "      <th>Average Reading Score</th>\n",
       "      <th>Overall Passing Rate</th>\n",
       "      <th>Total Budget</th>\n",
       "      <th>Total Schools</th>\n",
       "      <th>Total Students</th>\n",
       "    </tr>\n",
       "  </thead>\n",
       "  <tbody>\n",
       "    <tr>\n",
       "      <th>0</th>\n",
       "      <td>91.3</td>\n",
       "      <td>94.6</td>\n",
       "      <td>79</td>\n",
       "      <td>81.9</td>\n",
       "      <td>94.6</td>\n",
       "      <td>$82,932,329,558</td>\n",
       "      <td>15</td>\n",
       "      <td>32,715</td>\n",
       "    </tr>\n",
       "  </tbody>\n",
       "</table>\n",
       "</div>"
      ],
      "text/plain": [
       "  % Passing Math % Passing Reading Average Math Score Average Reading Score  \\\n",
       "0           91.3              94.6                 79                  81.9   \n",
       "\n",
       "  Overall Passing Rate     Total Budget Total Schools Total Students  \n",
       "0                 94.6  $82,932,329,558            15         32,715  "
      ]
     },
     "execution_count": 16,
     "metadata": {},
     "output_type": "execute_result"
    }
   ],
   "source": [
    "#District Summary \n",
    "District_Summary = [{\"Total Schools\": \"15\", \"Total Students\": \"32,715\", \"Total Budget\": \"$82,932,329,558\", \"Average Math Score\": \"79\", \"Average Reading Score\": \"81.9\", \"% Passing Math\": \"91.3\", \"% Passing Reading\": \"94.6\", \"Overall Passing Rate\": \"94.6\"}]\n",
    "summary_df = pd.DataFrame(District_Summary)\n",
    "summary_df"
   ]
  },
  {
   "cell_type": "code",
   "execution_count": null,
   "metadata": {},
   "outputs": [],
   "source": [
    "\n"
   ]
  },
  {
   "cell_type": "code",
   "execution_count": null,
   "metadata": {},
   "outputs": [],
   "source": []
  },
  {
   "cell_type": "code",
   "execution_count": 17,
   "metadata": {},
   "outputs": [
    {
     "data": {
      "text/html": [
       "<div>\n",
       "<style scoped>\n",
       "    .dataframe tbody tr th:only-of-type {\n",
       "        vertical-align: middle;\n",
       "    }\n",
       "\n",
       "    .dataframe tbody tr th {\n",
       "        vertical-align: top;\n",
       "    }\n",
       "\n",
       "    .dataframe thead th {\n",
       "        text-align: right;\n",
       "    }\n",
       "</style>\n",
       "<table border=\"1\" class=\"dataframe\">\n",
       "  <thead>\n",
       "    <tr style=\"text-align: right;\">\n",
       "      <th></th>\n",
       "      <th>School ID</th>\n",
       "      <th>school_name</th>\n",
       "      <th>type</th>\n",
       "      <th>size</th>\n",
       "      <th>budget</th>\n",
       "      <th>Student ID</th>\n",
       "      <th>student_name</th>\n",
       "      <th>gender</th>\n",
       "      <th>grade</th>\n",
       "      <th>reading_score</th>\n",
       "      <th>math_score</th>\n",
       "    </tr>\n",
       "  </thead>\n",
       "  <tbody>\n",
       "    <tr>\n",
       "      <th>0</th>\n",
       "      <td>0</td>\n",
       "      <td>Huang High School</td>\n",
       "      <td>District</td>\n",
       "      <td>2917</td>\n",
       "      <td>1910635</td>\n",
       "      <td>0</td>\n",
       "      <td>Paul Bradley</td>\n",
       "      <td>M</td>\n",
       "      <td>9th</td>\n",
       "      <td>66</td>\n",
       "      <td>79</td>\n",
       "    </tr>\n",
       "    <tr>\n",
       "      <th>1</th>\n",
       "      <td>0</td>\n",
       "      <td>Huang High School</td>\n",
       "      <td>District</td>\n",
       "      <td>2917</td>\n",
       "      <td>1910635</td>\n",
       "      <td>1</td>\n",
       "      <td>Victor Smith</td>\n",
       "      <td>M</td>\n",
       "      <td>12th</td>\n",
       "      <td>94</td>\n",
       "      <td>61</td>\n",
       "    </tr>\n",
       "    <tr>\n",
       "      <th>2</th>\n",
       "      <td>0</td>\n",
       "      <td>Huang High School</td>\n",
       "      <td>District</td>\n",
       "      <td>2917</td>\n",
       "      <td>1910635</td>\n",
       "      <td>2</td>\n",
       "      <td>Kevin Rodriguez</td>\n",
       "      <td>M</td>\n",
       "      <td>12th</td>\n",
       "      <td>90</td>\n",
       "      <td>60</td>\n",
       "    </tr>\n",
       "    <tr>\n",
       "      <th>3</th>\n",
       "      <td>0</td>\n",
       "      <td>Huang High School</td>\n",
       "      <td>District</td>\n",
       "      <td>2917</td>\n",
       "      <td>1910635</td>\n",
       "      <td>3</td>\n",
       "      <td>Dr. Richard Scott</td>\n",
       "      <td>M</td>\n",
       "      <td>12th</td>\n",
       "      <td>67</td>\n",
       "      <td>58</td>\n",
       "    </tr>\n",
       "    <tr>\n",
       "      <th>4</th>\n",
       "      <td>0</td>\n",
       "      <td>Huang High School</td>\n",
       "      <td>District</td>\n",
       "      <td>2917</td>\n",
       "      <td>1910635</td>\n",
       "      <td>4</td>\n",
       "      <td>Bonnie Ray</td>\n",
       "      <td>F</td>\n",
       "      <td>9th</td>\n",
       "      <td>97</td>\n",
       "      <td>84</td>\n",
       "    </tr>\n",
       "  </tbody>\n",
       "</table>\n",
       "</div>"
      ],
      "text/plain": [
       "   School ID        school_name      type  size   budget  Student ID  \\\n",
       "0          0  Huang High School  District  2917  1910635           0   \n",
       "1          0  Huang High School  District  2917  1910635           1   \n",
       "2          0  Huang High School  District  2917  1910635           2   \n",
       "3          0  Huang High School  District  2917  1910635           3   \n",
       "4          0  Huang High School  District  2917  1910635           4   \n",
       "\n",
       "        student_name gender grade  reading_score  math_score  \n",
       "0       Paul Bradley      M   9th             66          79  \n",
       "1       Victor Smith      M  12th             94          61  \n",
       "2    Kevin Rodriguez      M  12th             90          60  \n",
       "3  Dr. Richard Scott      M  12th             67          58  \n",
       "4         Bonnie Ray      F   9th             97          84  "
      ]
     },
     "execution_count": 17,
     "metadata": {},
     "output_type": "execute_result"
    }
   ],
   "source": [
    "#Huang HS Summary \n",
    "Huang_HS = all_data.loc[(all_data[\"school_name\"] == \"Huang High School\"), :]\n",
    "Huang_HS.head()\n"
   ]
  },
  {
   "cell_type": "code",
   "execution_count": 18,
   "metadata": {},
   "outputs": [
    {
     "data": {
      "text/plain": [
       "76.6"
      ]
     },
     "execution_count": 18,
     "metadata": {},
     "output_type": "execute_result"
    }
   ],
   "source": [
    "HHSave_math = Huang_HS[\"math_score\"].mean()\n",
    "round(HHSave_math, 1)\n"
   ]
  },
  {
   "cell_type": "code",
   "execution_count": 19,
   "metadata": {},
   "outputs": [
    {
     "data": {
      "text/plain": [
       "81.2"
      ]
     },
     "execution_count": 19,
     "metadata": {},
     "output_type": "execute_result"
    }
   ],
   "source": [
    "HHSave_reading = Huang_HS[\"reading_score\"].mean()\n",
    "round(HHSave_reading, 1)"
   ]
  },
  {
   "cell_type": "code",
   "execution_count": 20,
   "metadata": {},
   "outputs": [
    {
     "data": {
      "text/plain": [
       "2858"
      ]
     },
     "execution_count": 20,
     "metadata": {},
     "output_type": "execute_result"
    }
   ],
   "source": [
    "HHStudent_tot = len(Huang_HS[\"student_name\"].unique())\n",
    "HHStudent_tot\n",
    "                    "
   ]
  },
  {
   "cell_type": "code",
   "execution_count": 21,
   "metadata": {},
   "outputs": [
    {
     "data": {
      "text/plain": [
       "668.5"
      ]
     },
     "execution_count": 21,
     "metadata": {},
     "output_type": "execute_result"
    }
   ],
   "source": [
    "HHSBudper_st = Huang_HS.iloc[0,4] / HHStudent_tot\n",
    "HHSBudper_st\n",
    "round(HHSBudper_st, 1)"
   ]
  },
  {
   "cell_type": "code",
   "execution_count": 22,
   "metadata": {},
   "outputs": [
    {
     "data": {
      "text/html": [
       "<div>\n",
       "<style scoped>\n",
       "    .dataframe tbody tr th:only-of-type {\n",
       "        vertical-align: middle;\n",
       "    }\n",
       "\n",
       "    .dataframe tbody tr th {\n",
       "        vertical-align: top;\n",
       "    }\n",
       "\n",
       "    .dataframe thead th {\n",
       "        text-align: right;\n",
       "    }\n",
       "</style>\n",
       "<table border=\"1\" class=\"dataframe\">\n",
       "  <thead>\n",
       "    <tr style=\"text-align: right;\">\n",
       "      <th></th>\n",
       "      <th>School ID</th>\n",
       "      <th>school_name</th>\n",
       "      <th>type</th>\n",
       "      <th>size</th>\n",
       "      <th>budget</th>\n",
       "      <th>Student ID</th>\n",
       "      <th>student_name</th>\n",
       "      <th>gender</th>\n",
       "      <th>grade</th>\n",
       "      <th>reading_score</th>\n",
       "      <th>math_score</th>\n",
       "    </tr>\n",
       "  </thead>\n",
       "  <tbody>\n",
       "    <tr>\n",
       "      <th>0</th>\n",
       "      <td>0</td>\n",
       "      <td>Huang High School</td>\n",
       "      <td>District</td>\n",
       "      <td>2917</td>\n",
       "      <td>1910635</td>\n",
       "      <td>0</td>\n",
       "      <td>Paul Bradley</td>\n",
       "      <td>M</td>\n",
       "      <td>9th</td>\n",
       "      <td>66</td>\n",
       "      <td>79</td>\n",
       "    </tr>\n",
       "    <tr>\n",
       "      <th>1</th>\n",
       "      <td>0</td>\n",
       "      <td>Huang High School</td>\n",
       "      <td>District</td>\n",
       "      <td>2917</td>\n",
       "      <td>1910635</td>\n",
       "      <td>1</td>\n",
       "      <td>Victor Smith</td>\n",
       "      <td>M</td>\n",
       "      <td>12th</td>\n",
       "      <td>94</td>\n",
       "      <td>61</td>\n",
       "    </tr>\n",
       "    <tr>\n",
       "      <th>2</th>\n",
       "      <td>0</td>\n",
       "      <td>Huang High School</td>\n",
       "      <td>District</td>\n",
       "      <td>2917</td>\n",
       "      <td>1910635</td>\n",
       "      <td>2</td>\n",
       "      <td>Kevin Rodriguez</td>\n",
       "      <td>M</td>\n",
       "      <td>12th</td>\n",
       "      <td>90</td>\n",
       "      <td>60</td>\n",
       "    </tr>\n",
       "    <tr>\n",
       "      <th>4</th>\n",
       "      <td>0</td>\n",
       "      <td>Huang High School</td>\n",
       "      <td>District</td>\n",
       "      <td>2917</td>\n",
       "      <td>1910635</td>\n",
       "      <td>4</td>\n",
       "      <td>Bonnie Ray</td>\n",
       "      <td>F</td>\n",
       "      <td>9th</td>\n",
       "      <td>97</td>\n",
       "      <td>84</td>\n",
       "    </tr>\n",
       "    <tr>\n",
       "      <th>5</th>\n",
       "      <td>0</td>\n",
       "      <td>Huang High School</td>\n",
       "      <td>District</td>\n",
       "      <td>2917</td>\n",
       "      <td>1910635</td>\n",
       "      <td>5</td>\n",
       "      <td>Bryan Miranda</td>\n",
       "      <td>M</td>\n",
       "      <td>9th</td>\n",
       "      <td>94</td>\n",
       "      <td>94</td>\n",
       "    </tr>\n",
       "  </tbody>\n",
       "</table>\n",
       "</div>"
      ],
      "text/plain": [
       "   School ID        school_name      type  size   budget  Student ID  \\\n",
       "0          0  Huang High School  District  2917  1910635           0   \n",
       "1          0  Huang High School  District  2917  1910635           1   \n",
       "2          0  Huang High School  District  2917  1910635           2   \n",
       "4          0  Huang High School  District  2917  1910635           4   \n",
       "5          0  Huang High School  District  2917  1910635           5   \n",
       "\n",
       "      student_name gender grade  reading_score  math_score  \n",
       "0     Paul Bradley      M   9th             66          79  \n",
       "1     Victor Smith      M  12th             94          61  \n",
       "2  Kevin Rodriguez      M  12th             90          60  \n",
       "4       Bonnie Ray      F   9th             97          84  \n",
       "5    Bryan Miranda      M   9th             94          94  "
      ]
     },
     "execution_count": 22,
     "metadata": {},
     "output_type": "execute_result"
    }
   ],
   "source": [
    "HHSpass_df = Huang_HS.loc[(Huang_HS[\"math_score\"] > 69.9) | (Huang_HS[\"reading_score\"] > 69.9), :]\n",
    "HHSpass_df.head()"
   ]
  },
  {
   "cell_type": "code",
   "execution_count": 23,
   "metadata": {},
   "outputs": [
    {
     "data": {
      "text/plain": [
       "78.5"
      ]
     },
     "execution_count": 23,
     "metadata": {},
     "output_type": "execute_result"
    }
   ],
   "source": [
    "HHSpass_read = (HHSpass_df[\"reading_score\"].sum() / HHStudent_tot)\n",
    "round(HHSpass_read, 1)\n"
   ]
  },
  {
   "cell_type": "code",
   "execution_count": 24,
   "metadata": {},
   "outputs": [
    {
     "data": {
      "text/plain": [
       "74.1"
      ]
     },
     "execution_count": 24,
     "metadata": {},
     "output_type": "execute_result"
    }
   ],
   "source": [
    "HHSpass_math = (HHSpass_df[\"math_score\"].sum() / HHStudent_tot)\n",
    "round(HHSpass_math, 1)"
   ]
  },
  {
   "cell_type": "code",
   "execution_count": 25,
   "metadata": {},
   "outputs": [
    {
     "data": {
      "text/plain": [
       "78.9"
      ]
     },
     "execution_count": 25,
     "metadata": {},
     "output_type": "execute_result"
    }
   ],
   "source": [
    "#Calculate the total passing rate \n",
    "HHSpass_rate = (HHSave_math + HHSave_reading)/2\n",
    "HHSpass_rate\n",
    "round(HHSpass_rate, 1)"
   ]
  },
  {
   "cell_type": "code",
   "execution_count": 26,
   "metadata": {},
   "outputs": [
    {
     "data": {
      "text/html": [
       "<div>\n",
       "<style scoped>\n",
       "    .dataframe tbody tr th:only-of-type {\n",
       "        vertical-align: middle;\n",
       "    }\n",
       "\n",
       "    .dataframe tbody tr th {\n",
       "        vertical-align: top;\n",
       "    }\n",
       "\n",
       "    .dataframe thead th {\n",
       "        text-align: right;\n",
       "    }\n",
       "</style>\n",
       "<table border=\"1\" class=\"dataframe\">\n",
       "  <thead>\n",
       "    <tr style=\"text-align: right;\">\n",
       "      <th></th>\n",
       "      <th>School ID</th>\n",
       "      <th>school_name</th>\n",
       "      <th>type</th>\n",
       "      <th>size</th>\n",
       "      <th>budget</th>\n",
       "      <th>Student ID</th>\n",
       "      <th>student_name</th>\n",
       "      <th>gender</th>\n",
       "      <th>grade</th>\n",
       "      <th>reading_score</th>\n",
       "      <th>math_score</th>\n",
       "    </tr>\n",
       "  </thead>\n",
       "  <tbody>\n",
       "    <tr>\n",
       "      <th>2917</th>\n",
       "      <td>1</td>\n",
       "      <td>Figueroa High School</td>\n",
       "      <td>District</td>\n",
       "      <td>2949</td>\n",
       "      <td>1884411</td>\n",
       "      <td>2917</td>\n",
       "      <td>Amy Jacobs</td>\n",
       "      <td>F</td>\n",
       "      <td>10th</td>\n",
       "      <td>85</td>\n",
       "      <td>87</td>\n",
       "    </tr>\n",
       "    <tr>\n",
       "      <th>2918</th>\n",
       "      <td>1</td>\n",
       "      <td>Figueroa High School</td>\n",
       "      <td>District</td>\n",
       "      <td>2949</td>\n",
       "      <td>1884411</td>\n",
       "      <td>2918</td>\n",
       "      <td>Nathan Campbell</td>\n",
       "      <td>M</td>\n",
       "      <td>12th</td>\n",
       "      <td>97</td>\n",
       "      <td>84</td>\n",
       "    </tr>\n",
       "    <tr>\n",
       "      <th>2919</th>\n",
       "      <td>1</td>\n",
       "      <td>Figueroa High School</td>\n",
       "      <td>District</td>\n",
       "      <td>2949</td>\n",
       "      <td>1884411</td>\n",
       "      <td>2919</td>\n",
       "      <td>Randall Stewart</td>\n",
       "      <td>M</td>\n",
       "      <td>12th</td>\n",
       "      <td>67</td>\n",
       "      <td>77</td>\n",
       "    </tr>\n",
       "    <tr>\n",
       "      <th>2920</th>\n",
       "      <td>1</td>\n",
       "      <td>Figueroa High School</td>\n",
       "      <td>District</td>\n",
       "      <td>2949</td>\n",
       "      <td>1884411</td>\n",
       "      <td>2920</td>\n",
       "      <td>Jennifer Brown</td>\n",
       "      <td>F</td>\n",
       "      <td>9th</td>\n",
       "      <td>97</td>\n",
       "      <td>64</td>\n",
       "    </tr>\n",
       "    <tr>\n",
       "      <th>2921</th>\n",
       "      <td>1</td>\n",
       "      <td>Figueroa High School</td>\n",
       "      <td>District</td>\n",
       "      <td>2949</td>\n",
       "      <td>1884411</td>\n",
       "      <td>2921</td>\n",
       "      <td>Denise Lopez</td>\n",
       "      <td>F</td>\n",
       "      <td>10th</td>\n",
       "      <td>79</td>\n",
       "      <td>64</td>\n",
       "    </tr>\n",
       "  </tbody>\n",
       "</table>\n",
       "</div>"
      ],
      "text/plain": [
       "      School ID           school_name      type  size   budget  Student ID  \\\n",
       "2917          1  Figueroa High School  District  2949  1884411        2917   \n",
       "2918          1  Figueroa High School  District  2949  1884411        2918   \n",
       "2919          1  Figueroa High School  District  2949  1884411        2919   \n",
       "2920          1  Figueroa High School  District  2949  1884411        2920   \n",
       "2921          1  Figueroa High School  District  2949  1884411        2921   \n",
       "\n",
       "         student_name gender grade  reading_score  math_score  \n",
       "2917       Amy Jacobs      F  10th             85          87  \n",
       "2918  Nathan Campbell      M  12th             97          84  \n",
       "2919  Randall Stewart      M  12th             67          77  \n",
       "2920   Jennifer Brown      F   9th             97          64  \n",
       "2921     Denise Lopez      F  10th             79          64  "
      ]
     },
     "execution_count": 26,
     "metadata": {},
     "output_type": "execute_result"
    }
   ],
   "source": [
    "#Figueroa High School Summary\n",
    "F_HS = all_data.loc[(all_data[\"school_name\"] == \"Figueroa High School\"), :]\n",
    "F_HS.head()"
   ]
  },
  {
   "cell_type": "code",
   "execution_count": 27,
   "metadata": {},
   "outputs": [
    {
     "data": {
      "text/plain": [
       "76.7"
      ]
     },
     "execution_count": 27,
     "metadata": {},
     "output_type": "execute_result"
    }
   ],
   "source": [
    "FHSave_math = F_HS[\"math_score\"].mean()\n",
    "round(FHSave_math, 1)"
   ]
  },
  {
   "cell_type": "code",
   "execution_count": 28,
   "metadata": {},
   "outputs": [
    {
     "data": {
      "text/plain": [
       "81.2"
      ]
     },
     "execution_count": 28,
     "metadata": {},
     "output_type": "execute_result"
    }
   ],
   "source": [
    "FHSave_reading = F_HS[\"reading_score\"].mean()\n",
    "round(FHSave_reading, 1)"
   ]
  },
  {
   "cell_type": "code",
   "execution_count": 29,
   "metadata": {},
   "outputs": [
    {
     "data": {
      "text/plain": [
       "2886"
      ]
     },
     "execution_count": 29,
     "metadata": {},
     "output_type": "execute_result"
    }
   ],
   "source": [
    "FHStudent_tot = len(F_HS[\"student_name\"].unique())\n",
    "FHStudent_tot"
   ]
  },
  {
   "cell_type": "code",
   "execution_count": 30,
   "metadata": {},
   "outputs": [
    {
     "data": {
      "text/plain": [
       "652.9"
      ]
     },
     "execution_count": 30,
     "metadata": {},
     "output_type": "execute_result"
    }
   ],
   "source": [
    "FHSBudper_st = F_HS.iloc[0,4] / FHStudent_tot\n",
    "FHSBudper_st\n",
    "round(FHSBudper_st, 1)"
   ]
  },
  {
   "cell_type": "code",
   "execution_count": 31,
   "metadata": {},
   "outputs": [
    {
     "data": {
      "text/html": [
       "<div>\n",
       "<style scoped>\n",
       "    .dataframe tbody tr th:only-of-type {\n",
       "        vertical-align: middle;\n",
       "    }\n",
       "\n",
       "    .dataframe tbody tr th {\n",
       "        vertical-align: top;\n",
       "    }\n",
       "\n",
       "    .dataframe thead th {\n",
       "        text-align: right;\n",
       "    }\n",
       "</style>\n",
       "<table border=\"1\" class=\"dataframe\">\n",
       "  <thead>\n",
       "    <tr style=\"text-align: right;\">\n",
       "      <th></th>\n",
       "      <th>School ID</th>\n",
       "      <th>school_name</th>\n",
       "      <th>type</th>\n",
       "      <th>size</th>\n",
       "      <th>budget</th>\n",
       "      <th>Student ID</th>\n",
       "      <th>student_name</th>\n",
       "      <th>gender</th>\n",
       "      <th>grade</th>\n",
       "      <th>reading_score</th>\n",
       "      <th>math_score</th>\n",
       "    </tr>\n",
       "  </thead>\n",
       "  <tbody>\n",
       "    <tr>\n",
       "      <th>2917</th>\n",
       "      <td>1</td>\n",
       "      <td>Figueroa High School</td>\n",
       "      <td>District</td>\n",
       "      <td>2949</td>\n",
       "      <td>1884411</td>\n",
       "      <td>2917</td>\n",
       "      <td>Amy Jacobs</td>\n",
       "      <td>F</td>\n",
       "      <td>10th</td>\n",
       "      <td>85</td>\n",
       "      <td>87</td>\n",
       "    </tr>\n",
       "    <tr>\n",
       "      <th>2918</th>\n",
       "      <td>1</td>\n",
       "      <td>Figueroa High School</td>\n",
       "      <td>District</td>\n",
       "      <td>2949</td>\n",
       "      <td>1884411</td>\n",
       "      <td>2918</td>\n",
       "      <td>Nathan Campbell</td>\n",
       "      <td>M</td>\n",
       "      <td>12th</td>\n",
       "      <td>97</td>\n",
       "      <td>84</td>\n",
       "    </tr>\n",
       "    <tr>\n",
       "      <th>2919</th>\n",
       "      <td>1</td>\n",
       "      <td>Figueroa High School</td>\n",
       "      <td>District</td>\n",
       "      <td>2949</td>\n",
       "      <td>1884411</td>\n",
       "      <td>2919</td>\n",
       "      <td>Randall Stewart</td>\n",
       "      <td>M</td>\n",
       "      <td>12th</td>\n",
       "      <td>67</td>\n",
       "      <td>77</td>\n",
       "    </tr>\n",
       "    <tr>\n",
       "      <th>2920</th>\n",
       "      <td>1</td>\n",
       "      <td>Figueroa High School</td>\n",
       "      <td>District</td>\n",
       "      <td>2949</td>\n",
       "      <td>1884411</td>\n",
       "      <td>2920</td>\n",
       "      <td>Jennifer Brown</td>\n",
       "      <td>F</td>\n",
       "      <td>9th</td>\n",
       "      <td>97</td>\n",
       "      <td>64</td>\n",
       "    </tr>\n",
       "    <tr>\n",
       "      <th>2921</th>\n",
       "      <td>1</td>\n",
       "      <td>Figueroa High School</td>\n",
       "      <td>District</td>\n",
       "      <td>2949</td>\n",
       "      <td>1884411</td>\n",
       "      <td>2921</td>\n",
       "      <td>Denise Lopez</td>\n",
       "      <td>F</td>\n",
       "      <td>10th</td>\n",
       "      <td>79</td>\n",
       "      <td>64</td>\n",
       "    </tr>\n",
       "  </tbody>\n",
       "</table>\n",
       "</div>"
      ],
      "text/plain": [
       "      School ID           school_name      type  size   budget  Student ID  \\\n",
       "2917          1  Figueroa High School  District  2949  1884411        2917   \n",
       "2918          1  Figueroa High School  District  2949  1884411        2918   \n",
       "2919          1  Figueroa High School  District  2949  1884411        2919   \n",
       "2920          1  Figueroa High School  District  2949  1884411        2920   \n",
       "2921          1  Figueroa High School  District  2949  1884411        2921   \n",
       "\n",
       "         student_name gender grade  reading_score  math_score  \n",
       "2917       Amy Jacobs      F  10th             85          87  \n",
       "2918  Nathan Campbell      M  12th             97          84  \n",
       "2919  Randall Stewart      M  12th             67          77  \n",
       "2920   Jennifer Brown      F   9th             97          64  \n",
       "2921     Denise Lopez      F  10th             79          64  "
      ]
     },
     "execution_count": 31,
     "metadata": {},
     "output_type": "execute_result"
    }
   ],
   "source": [
    "FHSpass_df = F_HS.loc[(F_HS[\"math_score\"] > 69.9) | (F_HS[\"reading_score\"] > 69.9), :]\n",
    "FHSpass_df.head()"
   ]
  },
  {
   "cell_type": "code",
   "execution_count": 32,
   "metadata": {},
   "outputs": [
    {
     "data": {
      "text/plain": [
       "78.6"
      ]
     },
     "execution_count": 32,
     "metadata": {},
     "output_type": "execute_result"
    }
   ],
   "source": [
    "FHSpass_read = (FHSpass_df[\"reading_score\"].sum() / FHStudent_tot)\n",
    "round(FHSpass_read, 1)"
   ]
  },
  {
   "cell_type": "code",
   "execution_count": 33,
   "metadata": {},
   "outputs": [
    {
     "data": {
      "text/plain": [
       "74.3"
      ]
     },
     "execution_count": 33,
     "metadata": {},
     "output_type": "execute_result"
    }
   ],
   "source": [
    "FHSpass_math = (FHSpass_df[\"math_score\"].sum() / FHStudent_tot)\n",
    "round(FHSpass_math, 1)"
   ]
  },
  {
   "cell_type": "code",
   "execution_count": 34,
   "metadata": {},
   "outputs": [
    {
     "data": {
      "text/plain": [
       "78.9"
      ]
     },
     "execution_count": 34,
     "metadata": {},
     "output_type": "execute_result"
    }
   ],
   "source": [
    "#Calculate the total passing rate \n",
    "FHSpass_rate = (FHSave_math + FHSave_reading)/2\n",
    "FHSpass_rate\n",
    "round(FHSpass_rate, 1)"
   ]
  },
  {
   "cell_type": "code",
   "execution_count": 35,
   "metadata": {},
   "outputs": [
    {
     "data": {
      "text/html": [
       "<div>\n",
       "<style scoped>\n",
       "    .dataframe tbody tr th:only-of-type {\n",
       "        vertical-align: middle;\n",
       "    }\n",
       "\n",
       "    .dataframe tbody tr th {\n",
       "        vertical-align: top;\n",
       "    }\n",
       "\n",
       "    .dataframe thead th {\n",
       "        text-align: right;\n",
       "    }\n",
       "</style>\n",
       "<table border=\"1\" class=\"dataframe\">\n",
       "  <thead>\n",
       "    <tr style=\"text-align: right;\">\n",
       "      <th></th>\n",
       "      <th>School ID</th>\n",
       "      <th>school_name</th>\n",
       "      <th>type</th>\n",
       "      <th>size</th>\n",
       "      <th>budget</th>\n",
       "      <th>Student ID</th>\n",
       "      <th>student_name</th>\n",
       "      <th>gender</th>\n",
       "      <th>grade</th>\n",
       "      <th>reading_score</th>\n",
       "      <th>math_score</th>\n",
       "    </tr>\n",
       "  </thead>\n",
       "  <tbody>\n",
       "    <tr>\n",
       "      <th>5866</th>\n",
       "      <td>2</td>\n",
       "      <td>Shelton High School</td>\n",
       "      <td>Charter</td>\n",
       "      <td>1761</td>\n",
       "      <td>1056600</td>\n",
       "      <td>5866</td>\n",
       "      <td>Jamie Montgomery</td>\n",
       "      <td>F</td>\n",
       "      <td>12th</td>\n",
       "      <td>70</td>\n",
       "      <td>91</td>\n",
       "    </tr>\n",
       "    <tr>\n",
       "      <th>5867</th>\n",
       "      <td>2</td>\n",
       "      <td>Shelton High School</td>\n",
       "      <td>Charter</td>\n",
       "      <td>1761</td>\n",
       "      <td>1056600</td>\n",
       "      <td>5867</td>\n",
       "      <td>Shannon Phillips</td>\n",
       "      <td>F</td>\n",
       "      <td>10th</td>\n",
       "      <td>84</td>\n",
       "      <td>71</td>\n",
       "    </tr>\n",
       "    <tr>\n",
       "      <th>5868</th>\n",
       "      <td>2</td>\n",
       "      <td>Shelton High School</td>\n",
       "      <td>Charter</td>\n",
       "      <td>1761</td>\n",
       "      <td>1056600</td>\n",
       "      <td>5868</td>\n",
       "      <td>Todd Barber</td>\n",
       "      <td>M</td>\n",
       "      <td>11th</td>\n",
       "      <td>95</td>\n",
       "      <td>99</td>\n",
       "    </tr>\n",
       "    <tr>\n",
       "      <th>5869</th>\n",
       "      <td>2</td>\n",
       "      <td>Shelton High School</td>\n",
       "      <td>Charter</td>\n",
       "      <td>1761</td>\n",
       "      <td>1056600</td>\n",
       "      <td>5869</td>\n",
       "      <td>Desiree King</td>\n",
       "      <td>F</td>\n",
       "      <td>12th</td>\n",
       "      <td>76</td>\n",
       "      <td>95</td>\n",
       "    </tr>\n",
       "    <tr>\n",
       "      <th>5870</th>\n",
       "      <td>2</td>\n",
       "      <td>Shelton High School</td>\n",
       "      <td>Charter</td>\n",
       "      <td>1761</td>\n",
       "      <td>1056600</td>\n",
       "      <td>5870</td>\n",
       "      <td>Melissa Roberts</td>\n",
       "      <td>F</td>\n",
       "      <td>10th</td>\n",
       "      <td>71</td>\n",
       "      <td>82</td>\n",
       "    </tr>\n",
       "  </tbody>\n",
       "</table>\n",
       "</div>"
      ],
      "text/plain": [
       "      School ID          school_name     type  size   budget  Student ID  \\\n",
       "5866          2  Shelton High School  Charter  1761  1056600        5866   \n",
       "5867          2  Shelton High School  Charter  1761  1056600        5867   \n",
       "5868          2  Shelton High School  Charter  1761  1056600        5868   \n",
       "5869          2  Shelton High School  Charter  1761  1056600        5869   \n",
       "5870          2  Shelton High School  Charter  1761  1056600        5870   \n",
       "\n",
       "          student_name gender grade  reading_score  math_score  \n",
       "5866  Jamie Montgomery      F  12th             70          91  \n",
       "5867  Shannon Phillips      F  10th             84          71  \n",
       "5868       Todd Barber      M  11th             95          99  \n",
       "5869      Desiree King      F  12th             76          95  \n",
       "5870   Melissa Roberts      F  10th             71          82  "
      ]
     },
     "execution_count": 35,
     "metadata": {},
     "output_type": "execute_result"
    }
   ],
   "source": [
    "#Shelton High School Summary \n",
    "S_HS = all_data.loc[(all_data[\"school_name\"] == \"Shelton High School\"), :]\n",
    "S_HS.head()"
   ]
  },
  {
   "cell_type": "code",
   "execution_count": 36,
   "metadata": {},
   "outputs": [
    {
     "data": {
      "text/plain": [
       "76.7"
      ]
     },
     "execution_count": 36,
     "metadata": {},
     "output_type": "execute_result"
    }
   ],
   "source": [
    "SHSave_math = S_HS[\"math_score\"].mean()\n",
    "round(FHSave_math, 1)"
   ]
  },
  {
   "cell_type": "code",
   "execution_count": 37,
   "metadata": {},
   "outputs": [
    {
     "data": {
      "text/plain": [
       "83.7"
      ]
     },
     "execution_count": 37,
     "metadata": {},
     "output_type": "execute_result"
    }
   ],
   "source": [
    "SHSave_reading = S_HS[\"reading_score\"].mean()\n",
    "round(SHSave_reading, 1)"
   ]
  },
  {
   "cell_type": "code",
   "execution_count": 38,
   "metadata": {},
   "outputs": [
    {
     "data": {
      "text/plain": [
       "1738"
      ]
     },
     "execution_count": 38,
     "metadata": {},
     "output_type": "execute_result"
    }
   ],
   "source": [
    "SHStudent_tot = len(S_HS[\"student_name\"].unique())\n",
    "SHStudent_tot"
   ]
  },
  {
   "cell_type": "code",
   "execution_count": 39,
   "metadata": {},
   "outputs": [
    {
     "data": {
      "text/plain": [
       "607.9"
      ]
     },
     "execution_count": 39,
     "metadata": {},
     "output_type": "execute_result"
    }
   ],
   "source": [
    "SHSBudper_st = S_HS.iloc[0,4] / SHStudent_tot\n",
    "SHSBudper_st\n",
    "round(SHSBudper_st, 1)"
   ]
  },
  {
   "cell_type": "code",
   "execution_count": 40,
   "metadata": {},
   "outputs": [
    {
     "data": {
      "text/html": [
       "<div>\n",
       "<style scoped>\n",
       "    .dataframe tbody tr th:only-of-type {\n",
       "        vertical-align: middle;\n",
       "    }\n",
       "\n",
       "    .dataframe tbody tr th {\n",
       "        vertical-align: top;\n",
       "    }\n",
       "\n",
       "    .dataframe thead th {\n",
       "        text-align: right;\n",
       "    }\n",
       "</style>\n",
       "<table border=\"1\" class=\"dataframe\">\n",
       "  <thead>\n",
       "    <tr style=\"text-align: right;\">\n",
       "      <th></th>\n",
       "      <th>School ID</th>\n",
       "      <th>school_name</th>\n",
       "      <th>type</th>\n",
       "      <th>size</th>\n",
       "      <th>budget</th>\n",
       "      <th>Student ID</th>\n",
       "      <th>student_name</th>\n",
       "      <th>gender</th>\n",
       "      <th>grade</th>\n",
       "      <th>reading_score</th>\n",
       "      <th>math_score</th>\n",
       "    </tr>\n",
       "  </thead>\n",
       "  <tbody>\n",
       "    <tr>\n",
       "      <th>5866</th>\n",
       "      <td>2</td>\n",
       "      <td>Shelton High School</td>\n",
       "      <td>Charter</td>\n",
       "      <td>1761</td>\n",
       "      <td>1056600</td>\n",
       "      <td>5866</td>\n",
       "      <td>Jamie Montgomery</td>\n",
       "      <td>F</td>\n",
       "      <td>12th</td>\n",
       "      <td>70</td>\n",
       "      <td>91</td>\n",
       "    </tr>\n",
       "    <tr>\n",
       "      <th>5867</th>\n",
       "      <td>2</td>\n",
       "      <td>Shelton High School</td>\n",
       "      <td>Charter</td>\n",
       "      <td>1761</td>\n",
       "      <td>1056600</td>\n",
       "      <td>5867</td>\n",
       "      <td>Shannon Phillips</td>\n",
       "      <td>F</td>\n",
       "      <td>10th</td>\n",
       "      <td>84</td>\n",
       "      <td>71</td>\n",
       "    </tr>\n",
       "    <tr>\n",
       "      <th>5868</th>\n",
       "      <td>2</td>\n",
       "      <td>Shelton High School</td>\n",
       "      <td>Charter</td>\n",
       "      <td>1761</td>\n",
       "      <td>1056600</td>\n",
       "      <td>5868</td>\n",
       "      <td>Todd Barber</td>\n",
       "      <td>M</td>\n",
       "      <td>11th</td>\n",
       "      <td>95</td>\n",
       "      <td>99</td>\n",
       "    </tr>\n",
       "    <tr>\n",
       "      <th>5869</th>\n",
       "      <td>2</td>\n",
       "      <td>Shelton High School</td>\n",
       "      <td>Charter</td>\n",
       "      <td>1761</td>\n",
       "      <td>1056600</td>\n",
       "      <td>5869</td>\n",
       "      <td>Desiree King</td>\n",
       "      <td>F</td>\n",
       "      <td>12th</td>\n",
       "      <td>76</td>\n",
       "      <td>95</td>\n",
       "    </tr>\n",
       "    <tr>\n",
       "      <th>5870</th>\n",
       "      <td>2</td>\n",
       "      <td>Shelton High School</td>\n",
       "      <td>Charter</td>\n",
       "      <td>1761</td>\n",
       "      <td>1056600</td>\n",
       "      <td>5870</td>\n",
       "      <td>Melissa Roberts</td>\n",
       "      <td>F</td>\n",
       "      <td>10th</td>\n",
       "      <td>71</td>\n",
       "      <td>82</td>\n",
       "    </tr>\n",
       "  </tbody>\n",
       "</table>\n",
       "</div>"
      ],
      "text/plain": [
       "      School ID          school_name     type  size   budget  Student ID  \\\n",
       "5866          2  Shelton High School  Charter  1761  1056600        5866   \n",
       "5867          2  Shelton High School  Charter  1761  1056600        5867   \n",
       "5868          2  Shelton High School  Charter  1761  1056600        5868   \n",
       "5869          2  Shelton High School  Charter  1761  1056600        5869   \n",
       "5870          2  Shelton High School  Charter  1761  1056600        5870   \n",
       "\n",
       "          student_name gender grade  reading_score  math_score  \n",
       "5866  Jamie Montgomery      F  12th             70          91  \n",
       "5867  Shannon Phillips      F  10th             84          71  \n",
       "5868       Todd Barber      M  11th             95          99  \n",
       "5869      Desiree King      F  12th             76          95  \n",
       "5870   Melissa Roberts      F  10th             71          82  "
      ]
     },
     "execution_count": 40,
     "metadata": {},
     "output_type": "execute_result"
    }
   ],
   "source": [
    "SHSpass_df = S_HS.loc[(S_HS[\"math_score\"] > 69.9) | (S_HS[\"reading_score\"] > 69.9), :]\n",
    "SHSpass_df.head()"
   ]
  },
  {
   "cell_type": "code",
   "execution_count": 41,
   "metadata": {},
   "outputs": [
    {
     "data": {
      "text/plain": [
       "84.7"
      ]
     },
     "execution_count": 41,
     "metadata": {},
     "output_type": "execute_result"
    }
   ],
   "source": [
    "SHSpass_read = (SHSpass_df[\"reading_score\"].sum() / SHStudent_tot)\n",
    "round(SHSpass_read, 1)"
   ]
  },
  {
   "cell_type": "code",
   "execution_count": 42,
   "metadata": {},
   "outputs": [
    {
     "data": {
      "text/plain": [
       "84.3"
      ]
     },
     "execution_count": 42,
     "metadata": {},
     "output_type": "execute_result"
    }
   ],
   "source": [
    "SHSpass_math = (SHSpass_df[\"math_score\"].sum() / SHStudent_tot)\n",
    "round(SHSpass_math, 1)"
   ]
  },
  {
   "cell_type": "code",
   "execution_count": 43,
   "metadata": {},
   "outputs": [
    {
     "data": {
      "text/plain": [
       "83.5"
      ]
     },
     "execution_count": 43,
     "metadata": {},
     "output_type": "execute_result"
    }
   ],
   "source": [
    "#Calculate the total passing rate \n",
    "SHSpass_rate = (SHSave_math + SHSave_reading)/2\n",
    "SHSpass_rate\n",
    "round(SHSpass_rate, 1)"
   ]
  },
  {
   "cell_type": "code",
   "execution_count": 44,
   "metadata": {},
   "outputs": [
    {
     "data": {
      "text/html": [
       "<div>\n",
       "<style scoped>\n",
       "    .dataframe tbody tr th:only-of-type {\n",
       "        vertical-align: middle;\n",
       "    }\n",
       "\n",
       "    .dataframe tbody tr th {\n",
       "        vertical-align: top;\n",
       "    }\n",
       "\n",
       "    .dataframe thead th {\n",
       "        text-align: right;\n",
       "    }\n",
       "</style>\n",
       "<table border=\"1\" class=\"dataframe\">\n",
       "  <thead>\n",
       "    <tr style=\"text-align: right;\">\n",
       "      <th></th>\n",
       "      <th>School ID</th>\n",
       "      <th>school_name</th>\n",
       "      <th>type</th>\n",
       "      <th>size</th>\n",
       "      <th>budget</th>\n",
       "      <th>Student ID</th>\n",
       "      <th>student_name</th>\n",
       "      <th>gender</th>\n",
       "      <th>grade</th>\n",
       "      <th>reading_score</th>\n",
       "      <th>math_score</th>\n",
       "    </tr>\n",
       "  </thead>\n",
       "  <tbody>\n",
       "    <tr>\n",
       "      <th>7627</th>\n",
       "      <td>3</td>\n",
       "      <td>Hernandez High School</td>\n",
       "      <td>District</td>\n",
       "      <td>4635</td>\n",
       "      <td>3022020</td>\n",
       "      <td>7627</td>\n",
       "      <td>Russell Davis</td>\n",
       "      <td>M</td>\n",
       "      <td>10th</td>\n",
       "      <td>70</td>\n",
       "      <td>88</td>\n",
       "    </tr>\n",
       "    <tr>\n",
       "      <th>7628</th>\n",
       "      <td>3</td>\n",
       "      <td>Hernandez High School</td>\n",
       "      <td>District</td>\n",
       "      <td>4635</td>\n",
       "      <td>3022020</td>\n",
       "      <td>7628</td>\n",
       "      <td>Timothy Walker</td>\n",
       "      <td>M</td>\n",
       "      <td>12th</td>\n",
       "      <td>97</td>\n",
       "      <td>93</td>\n",
       "    </tr>\n",
       "    <tr>\n",
       "      <th>7629</th>\n",
       "      <td>3</td>\n",
       "      <td>Hernandez High School</td>\n",
       "      <td>District</td>\n",
       "      <td>4635</td>\n",
       "      <td>3022020</td>\n",
       "      <td>7629</td>\n",
       "      <td>Katie Johnston</td>\n",
       "      <td>F</td>\n",
       "      <td>12th</td>\n",
       "      <td>83</td>\n",
       "      <td>81</td>\n",
       "    </tr>\n",
       "    <tr>\n",
       "      <th>7630</th>\n",
       "      <td>3</td>\n",
       "      <td>Hernandez High School</td>\n",
       "      <td>District</td>\n",
       "      <td>4635</td>\n",
       "      <td>3022020</td>\n",
       "      <td>7630</td>\n",
       "      <td>Joann Oconnell</td>\n",
       "      <td>F</td>\n",
       "      <td>12th</td>\n",
       "      <td>77</td>\n",
       "      <td>91</td>\n",
       "    </tr>\n",
       "    <tr>\n",
       "      <th>7631</th>\n",
       "      <td>3</td>\n",
       "      <td>Hernandez High School</td>\n",
       "      <td>District</td>\n",
       "      <td>4635</td>\n",
       "      <td>3022020</td>\n",
       "      <td>7631</td>\n",
       "      <td>Sarah Alexander</td>\n",
       "      <td>F</td>\n",
       "      <td>10th</td>\n",
       "      <td>84</td>\n",
       "      <td>93</td>\n",
       "    </tr>\n",
       "  </tbody>\n",
       "</table>\n",
       "</div>"
      ],
      "text/plain": [
       "      School ID            school_name      type  size   budget  Student ID  \\\n",
       "7627          3  Hernandez High School  District  4635  3022020        7627   \n",
       "7628          3  Hernandez High School  District  4635  3022020        7628   \n",
       "7629          3  Hernandez High School  District  4635  3022020        7629   \n",
       "7630          3  Hernandez High School  District  4635  3022020        7630   \n",
       "7631          3  Hernandez High School  District  4635  3022020        7631   \n",
       "\n",
       "         student_name gender grade  reading_score  math_score  \n",
       "7627    Russell Davis      M  10th             70          88  \n",
       "7628   Timothy Walker      M  12th             97          93  \n",
       "7629   Katie Johnston      F  12th             83          81  \n",
       "7630   Joann Oconnell      F  12th             77          91  \n",
       "7631  Sarah Alexander      F  10th             84          93  "
      ]
     },
     "execution_count": 44,
     "metadata": {},
     "output_type": "execute_result"
    }
   ],
   "source": [
    "#Hernandez High School Summary \n",
    "HZ_HS = all_data.loc[(all_data[\"school_name\"] == \"Hernandez High School\"), :]\n",
    "HZ_HS.head()"
   ]
  },
  {
   "cell_type": "code",
   "execution_count": 45,
   "metadata": {},
   "outputs": [
    {
     "data": {
      "text/plain": [
       "77.3"
      ]
     },
     "execution_count": 45,
     "metadata": {},
     "output_type": "execute_result"
    }
   ],
   "source": [
    "HZHSave_math = HZ_HS[\"math_score\"].mean()\n",
    "round(HZHSave_math, 1)"
   ]
  },
  {
   "cell_type": "code",
   "execution_count": 46,
   "metadata": {},
   "outputs": [
    {
     "data": {
      "text/plain": [
       "80.9"
      ]
     },
     "execution_count": 46,
     "metadata": {},
     "output_type": "execute_result"
    }
   ],
   "source": [
    "HZHSave_reading = HZ_HS[\"reading_score\"].mean()\n",
    "round(HZHSave_reading, 1)"
   ]
  },
  {
   "cell_type": "code",
   "execution_count": 47,
   "metadata": {},
   "outputs": [
    {
     "data": {
      "text/plain": [
       "4501"
      ]
     },
     "execution_count": 47,
     "metadata": {},
     "output_type": "execute_result"
    }
   ],
   "source": [
    "HZHStudent_tot = len(HZ_HS[\"student_name\"].unique())\n",
    "HZHStudent_tot"
   ]
  },
  {
   "cell_type": "code",
   "execution_count": 48,
   "metadata": {},
   "outputs": [
    {
     "data": {
      "text/plain": [
       "671.4"
      ]
     },
     "execution_count": 48,
     "metadata": {},
     "output_type": "execute_result"
    }
   ],
   "source": [
    "HZHSBudper_st = HZ_HS.iloc[0,4] / HZHStudent_tot\n",
    "HZHSBudper_st\n",
    "round(HZHSBudper_st, 1)"
   ]
  },
  {
   "cell_type": "code",
   "execution_count": 49,
   "metadata": {},
   "outputs": [
    {
     "data": {
      "text/html": [
       "<div>\n",
       "<style scoped>\n",
       "    .dataframe tbody tr th:only-of-type {\n",
       "        vertical-align: middle;\n",
       "    }\n",
       "\n",
       "    .dataframe tbody tr th {\n",
       "        vertical-align: top;\n",
       "    }\n",
       "\n",
       "    .dataframe thead th {\n",
       "        text-align: right;\n",
       "    }\n",
       "</style>\n",
       "<table border=\"1\" class=\"dataframe\">\n",
       "  <thead>\n",
       "    <tr style=\"text-align: right;\">\n",
       "      <th></th>\n",
       "      <th>School ID</th>\n",
       "      <th>school_name</th>\n",
       "      <th>type</th>\n",
       "      <th>size</th>\n",
       "      <th>budget</th>\n",
       "      <th>Student ID</th>\n",
       "      <th>student_name</th>\n",
       "      <th>gender</th>\n",
       "      <th>grade</th>\n",
       "      <th>reading_score</th>\n",
       "      <th>math_score</th>\n",
       "    </tr>\n",
       "  </thead>\n",
       "  <tbody>\n",
       "    <tr>\n",
       "      <th>7627</th>\n",
       "      <td>3</td>\n",
       "      <td>Hernandez High School</td>\n",
       "      <td>District</td>\n",
       "      <td>4635</td>\n",
       "      <td>3022020</td>\n",
       "      <td>7627</td>\n",
       "      <td>Russell Davis</td>\n",
       "      <td>M</td>\n",
       "      <td>10th</td>\n",
       "      <td>70</td>\n",
       "      <td>88</td>\n",
       "    </tr>\n",
       "    <tr>\n",
       "      <th>7628</th>\n",
       "      <td>3</td>\n",
       "      <td>Hernandez High School</td>\n",
       "      <td>District</td>\n",
       "      <td>4635</td>\n",
       "      <td>3022020</td>\n",
       "      <td>7628</td>\n",
       "      <td>Timothy Walker</td>\n",
       "      <td>M</td>\n",
       "      <td>12th</td>\n",
       "      <td>97</td>\n",
       "      <td>93</td>\n",
       "    </tr>\n",
       "    <tr>\n",
       "      <th>7629</th>\n",
       "      <td>3</td>\n",
       "      <td>Hernandez High School</td>\n",
       "      <td>District</td>\n",
       "      <td>4635</td>\n",
       "      <td>3022020</td>\n",
       "      <td>7629</td>\n",
       "      <td>Katie Johnston</td>\n",
       "      <td>F</td>\n",
       "      <td>12th</td>\n",
       "      <td>83</td>\n",
       "      <td>81</td>\n",
       "    </tr>\n",
       "    <tr>\n",
       "      <th>7630</th>\n",
       "      <td>3</td>\n",
       "      <td>Hernandez High School</td>\n",
       "      <td>District</td>\n",
       "      <td>4635</td>\n",
       "      <td>3022020</td>\n",
       "      <td>7630</td>\n",
       "      <td>Joann Oconnell</td>\n",
       "      <td>F</td>\n",
       "      <td>12th</td>\n",
       "      <td>77</td>\n",
       "      <td>91</td>\n",
       "    </tr>\n",
       "    <tr>\n",
       "      <th>7631</th>\n",
       "      <td>3</td>\n",
       "      <td>Hernandez High School</td>\n",
       "      <td>District</td>\n",
       "      <td>4635</td>\n",
       "      <td>3022020</td>\n",
       "      <td>7631</td>\n",
       "      <td>Sarah Alexander</td>\n",
       "      <td>F</td>\n",
       "      <td>10th</td>\n",
       "      <td>84</td>\n",
       "      <td>93</td>\n",
       "    </tr>\n",
       "  </tbody>\n",
       "</table>\n",
       "</div>"
      ],
      "text/plain": [
       "      School ID            school_name      type  size   budget  Student ID  \\\n",
       "7627          3  Hernandez High School  District  4635  3022020        7627   \n",
       "7628          3  Hernandez High School  District  4635  3022020        7628   \n",
       "7629          3  Hernandez High School  District  4635  3022020        7629   \n",
       "7630          3  Hernandez High School  District  4635  3022020        7630   \n",
       "7631          3  Hernandez High School  District  4635  3022020        7631   \n",
       "\n",
       "         student_name gender grade  reading_score  math_score  \n",
       "7627    Russell Davis      M  10th             70          88  \n",
       "7628   Timothy Walker      M  12th             97          93  \n",
       "7629   Katie Johnston      F  12th             83          81  \n",
       "7630   Joann Oconnell      F  12th             77          91  \n",
       "7631  Sarah Alexander      F  10th             84          93  "
      ]
     },
     "execution_count": 49,
     "metadata": {},
     "output_type": "execute_result"
    }
   ],
   "source": [
    "HZHSpass_df = HZ_HS.loc[(HZ_HS[\"math_score\"] > 69.9) | (HZ_HS[\"reading_score\"] > 69.9), :]\n",
    "HZHSpass_df.head()"
   ]
  },
  {
   "cell_type": "code",
   "execution_count": 50,
   "metadata": {},
   "outputs": [
    {
     "data": {
      "text/plain": [
       "79.3"
      ]
     },
     "execution_count": 50,
     "metadata": {},
     "output_type": "execute_result"
    }
   ],
   "source": [
    "HZHSpass_read = (HZHSpass_df[\"reading_score\"].sum() / HZHStudent_tot)\n",
    "round(HZHSpass_read, 1)"
   ]
  },
  {
   "cell_type": "code",
   "execution_count": 51,
   "metadata": {},
   "outputs": [
    {
     "data": {
      "text/plain": [
       "75.8"
      ]
     },
     "execution_count": 51,
     "metadata": {},
     "output_type": "execute_result"
    }
   ],
   "source": [
    "HZHSpass_math = (HZHSpass_df[\"math_score\"].sum() / HZHStudent_tot)\n",
    "round(HZHSpass_math, 1)"
   ]
  },
  {
   "cell_type": "code",
   "execution_count": 52,
   "metadata": {},
   "outputs": [
    {
     "data": {
      "text/plain": [
       "79.1"
      ]
     },
     "execution_count": 52,
     "metadata": {},
     "output_type": "execute_result"
    }
   ],
   "source": [
    "#Calculate the total passing rate \n",
    "HZHSpass_rate = (HZHSave_math + HZHSave_reading)/2\n",
    "HZHSpass_rate\n",
    "round(HZHSpass_rate, 1)"
   ]
  },
  {
   "cell_type": "code",
   "execution_count": 53,
   "metadata": {},
   "outputs": [
    {
     "data": {
      "text/html": [
       "<div>\n",
       "<style scoped>\n",
       "    .dataframe tbody tr th:only-of-type {\n",
       "        vertical-align: middle;\n",
       "    }\n",
       "\n",
       "    .dataframe tbody tr th {\n",
       "        vertical-align: top;\n",
       "    }\n",
       "\n",
       "    .dataframe thead th {\n",
       "        text-align: right;\n",
       "    }\n",
       "</style>\n",
       "<table border=\"1\" class=\"dataframe\">\n",
       "  <thead>\n",
       "    <tr style=\"text-align: right;\">\n",
       "      <th></th>\n",
       "      <th>School ID</th>\n",
       "      <th>school_name</th>\n",
       "      <th>type</th>\n",
       "      <th>size</th>\n",
       "      <th>budget</th>\n",
       "      <th>Student ID</th>\n",
       "      <th>student_name</th>\n",
       "      <th>gender</th>\n",
       "      <th>grade</th>\n",
       "      <th>reading_score</th>\n",
       "      <th>math_score</th>\n",
       "    </tr>\n",
       "  </thead>\n",
       "  <tbody>\n",
       "    <tr>\n",
       "      <th>12262</th>\n",
       "      <td>4</td>\n",
       "      <td>Griffin High School</td>\n",
       "      <td>Charter</td>\n",
       "      <td>1468</td>\n",
       "      <td>917500</td>\n",
       "      <td>12262</td>\n",
       "      <td>Heather Wright</td>\n",
       "      <td>F</td>\n",
       "      <td>11th</td>\n",
       "      <td>79</td>\n",
       "      <td>68</td>\n",
       "    </tr>\n",
       "    <tr>\n",
       "      <th>12263</th>\n",
       "      <td>4</td>\n",
       "      <td>Griffin High School</td>\n",
       "      <td>Charter</td>\n",
       "      <td>1468</td>\n",
       "      <td>917500</td>\n",
       "      <td>12263</td>\n",
       "      <td>Elizabeth Goodwin</td>\n",
       "      <td>F</td>\n",
       "      <td>10th</td>\n",
       "      <td>91</td>\n",
       "      <td>81</td>\n",
       "    </tr>\n",
       "    <tr>\n",
       "      <th>12264</th>\n",
       "      <td>4</td>\n",
       "      <td>Griffin High School</td>\n",
       "      <td>Charter</td>\n",
       "      <td>1468</td>\n",
       "      <td>917500</td>\n",
       "      <td>12264</td>\n",
       "      <td>Michelle Wong</td>\n",
       "      <td>F</td>\n",
       "      <td>9th</td>\n",
       "      <td>78</td>\n",
       "      <td>89</td>\n",
       "    </tr>\n",
       "    <tr>\n",
       "      <th>12265</th>\n",
       "      <td>4</td>\n",
       "      <td>Griffin High School</td>\n",
       "      <td>Charter</td>\n",
       "      <td>1468</td>\n",
       "      <td>917500</td>\n",
       "      <td>12265</td>\n",
       "      <td>Scott Roth MD</td>\n",
       "      <td>M</td>\n",
       "      <td>11th</td>\n",
       "      <td>91</td>\n",
       "      <td>85</td>\n",
       "    </tr>\n",
       "    <tr>\n",
       "      <th>12266</th>\n",
       "      <td>4</td>\n",
       "      <td>Griffin High School</td>\n",
       "      <td>Charter</td>\n",
       "      <td>1468</td>\n",
       "      <td>917500</td>\n",
       "      <td>12266</td>\n",
       "      <td>Billy Wilson</td>\n",
       "      <td>M</td>\n",
       "      <td>12th</td>\n",
       "      <td>76</td>\n",
       "      <td>83</td>\n",
       "    </tr>\n",
       "  </tbody>\n",
       "</table>\n",
       "</div>"
      ],
      "text/plain": [
       "       School ID          school_name     type  size  budget  Student ID  \\\n",
       "12262          4  Griffin High School  Charter  1468  917500       12262   \n",
       "12263          4  Griffin High School  Charter  1468  917500       12263   \n",
       "12264          4  Griffin High School  Charter  1468  917500       12264   \n",
       "12265          4  Griffin High School  Charter  1468  917500       12265   \n",
       "12266          4  Griffin High School  Charter  1468  917500       12266   \n",
       "\n",
       "            student_name gender grade  reading_score  math_score  \n",
       "12262     Heather Wright      F  11th             79          68  \n",
       "12263  Elizabeth Goodwin      F  10th             91          81  \n",
       "12264      Michelle Wong      F   9th             78          89  \n",
       "12265      Scott Roth MD      M  11th             91          85  \n",
       "12266       Billy Wilson      M  12th             76          83  "
      ]
     },
     "execution_count": 53,
     "metadata": {},
     "output_type": "execute_result"
    }
   ],
   "source": [
    "#Griffin High School Summary \n",
    "G_HS = all_data.loc[(all_data[\"school_name\"] == \"Griffin High School\"), :]\n",
    "G_HS.head()"
   ]
  },
  {
   "cell_type": "code",
   "execution_count": 54,
   "metadata": {},
   "outputs": [
    {
     "data": {
      "text/plain": [
       "83.4"
      ]
     },
     "execution_count": 54,
     "metadata": {},
     "output_type": "execute_result"
    }
   ],
   "source": [
    "GHSave_math = G_HS[\"math_score\"].mean()\n",
    "round(GHSave_math, 1)"
   ]
  },
  {
   "cell_type": "code",
   "execution_count": 55,
   "metadata": {},
   "outputs": [
    {
     "data": {
      "text/plain": [
       "83.8"
      ]
     },
     "execution_count": 55,
     "metadata": {},
     "output_type": "execute_result"
    }
   ],
   "source": [
    "GHSave_reading = G_HS[\"reading_score\"].mean()\n",
    "round(GHSave_reading, 1)"
   ]
  },
  {
   "cell_type": "code",
   "execution_count": 56,
   "metadata": {},
   "outputs": [
    {
     "data": {
      "text/plain": [
       "1449"
      ]
     },
     "execution_count": 56,
     "metadata": {},
     "output_type": "execute_result"
    }
   ],
   "source": [
    "GHStudent_tot = len(G_HS[\"student_name\"].unique())\n",
    "GHStudent_tot"
   ]
  },
  {
   "cell_type": "code",
   "execution_count": 57,
   "metadata": {},
   "outputs": [
    {
     "data": {
      "text/plain": [
       "633.2"
      ]
     },
     "execution_count": 57,
     "metadata": {},
     "output_type": "execute_result"
    }
   ],
   "source": [
    "GHSBudper_st = G_HS.iloc[0,4] / GHStudent_tot\n",
    "GHSBudper_st\n",
    "round(GHSBudper_st, 1)"
   ]
  },
  {
   "cell_type": "code",
   "execution_count": 58,
   "metadata": {},
   "outputs": [
    {
     "data": {
      "text/html": [
       "<div>\n",
       "<style scoped>\n",
       "    .dataframe tbody tr th:only-of-type {\n",
       "        vertical-align: middle;\n",
       "    }\n",
       "\n",
       "    .dataframe tbody tr th {\n",
       "        vertical-align: top;\n",
       "    }\n",
       "\n",
       "    .dataframe thead th {\n",
       "        text-align: right;\n",
       "    }\n",
       "</style>\n",
       "<table border=\"1\" class=\"dataframe\">\n",
       "  <thead>\n",
       "    <tr style=\"text-align: right;\">\n",
       "      <th></th>\n",
       "      <th>School ID</th>\n",
       "      <th>school_name</th>\n",
       "      <th>type</th>\n",
       "      <th>size</th>\n",
       "      <th>budget</th>\n",
       "      <th>Student ID</th>\n",
       "      <th>student_name</th>\n",
       "      <th>gender</th>\n",
       "      <th>grade</th>\n",
       "      <th>reading_score</th>\n",
       "      <th>math_score</th>\n",
       "    </tr>\n",
       "  </thead>\n",
       "  <tbody>\n",
       "    <tr>\n",
       "      <th>12262</th>\n",
       "      <td>4</td>\n",
       "      <td>Griffin High School</td>\n",
       "      <td>Charter</td>\n",
       "      <td>1468</td>\n",
       "      <td>917500</td>\n",
       "      <td>12262</td>\n",
       "      <td>Heather Wright</td>\n",
       "      <td>F</td>\n",
       "      <td>11th</td>\n",
       "      <td>79</td>\n",
       "      <td>68</td>\n",
       "    </tr>\n",
       "    <tr>\n",
       "      <th>12263</th>\n",
       "      <td>4</td>\n",
       "      <td>Griffin High School</td>\n",
       "      <td>Charter</td>\n",
       "      <td>1468</td>\n",
       "      <td>917500</td>\n",
       "      <td>12263</td>\n",
       "      <td>Elizabeth Goodwin</td>\n",
       "      <td>F</td>\n",
       "      <td>10th</td>\n",
       "      <td>91</td>\n",
       "      <td>81</td>\n",
       "    </tr>\n",
       "    <tr>\n",
       "      <th>12264</th>\n",
       "      <td>4</td>\n",
       "      <td>Griffin High School</td>\n",
       "      <td>Charter</td>\n",
       "      <td>1468</td>\n",
       "      <td>917500</td>\n",
       "      <td>12264</td>\n",
       "      <td>Michelle Wong</td>\n",
       "      <td>F</td>\n",
       "      <td>9th</td>\n",
       "      <td>78</td>\n",
       "      <td>89</td>\n",
       "    </tr>\n",
       "    <tr>\n",
       "      <th>12265</th>\n",
       "      <td>4</td>\n",
       "      <td>Griffin High School</td>\n",
       "      <td>Charter</td>\n",
       "      <td>1468</td>\n",
       "      <td>917500</td>\n",
       "      <td>12265</td>\n",
       "      <td>Scott Roth MD</td>\n",
       "      <td>M</td>\n",
       "      <td>11th</td>\n",
       "      <td>91</td>\n",
       "      <td>85</td>\n",
       "    </tr>\n",
       "    <tr>\n",
       "      <th>12266</th>\n",
       "      <td>4</td>\n",
       "      <td>Griffin High School</td>\n",
       "      <td>Charter</td>\n",
       "      <td>1468</td>\n",
       "      <td>917500</td>\n",
       "      <td>12266</td>\n",
       "      <td>Billy Wilson</td>\n",
       "      <td>M</td>\n",
       "      <td>12th</td>\n",
       "      <td>76</td>\n",
       "      <td>83</td>\n",
       "    </tr>\n",
       "  </tbody>\n",
       "</table>\n",
       "</div>"
      ],
      "text/plain": [
       "       School ID          school_name     type  size  budget  Student ID  \\\n",
       "12262          4  Griffin High School  Charter  1468  917500       12262   \n",
       "12263          4  Griffin High School  Charter  1468  917500       12263   \n",
       "12264          4  Griffin High School  Charter  1468  917500       12264   \n",
       "12265          4  Griffin High School  Charter  1468  917500       12265   \n",
       "12266          4  Griffin High School  Charter  1468  917500       12266   \n",
       "\n",
       "            student_name gender grade  reading_score  math_score  \n",
       "12262     Heather Wright      F  11th             79          68  \n",
       "12263  Elizabeth Goodwin      F  10th             91          81  \n",
       "12264      Michelle Wong      F   9th             78          89  \n",
       "12265      Scott Roth MD      M  11th             91          85  \n",
       "12266       Billy Wilson      M  12th             76          83  "
      ]
     },
     "execution_count": 58,
     "metadata": {},
     "output_type": "execute_result"
    }
   ],
   "source": [
    "GHSpass_df = G_HS.loc[(G_HS[\"math_score\"] > 69.9) | (G_HS[\"reading_score\"] > 69.9), :]\n",
    "GHSpass_df.head()"
   ]
  },
  {
   "cell_type": "code",
   "execution_count": 59,
   "metadata": {},
   "outputs": [
    {
     "data": {
      "text/plain": [
       "84.9"
      ]
     },
     "execution_count": 59,
     "metadata": {},
     "output_type": "execute_result"
    }
   ],
   "source": [
    "GHSpass_read = (GHSpass_df[\"reading_score\"].sum() / GHStudent_tot)\n",
    "round(GHSpass_read, 1)"
   ]
  },
  {
   "cell_type": "code",
   "execution_count": 60,
   "metadata": {},
   "outputs": [
    {
     "data": {
      "text/plain": [
       "84.4"
      ]
     },
     "execution_count": 60,
     "metadata": {},
     "output_type": "execute_result"
    }
   ],
   "source": [
    "GHSpass_math = (GHSpass_df[\"math_score\"].sum() / GHStudent_tot)\n",
    "round(GHSpass_math, 1)"
   ]
  },
  {
   "cell_type": "code",
   "execution_count": 61,
   "metadata": {},
   "outputs": [
    {
     "data": {
      "text/plain": [
       "83.6"
      ]
     },
     "execution_count": 61,
     "metadata": {},
     "output_type": "execute_result"
    }
   ],
   "source": [
    "#Calculate the total passing rate \n",
    "GHSpass_rate = (GHSave_math + GHSave_reading)/2\n",
    "GHSpass_rate\n",
    "round(GHSpass_rate, 1)"
   ]
  },
  {
   "cell_type": "code",
   "execution_count": 62,
   "metadata": {},
   "outputs": [],
   "source": [
    "#Wilson High School Summary "
   ]
  },
  {
   "cell_type": "code",
   "execution_count": 63,
   "metadata": {},
   "outputs": [
    {
     "data": {
      "text/html": [
       "<div>\n",
       "<style scoped>\n",
       "    .dataframe tbody tr th:only-of-type {\n",
       "        vertical-align: middle;\n",
       "    }\n",
       "\n",
       "    .dataframe tbody tr th {\n",
       "        vertical-align: top;\n",
       "    }\n",
       "\n",
       "    .dataframe thead th {\n",
       "        text-align: right;\n",
       "    }\n",
       "</style>\n",
       "<table border=\"1\" class=\"dataframe\">\n",
       "  <thead>\n",
       "    <tr style=\"text-align: right;\">\n",
       "      <th></th>\n",
       "      <th>School ID</th>\n",
       "      <th>school_name</th>\n",
       "      <th>type</th>\n",
       "      <th>size</th>\n",
       "      <th>budget</th>\n",
       "      <th>Student ID</th>\n",
       "      <th>student_name</th>\n",
       "      <th>gender</th>\n",
       "      <th>grade</th>\n",
       "      <th>reading_score</th>\n",
       "      <th>math_score</th>\n",
       "    </tr>\n",
       "  </thead>\n",
       "  <tbody>\n",
       "    <tr>\n",
       "      <th>13730</th>\n",
       "      <td>5</td>\n",
       "      <td>Wilson High School</td>\n",
       "      <td>Charter</td>\n",
       "      <td>2283</td>\n",
       "      <td>1319574</td>\n",
       "      <td>13730</td>\n",
       "      <td>Kelli Anderson</td>\n",
       "      <td>F</td>\n",
       "      <td>10th</td>\n",
       "      <td>84</td>\n",
       "      <td>71</td>\n",
       "    </tr>\n",
       "    <tr>\n",
       "      <th>13731</th>\n",
       "      <td>5</td>\n",
       "      <td>Wilson High School</td>\n",
       "      <td>Charter</td>\n",
       "      <td>2283</td>\n",
       "      <td>1319574</td>\n",
       "      <td>13731</td>\n",
       "      <td>Russell Ramirez</td>\n",
       "      <td>M</td>\n",
       "      <td>10th</td>\n",
       "      <td>72</td>\n",
       "      <td>87</td>\n",
       "    </tr>\n",
       "    <tr>\n",
       "      <th>13732</th>\n",
       "      <td>5</td>\n",
       "      <td>Wilson High School</td>\n",
       "      <td>Charter</td>\n",
       "      <td>2283</td>\n",
       "      <td>1319574</td>\n",
       "      <td>13732</td>\n",
       "      <td>Eric Butler</td>\n",
       "      <td>M</td>\n",
       "      <td>10th</td>\n",
       "      <td>97</td>\n",
       "      <td>82</td>\n",
       "    </tr>\n",
       "    <tr>\n",
       "      <th>13733</th>\n",
       "      <td>5</td>\n",
       "      <td>Wilson High School</td>\n",
       "      <td>Charter</td>\n",
       "      <td>2283</td>\n",
       "      <td>1319574</td>\n",
       "      <td>13733</td>\n",
       "      <td>Warren Kerr</td>\n",
       "      <td>M</td>\n",
       "      <td>11th</td>\n",
       "      <td>93</td>\n",
       "      <td>68</td>\n",
       "    </tr>\n",
       "    <tr>\n",
       "      <th>13734</th>\n",
       "      <td>5</td>\n",
       "      <td>Wilson High School</td>\n",
       "      <td>Charter</td>\n",
       "      <td>2283</td>\n",
       "      <td>1319574</td>\n",
       "      <td>13734</td>\n",
       "      <td>Gail Hall</td>\n",
       "      <td>F</td>\n",
       "      <td>9th</td>\n",
       "      <td>79</td>\n",
       "      <td>72</td>\n",
       "    </tr>\n",
       "  </tbody>\n",
       "</table>\n",
       "</div>"
      ],
      "text/plain": [
       "       School ID         school_name     type  size   budget  Student ID  \\\n",
       "13730          5  Wilson High School  Charter  2283  1319574       13730   \n",
       "13731          5  Wilson High School  Charter  2283  1319574       13731   \n",
       "13732          5  Wilson High School  Charter  2283  1319574       13732   \n",
       "13733          5  Wilson High School  Charter  2283  1319574       13733   \n",
       "13734          5  Wilson High School  Charter  2283  1319574       13734   \n",
       "\n",
       "          student_name gender grade  reading_score  math_score  \n",
       "13730   Kelli Anderson      F  10th             84          71  \n",
       "13731  Russell Ramirez      M  10th             72          87  \n",
       "13732      Eric Butler      M  10th             97          82  \n",
       "13733      Warren Kerr      M  11th             93          68  \n",
       "13734        Gail Hall      F   9th             79          72  "
      ]
     },
     "execution_count": 63,
     "metadata": {},
     "output_type": "execute_result"
    }
   ],
   "source": [
    "W_HS = all_data.loc[(all_data[\"school_name\"] == \"Wilson High School\"), :]\n",
    "W_HS.head()"
   ]
  },
  {
   "cell_type": "code",
   "execution_count": 64,
   "metadata": {},
   "outputs": [
    {
     "data": {
      "text/plain": [
       "83.3"
      ]
     },
     "execution_count": 64,
     "metadata": {},
     "output_type": "execute_result"
    }
   ],
   "source": [
    "WHSave_math = W_HS[\"math_score\"].mean()\n",
    "round(WHSave_math, 1)"
   ]
  },
  {
   "cell_type": "code",
   "execution_count": 65,
   "metadata": {},
   "outputs": [
    {
     "data": {
      "text/plain": [
       "84.0"
      ]
     },
     "execution_count": 65,
     "metadata": {},
     "output_type": "execute_result"
    }
   ],
   "source": [
    "WHSave_reading = W_HS[\"reading_score\"].mean()\n",
    "round(WHSave_reading, 1)"
   ]
  },
  {
   "cell_type": "code",
   "execution_count": 66,
   "metadata": {},
   "outputs": [
    {
     "data": {
      "text/plain": [
       "2248"
      ]
     },
     "execution_count": 66,
     "metadata": {},
     "output_type": "execute_result"
    }
   ],
   "source": [
    "WHStudent_tot = len(W_HS[\"student_name\"].unique())\n",
    "WHStudent_tot"
   ]
  },
  {
   "cell_type": "code",
   "execution_count": 67,
   "metadata": {},
   "outputs": [
    {
     "data": {
      "text/plain": [
       "587.0"
      ]
     },
     "execution_count": 67,
     "metadata": {},
     "output_type": "execute_result"
    }
   ],
   "source": [
    "WHSBudper_st = W_HS.iloc[0,4] / WHStudent_tot\n",
    "WHSBudper_st\n",
    "round(WHSBudper_st, 1)"
   ]
  },
  {
   "cell_type": "code",
   "execution_count": 68,
   "metadata": {},
   "outputs": [
    {
     "data": {
      "text/html": [
       "<div>\n",
       "<style scoped>\n",
       "    .dataframe tbody tr th:only-of-type {\n",
       "        vertical-align: middle;\n",
       "    }\n",
       "\n",
       "    .dataframe tbody tr th {\n",
       "        vertical-align: top;\n",
       "    }\n",
       "\n",
       "    .dataframe thead th {\n",
       "        text-align: right;\n",
       "    }\n",
       "</style>\n",
       "<table border=\"1\" class=\"dataframe\">\n",
       "  <thead>\n",
       "    <tr style=\"text-align: right;\">\n",
       "      <th></th>\n",
       "      <th>School ID</th>\n",
       "      <th>school_name</th>\n",
       "      <th>type</th>\n",
       "      <th>size</th>\n",
       "      <th>budget</th>\n",
       "      <th>Student ID</th>\n",
       "      <th>student_name</th>\n",
       "      <th>gender</th>\n",
       "      <th>grade</th>\n",
       "      <th>reading_score</th>\n",
       "      <th>math_score</th>\n",
       "    </tr>\n",
       "  </thead>\n",
       "  <tbody>\n",
       "    <tr>\n",
       "      <th>13730</th>\n",
       "      <td>5</td>\n",
       "      <td>Wilson High School</td>\n",
       "      <td>Charter</td>\n",
       "      <td>2283</td>\n",
       "      <td>1319574</td>\n",
       "      <td>13730</td>\n",
       "      <td>Kelli Anderson</td>\n",
       "      <td>F</td>\n",
       "      <td>10th</td>\n",
       "      <td>84</td>\n",
       "      <td>71</td>\n",
       "    </tr>\n",
       "    <tr>\n",
       "      <th>13731</th>\n",
       "      <td>5</td>\n",
       "      <td>Wilson High School</td>\n",
       "      <td>Charter</td>\n",
       "      <td>2283</td>\n",
       "      <td>1319574</td>\n",
       "      <td>13731</td>\n",
       "      <td>Russell Ramirez</td>\n",
       "      <td>M</td>\n",
       "      <td>10th</td>\n",
       "      <td>72</td>\n",
       "      <td>87</td>\n",
       "    </tr>\n",
       "    <tr>\n",
       "      <th>13732</th>\n",
       "      <td>5</td>\n",
       "      <td>Wilson High School</td>\n",
       "      <td>Charter</td>\n",
       "      <td>2283</td>\n",
       "      <td>1319574</td>\n",
       "      <td>13732</td>\n",
       "      <td>Eric Butler</td>\n",
       "      <td>M</td>\n",
       "      <td>10th</td>\n",
       "      <td>97</td>\n",
       "      <td>82</td>\n",
       "    </tr>\n",
       "    <tr>\n",
       "      <th>13733</th>\n",
       "      <td>5</td>\n",
       "      <td>Wilson High School</td>\n",
       "      <td>Charter</td>\n",
       "      <td>2283</td>\n",
       "      <td>1319574</td>\n",
       "      <td>13733</td>\n",
       "      <td>Warren Kerr</td>\n",
       "      <td>M</td>\n",
       "      <td>11th</td>\n",
       "      <td>93</td>\n",
       "      <td>68</td>\n",
       "    </tr>\n",
       "    <tr>\n",
       "      <th>13734</th>\n",
       "      <td>5</td>\n",
       "      <td>Wilson High School</td>\n",
       "      <td>Charter</td>\n",
       "      <td>2283</td>\n",
       "      <td>1319574</td>\n",
       "      <td>13734</td>\n",
       "      <td>Gail Hall</td>\n",
       "      <td>F</td>\n",
       "      <td>9th</td>\n",
       "      <td>79</td>\n",
       "      <td>72</td>\n",
       "    </tr>\n",
       "  </tbody>\n",
       "</table>\n",
       "</div>"
      ],
      "text/plain": [
       "       School ID         school_name     type  size   budget  Student ID  \\\n",
       "13730          5  Wilson High School  Charter  2283  1319574       13730   \n",
       "13731          5  Wilson High School  Charter  2283  1319574       13731   \n",
       "13732          5  Wilson High School  Charter  2283  1319574       13732   \n",
       "13733          5  Wilson High School  Charter  2283  1319574       13733   \n",
       "13734          5  Wilson High School  Charter  2283  1319574       13734   \n",
       "\n",
       "          student_name gender grade  reading_score  math_score  \n",
       "13730   Kelli Anderson      F  10th             84          71  \n",
       "13731  Russell Ramirez      M  10th             72          87  \n",
       "13732      Eric Butler      M  10th             97          82  \n",
       "13733      Warren Kerr      M  11th             93          68  \n",
       "13734        Gail Hall      F   9th             79          72  "
      ]
     },
     "execution_count": 68,
     "metadata": {},
     "output_type": "execute_result"
    }
   ],
   "source": [
    "WHSpass_df = W_HS.loc[(W_HS[\"math_score\"] > 69.9) | (W_HS[\"reading_score\"] > 69.9), :]\n",
    "WHSpass_df.head()"
   ]
  },
  {
   "cell_type": "code",
   "execution_count": 69,
   "metadata": {},
   "outputs": [
    {
     "data": {
      "text/plain": [
       "85.2"
      ]
     },
     "execution_count": 69,
     "metadata": {},
     "output_type": "execute_result"
    }
   ],
   "source": [
    "WHSpass_read = (WHSpass_df[\"reading_score\"].sum() / WHStudent_tot)\n",
    "round(WHSpass_read, 1)"
   ]
  },
  {
   "cell_type": "code",
   "execution_count": 70,
   "metadata": {},
   "outputs": [
    {
     "data": {
      "text/plain": [
       "84.4"
      ]
     },
     "execution_count": 70,
     "metadata": {},
     "output_type": "execute_result"
    }
   ],
   "source": [
    "WHSpass_math = (WHSpass_df[\"math_score\"].sum() / WHStudent_tot)\n",
    "round(WHSpass_math, 1)"
   ]
  },
  {
   "cell_type": "code",
   "execution_count": 71,
   "metadata": {},
   "outputs": [
    {
     "data": {
      "text/plain": [
       "83.6"
      ]
     },
     "execution_count": 71,
     "metadata": {},
     "output_type": "execute_result"
    }
   ],
   "source": [
    "#Calculate the total passing rate \n",
    "WHSpass_rate = (WHSave_math + WHSave_reading)/2\n",
    "WHSpass_rate\n",
    "round(WHSpass_rate, 1)"
   ]
  },
  {
   "cell_type": "code",
   "execution_count": 72,
   "metadata": {},
   "outputs": [
    {
     "data": {
      "text/html": [
       "<div>\n",
       "<style scoped>\n",
       "    .dataframe tbody tr th:only-of-type {\n",
       "        vertical-align: middle;\n",
       "    }\n",
       "\n",
       "    .dataframe tbody tr th {\n",
       "        vertical-align: top;\n",
       "    }\n",
       "\n",
       "    .dataframe thead th {\n",
       "        text-align: right;\n",
       "    }\n",
       "</style>\n",
       "<table border=\"1\" class=\"dataframe\">\n",
       "  <thead>\n",
       "    <tr style=\"text-align: right;\">\n",
       "      <th></th>\n",
       "      <th>School ID</th>\n",
       "      <th>school_name</th>\n",
       "      <th>type</th>\n",
       "      <th>size</th>\n",
       "      <th>budget</th>\n",
       "      <th>Student ID</th>\n",
       "      <th>student_name</th>\n",
       "      <th>gender</th>\n",
       "      <th>grade</th>\n",
       "      <th>reading_score</th>\n",
       "      <th>math_score</th>\n",
       "    </tr>\n",
       "  </thead>\n",
       "  <tbody>\n",
       "    <tr>\n",
       "      <th>16013</th>\n",
       "      <td>6</td>\n",
       "      <td>Cabrera High School</td>\n",
       "      <td>Charter</td>\n",
       "      <td>1858</td>\n",
       "      <td>1081356</td>\n",
       "      <td>16013</td>\n",
       "      <td>Olivia Short</td>\n",
       "      <td>F</td>\n",
       "      <td>11th</td>\n",
       "      <td>94</td>\n",
       "      <td>94</td>\n",
       "    </tr>\n",
       "    <tr>\n",
       "      <th>16014</th>\n",
       "      <td>6</td>\n",
       "      <td>Cabrera High School</td>\n",
       "      <td>Charter</td>\n",
       "      <td>1858</td>\n",
       "      <td>1081356</td>\n",
       "      <td>16014</td>\n",
       "      <td>Kerry Jones</td>\n",
       "      <td>F</td>\n",
       "      <td>9th</td>\n",
       "      <td>98</td>\n",
       "      <td>97</td>\n",
       "    </tr>\n",
       "    <tr>\n",
       "      <th>16015</th>\n",
       "      <td>6</td>\n",
       "      <td>Cabrera High School</td>\n",
       "      <td>Charter</td>\n",
       "      <td>1858</td>\n",
       "      <td>1081356</td>\n",
       "      <td>16015</td>\n",
       "      <td>Bruce Jackson</td>\n",
       "      <td>M</td>\n",
       "      <td>12th</td>\n",
       "      <td>78</td>\n",
       "      <td>83</td>\n",
       "    </tr>\n",
       "    <tr>\n",
       "      <th>16016</th>\n",
       "      <td>6</td>\n",
       "      <td>Cabrera High School</td>\n",
       "      <td>Charter</td>\n",
       "      <td>1858</td>\n",
       "      <td>1081356</td>\n",
       "      <td>16016</td>\n",
       "      <td>Amy Green</td>\n",
       "      <td>F</td>\n",
       "      <td>12th</td>\n",
       "      <td>89</td>\n",
       "      <td>92</td>\n",
       "    </tr>\n",
       "    <tr>\n",
       "      <th>16017</th>\n",
       "      <td>6</td>\n",
       "      <td>Cabrera High School</td>\n",
       "      <td>Charter</td>\n",
       "      <td>1858</td>\n",
       "      <td>1081356</td>\n",
       "      <td>16017</td>\n",
       "      <td>Melanie Mason</td>\n",
       "      <td>F</td>\n",
       "      <td>12th</td>\n",
       "      <td>96</td>\n",
       "      <td>71</td>\n",
       "    </tr>\n",
       "  </tbody>\n",
       "</table>\n",
       "</div>"
      ],
      "text/plain": [
       "       School ID          school_name     type  size   budget  Student ID  \\\n",
       "16013          6  Cabrera High School  Charter  1858  1081356       16013   \n",
       "16014          6  Cabrera High School  Charter  1858  1081356       16014   \n",
       "16015          6  Cabrera High School  Charter  1858  1081356       16015   \n",
       "16016          6  Cabrera High School  Charter  1858  1081356       16016   \n",
       "16017          6  Cabrera High School  Charter  1858  1081356       16017   \n",
       "\n",
       "        student_name gender grade  reading_score  math_score  \n",
       "16013   Olivia Short      F  11th             94          94  \n",
       "16014    Kerry Jones      F   9th             98          97  \n",
       "16015  Bruce Jackson      M  12th             78          83  \n",
       "16016      Amy Green      F  12th             89          92  \n",
       "16017  Melanie Mason      F  12th             96          71  "
      ]
     },
     "execution_count": 72,
     "metadata": {},
     "output_type": "execute_result"
    }
   ],
   "source": [
    "#Cabrera High School Summary \n",
    "C_HS = all_data.loc[(all_data[\"school_name\"] == \"Cabrera High School\"), :]\n",
    "C_HS.head()"
   ]
  },
  {
   "cell_type": "code",
   "execution_count": 73,
   "metadata": {},
   "outputs": [
    {
     "data": {
      "text/plain": [
       "83.1"
      ]
     },
     "execution_count": 73,
     "metadata": {},
     "output_type": "execute_result"
    }
   ],
   "source": [
    "CHSave_math = C_HS[\"math_score\"].mean()\n",
    "round(CHSave_math, 1)"
   ]
  },
  {
   "cell_type": "code",
   "execution_count": 74,
   "metadata": {},
   "outputs": [
    {
     "data": {
      "text/plain": [
       "84.0"
      ]
     },
     "execution_count": 74,
     "metadata": {},
     "output_type": "execute_result"
    }
   ],
   "source": [
    "CHSave_reading = C_HS[\"reading_score\"].mean()\n",
    "round(CHSave_reading, 1)"
   ]
  },
  {
   "cell_type": "code",
   "execution_count": 75,
   "metadata": {},
   "outputs": [
    {
     "data": {
      "text/plain": [
       "1834"
      ]
     },
     "execution_count": 75,
     "metadata": {},
     "output_type": "execute_result"
    }
   ],
   "source": [
    "CHStudent_tot = len(C_HS[\"student_name\"].unique())\n",
    "CHStudent_tot"
   ]
  },
  {
   "cell_type": "code",
   "execution_count": 76,
   "metadata": {},
   "outputs": [
    {
     "data": {
      "text/plain": [
       "589.6"
      ]
     },
     "execution_count": 76,
     "metadata": {},
     "output_type": "execute_result"
    }
   ],
   "source": [
    "CHSBudper_st = C_HS.iloc[0,4] / CHStudent_tot\n",
    "CHSBudper_st\n",
    "round(CHSBudper_st, 1)"
   ]
  },
  {
   "cell_type": "code",
   "execution_count": 77,
   "metadata": {},
   "outputs": [
    {
     "data": {
      "text/html": [
       "<div>\n",
       "<style scoped>\n",
       "    .dataframe tbody tr th:only-of-type {\n",
       "        vertical-align: middle;\n",
       "    }\n",
       "\n",
       "    .dataframe tbody tr th {\n",
       "        vertical-align: top;\n",
       "    }\n",
       "\n",
       "    .dataframe thead th {\n",
       "        text-align: right;\n",
       "    }\n",
       "</style>\n",
       "<table border=\"1\" class=\"dataframe\">\n",
       "  <thead>\n",
       "    <tr style=\"text-align: right;\">\n",
       "      <th></th>\n",
       "      <th>School ID</th>\n",
       "      <th>school_name</th>\n",
       "      <th>type</th>\n",
       "      <th>size</th>\n",
       "      <th>budget</th>\n",
       "      <th>Student ID</th>\n",
       "      <th>student_name</th>\n",
       "      <th>gender</th>\n",
       "      <th>grade</th>\n",
       "      <th>reading_score</th>\n",
       "      <th>math_score</th>\n",
       "    </tr>\n",
       "  </thead>\n",
       "  <tbody>\n",
       "    <tr>\n",
       "      <th>16013</th>\n",
       "      <td>6</td>\n",
       "      <td>Cabrera High School</td>\n",
       "      <td>Charter</td>\n",
       "      <td>1858</td>\n",
       "      <td>1081356</td>\n",
       "      <td>16013</td>\n",
       "      <td>Olivia Short</td>\n",
       "      <td>F</td>\n",
       "      <td>11th</td>\n",
       "      <td>94</td>\n",
       "      <td>94</td>\n",
       "    </tr>\n",
       "    <tr>\n",
       "      <th>16014</th>\n",
       "      <td>6</td>\n",
       "      <td>Cabrera High School</td>\n",
       "      <td>Charter</td>\n",
       "      <td>1858</td>\n",
       "      <td>1081356</td>\n",
       "      <td>16014</td>\n",
       "      <td>Kerry Jones</td>\n",
       "      <td>F</td>\n",
       "      <td>9th</td>\n",
       "      <td>98</td>\n",
       "      <td>97</td>\n",
       "    </tr>\n",
       "    <tr>\n",
       "      <th>16015</th>\n",
       "      <td>6</td>\n",
       "      <td>Cabrera High School</td>\n",
       "      <td>Charter</td>\n",
       "      <td>1858</td>\n",
       "      <td>1081356</td>\n",
       "      <td>16015</td>\n",
       "      <td>Bruce Jackson</td>\n",
       "      <td>M</td>\n",
       "      <td>12th</td>\n",
       "      <td>78</td>\n",
       "      <td>83</td>\n",
       "    </tr>\n",
       "    <tr>\n",
       "      <th>16016</th>\n",
       "      <td>6</td>\n",
       "      <td>Cabrera High School</td>\n",
       "      <td>Charter</td>\n",
       "      <td>1858</td>\n",
       "      <td>1081356</td>\n",
       "      <td>16016</td>\n",
       "      <td>Amy Green</td>\n",
       "      <td>F</td>\n",
       "      <td>12th</td>\n",
       "      <td>89</td>\n",
       "      <td>92</td>\n",
       "    </tr>\n",
       "    <tr>\n",
       "      <th>16017</th>\n",
       "      <td>6</td>\n",
       "      <td>Cabrera High School</td>\n",
       "      <td>Charter</td>\n",
       "      <td>1858</td>\n",
       "      <td>1081356</td>\n",
       "      <td>16017</td>\n",
       "      <td>Melanie Mason</td>\n",
       "      <td>F</td>\n",
       "      <td>12th</td>\n",
       "      <td>96</td>\n",
       "      <td>71</td>\n",
       "    </tr>\n",
       "  </tbody>\n",
       "</table>\n",
       "</div>"
      ],
      "text/plain": [
       "       School ID          school_name     type  size   budget  Student ID  \\\n",
       "16013          6  Cabrera High School  Charter  1858  1081356       16013   \n",
       "16014          6  Cabrera High School  Charter  1858  1081356       16014   \n",
       "16015          6  Cabrera High School  Charter  1858  1081356       16015   \n",
       "16016          6  Cabrera High School  Charter  1858  1081356       16016   \n",
       "16017          6  Cabrera High School  Charter  1858  1081356       16017   \n",
       "\n",
       "        student_name gender grade  reading_score  math_score  \n",
       "16013   Olivia Short      F  11th             94          94  \n",
       "16014    Kerry Jones      F   9th             98          97  \n",
       "16015  Bruce Jackson      M  12th             78          83  \n",
       "16016      Amy Green      F  12th             89          92  \n",
       "16017  Melanie Mason      F  12th             96          71  "
      ]
     },
     "execution_count": 77,
     "metadata": {},
     "output_type": "execute_result"
    }
   ],
   "source": [
    "CHSpass_df = C_HS.loc[(C_HS[\"math_score\"] > 69.9) | (C_HS[\"reading_score\"] > 69.9), :]\n",
    "CHSpass_df.head()"
   ]
  },
  {
   "cell_type": "code",
   "execution_count": 78,
   "metadata": {},
   "outputs": [
    {
     "data": {
      "text/plain": [
       "85.0"
      ]
     },
     "execution_count": 78,
     "metadata": {},
     "output_type": "execute_result"
    }
   ],
   "source": [
    "CHSpass_read = (CHSpass_df[\"reading_score\"].sum() / CHStudent_tot)\n",
    "round(CHSpass_read, 1)"
   ]
  },
  {
   "cell_type": "code",
   "execution_count": 79,
   "metadata": {},
   "outputs": [
    {
     "data": {
      "text/plain": [
       "84.0"
      ]
     },
     "execution_count": 79,
     "metadata": {},
     "output_type": "execute_result"
    }
   ],
   "source": [
    "CHSpass_math = (CHSpass_df[\"math_score\"].sum() / CHStudent_tot)\n",
    "round(CHSpass_math, 1)"
   ]
  },
  {
   "cell_type": "code",
   "execution_count": 80,
   "metadata": {},
   "outputs": [
    {
     "data": {
      "text/plain": [
       "83.5"
      ]
     },
     "execution_count": 80,
     "metadata": {},
     "output_type": "execute_result"
    }
   ],
   "source": [
    "#Calculate the total passing rate \n",
    "CHSpass_rate = (CHSave_math + CHSave_reading)/2\n",
    "CHSpass_rate\n",
    "round(CHSpass_rate, 1)"
   ]
  },
  {
   "cell_type": "code",
   "execution_count": 81,
   "metadata": {},
   "outputs": [
    {
     "data": {
      "text/html": [
       "<div>\n",
       "<style scoped>\n",
       "    .dataframe tbody tr th:only-of-type {\n",
       "        vertical-align: middle;\n",
       "    }\n",
       "\n",
       "    .dataframe tbody tr th {\n",
       "        vertical-align: top;\n",
       "    }\n",
       "\n",
       "    .dataframe thead th {\n",
       "        text-align: right;\n",
       "    }\n",
       "</style>\n",
       "<table border=\"1\" class=\"dataframe\">\n",
       "  <thead>\n",
       "    <tr style=\"text-align: right;\">\n",
       "      <th></th>\n",
       "      <th>School ID</th>\n",
       "      <th>school_name</th>\n",
       "      <th>type</th>\n",
       "      <th>size</th>\n",
       "      <th>budget</th>\n",
       "      <th>Student ID</th>\n",
       "      <th>student_name</th>\n",
       "      <th>gender</th>\n",
       "      <th>grade</th>\n",
       "      <th>reading_score</th>\n",
       "      <th>math_score</th>\n",
       "    </tr>\n",
       "  </thead>\n",
       "  <tbody>\n",
       "    <tr>\n",
       "      <th>17871</th>\n",
       "      <td>7</td>\n",
       "      <td>Bailey High School</td>\n",
       "      <td>District</td>\n",
       "      <td>4976</td>\n",
       "      <td>3124928</td>\n",
       "      <td>17871</td>\n",
       "      <td>Blake Martin</td>\n",
       "      <td>M</td>\n",
       "      <td>9th</td>\n",
       "      <td>75</td>\n",
       "      <td>59</td>\n",
       "    </tr>\n",
       "    <tr>\n",
       "      <th>17872</th>\n",
       "      <td>7</td>\n",
       "      <td>Bailey High School</td>\n",
       "      <td>District</td>\n",
       "      <td>4976</td>\n",
       "      <td>3124928</td>\n",
       "      <td>17872</td>\n",
       "      <td>Kathryn Kane</td>\n",
       "      <td>F</td>\n",
       "      <td>12th</td>\n",
       "      <td>84</td>\n",
       "      <td>58</td>\n",
       "    </tr>\n",
       "    <tr>\n",
       "      <th>17873</th>\n",
       "      <td>7</td>\n",
       "      <td>Bailey High School</td>\n",
       "      <td>District</td>\n",
       "      <td>4976</td>\n",
       "      <td>3124928</td>\n",
       "      <td>17873</td>\n",
       "      <td>Richard Haas</td>\n",
       "      <td>M</td>\n",
       "      <td>11th</td>\n",
       "      <td>79</td>\n",
       "      <td>86</td>\n",
       "    </tr>\n",
       "    <tr>\n",
       "      <th>17874</th>\n",
       "      <td>7</td>\n",
       "      <td>Bailey High School</td>\n",
       "      <td>District</td>\n",
       "      <td>4976</td>\n",
       "      <td>3124928</td>\n",
       "      <td>17874</td>\n",
       "      <td>Frank Marsh</td>\n",
       "      <td>M</td>\n",
       "      <td>9th</td>\n",
       "      <td>71</td>\n",
       "      <td>89</td>\n",
       "    </tr>\n",
       "    <tr>\n",
       "      <th>17875</th>\n",
       "      <td>7</td>\n",
       "      <td>Bailey High School</td>\n",
       "      <td>District</td>\n",
       "      <td>4976</td>\n",
       "      <td>3124928</td>\n",
       "      <td>17875</td>\n",
       "      <td>Charles Goodman Jr.</td>\n",
       "      <td>M</td>\n",
       "      <td>9th</td>\n",
       "      <td>90</td>\n",
       "      <td>61</td>\n",
       "    </tr>\n",
       "  </tbody>\n",
       "</table>\n",
       "</div>"
      ],
      "text/plain": [
       "       School ID         school_name      type  size   budget  Student ID  \\\n",
       "17871          7  Bailey High School  District  4976  3124928       17871   \n",
       "17872          7  Bailey High School  District  4976  3124928       17872   \n",
       "17873          7  Bailey High School  District  4976  3124928       17873   \n",
       "17874          7  Bailey High School  District  4976  3124928       17874   \n",
       "17875          7  Bailey High School  District  4976  3124928       17875   \n",
       "\n",
       "              student_name gender grade  reading_score  math_score  \n",
       "17871         Blake Martin      M   9th             75          59  \n",
       "17872         Kathryn Kane      F  12th             84          58  \n",
       "17873         Richard Haas      M  11th             79          86  \n",
       "17874          Frank Marsh      M   9th             71          89  \n",
       "17875  Charles Goodman Jr.      M   9th             90          61  "
      ]
     },
     "execution_count": 81,
     "metadata": {},
     "output_type": "execute_result"
    }
   ],
   "source": [
    "#Bailey High School Summary \n",
    "B_HS = all_data.loc[(all_data[\"school_name\"] == \"Bailey High School\"), :]\n",
    "B_HS.head()"
   ]
  },
  {
   "cell_type": "code",
   "execution_count": 82,
   "metadata": {},
   "outputs": [
    {
     "data": {
      "text/plain": [
       "77.0"
      ]
     },
     "execution_count": 82,
     "metadata": {},
     "output_type": "execute_result"
    }
   ],
   "source": [
    "BHSave_math = B_HS[\"math_score\"].mean()\n",
    "round(BHSave_math, 1)"
   ]
  },
  {
   "cell_type": "code",
   "execution_count": 83,
   "metadata": {},
   "outputs": [
    {
     "data": {
      "text/plain": [
       "81.0"
      ]
     },
     "execution_count": 83,
     "metadata": {},
     "output_type": "execute_result"
    }
   ],
   "source": [
    "BHSave_reading = B_HS[\"reading_score\"].mean()\n",
    "round(BHSave_reading, 1)"
   ]
  },
  {
   "cell_type": "code",
   "execution_count": 84,
   "metadata": {},
   "outputs": [
    {
     "data": {
      "text/plain": [
       "4799"
      ]
     },
     "execution_count": 84,
     "metadata": {},
     "output_type": "execute_result"
    }
   ],
   "source": [
    "BHStudent_tot = len(B_HS[\"student_name\"].unique())\n",
    "BHStudent_tot"
   ]
  },
  {
   "cell_type": "code",
   "execution_count": 85,
   "metadata": {},
   "outputs": [
    {
     "data": {
      "text/plain": [
       "651.2"
      ]
     },
     "execution_count": 85,
     "metadata": {},
     "output_type": "execute_result"
    }
   ],
   "source": [
    "BHSBudper_st = B_HS.iloc[0,4] / BHStudent_tot\n",
    "BHSBudper_st\n",
    "round(BHSBudper_st, 1)"
   ]
  },
  {
   "cell_type": "code",
   "execution_count": 86,
   "metadata": {},
   "outputs": [
    {
     "data": {
      "text/html": [
       "<div>\n",
       "<style scoped>\n",
       "    .dataframe tbody tr th:only-of-type {\n",
       "        vertical-align: middle;\n",
       "    }\n",
       "\n",
       "    .dataframe tbody tr th {\n",
       "        vertical-align: top;\n",
       "    }\n",
       "\n",
       "    .dataframe thead th {\n",
       "        text-align: right;\n",
       "    }\n",
       "</style>\n",
       "<table border=\"1\" class=\"dataframe\">\n",
       "  <thead>\n",
       "    <tr style=\"text-align: right;\">\n",
       "      <th></th>\n",
       "      <th>School ID</th>\n",
       "      <th>school_name</th>\n",
       "      <th>type</th>\n",
       "      <th>size</th>\n",
       "      <th>budget</th>\n",
       "      <th>Student ID</th>\n",
       "      <th>student_name</th>\n",
       "      <th>gender</th>\n",
       "      <th>grade</th>\n",
       "      <th>reading_score</th>\n",
       "      <th>math_score</th>\n",
       "    </tr>\n",
       "  </thead>\n",
       "  <tbody>\n",
       "    <tr>\n",
       "      <th>17871</th>\n",
       "      <td>7</td>\n",
       "      <td>Bailey High School</td>\n",
       "      <td>District</td>\n",
       "      <td>4976</td>\n",
       "      <td>3124928</td>\n",
       "      <td>17871</td>\n",
       "      <td>Blake Martin</td>\n",
       "      <td>M</td>\n",
       "      <td>9th</td>\n",
       "      <td>75</td>\n",
       "      <td>59</td>\n",
       "    </tr>\n",
       "    <tr>\n",
       "      <th>17872</th>\n",
       "      <td>7</td>\n",
       "      <td>Bailey High School</td>\n",
       "      <td>District</td>\n",
       "      <td>4976</td>\n",
       "      <td>3124928</td>\n",
       "      <td>17872</td>\n",
       "      <td>Kathryn Kane</td>\n",
       "      <td>F</td>\n",
       "      <td>12th</td>\n",
       "      <td>84</td>\n",
       "      <td>58</td>\n",
       "    </tr>\n",
       "    <tr>\n",
       "      <th>17873</th>\n",
       "      <td>7</td>\n",
       "      <td>Bailey High School</td>\n",
       "      <td>District</td>\n",
       "      <td>4976</td>\n",
       "      <td>3124928</td>\n",
       "      <td>17873</td>\n",
       "      <td>Richard Haas</td>\n",
       "      <td>M</td>\n",
       "      <td>11th</td>\n",
       "      <td>79</td>\n",
       "      <td>86</td>\n",
       "    </tr>\n",
       "    <tr>\n",
       "      <th>17874</th>\n",
       "      <td>7</td>\n",
       "      <td>Bailey High School</td>\n",
       "      <td>District</td>\n",
       "      <td>4976</td>\n",
       "      <td>3124928</td>\n",
       "      <td>17874</td>\n",
       "      <td>Frank Marsh</td>\n",
       "      <td>M</td>\n",
       "      <td>9th</td>\n",
       "      <td>71</td>\n",
       "      <td>89</td>\n",
       "    </tr>\n",
       "    <tr>\n",
       "      <th>17875</th>\n",
       "      <td>7</td>\n",
       "      <td>Bailey High School</td>\n",
       "      <td>District</td>\n",
       "      <td>4976</td>\n",
       "      <td>3124928</td>\n",
       "      <td>17875</td>\n",
       "      <td>Charles Goodman Jr.</td>\n",
       "      <td>M</td>\n",
       "      <td>9th</td>\n",
       "      <td>90</td>\n",
       "      <td>61</td>\n",
       "    </tr>\n",
       "  </tbody>\n",
       "</table>\n",
       "</div>"
      ],
      "text/plain": [
       "       School ID         school_name      type  size   budget  Student ID  \\\n",
       "17871          7  Bailey High School  District  4976  3124928       17871   \n",
       "17872          7  Bailey High School  District  4976  3124928       17872   \n",
       "17873          7  Bailey High School  District  4976  3124928       17873   \n",
       "17874          7  Bailey High School  District  4976  3124928       17874   \n",
       "17875          7  Bailey High School  District  4976  3124928       17875   \n",
       "\n",
       "              student_name gender grade  reading_score  math_score  \n",
       "17871         Blake Martin      M   9th             75          59  \n",
       "17872         Kathryn Kane      F  12th             84          58  \n",
       "17873         Richard Haas      M  11th             79          86  \n",
       "17874          Frank Marsh      M   9th             71          89  \n",
       "17875  Charles Goodman Jr.      M   9th             90          61  "
      ]
     },
     "execution_count": 86,
     "metadata": {},
     "output_type": "execute_result"
    }
   ],
   "source": [
    "BHSpass_df = B_HS.loc[(B_HS[\"math_score\"] > 69.9) | (B_HS[\"reading_score\"] > 69.9), :]\n",
    "BHSpass_df.head()"
   ]
  },
  {
   "cell_type": "code",
   "execution_count": 87,
   "metadata": {},
   "outputs": [
    {
     "data": {
      "text/plain": [
       "79.9"
      ]
     },
     "execution_count": 87,
     "metadata": {},
     "output_type": "execute_result"
    }
   ],
   "source": [
    "BHSpass_read = (BHSpass_df[\"reading_score\"].sum() / BHStudent_tot)\n",
    "round(BHSpass_read, 1)"
   ]
  },
  {
   "cell_type": "code",
   "execution_count": 88,
   "metadata": {},
   "outputs": [
    {
     "data": {
      "text/plain": [
       "76.0"
      ]
     },
     "execution_count": 88,
     "metadata": {},
     "output_type": "execute_result"
    }
   ],
   "source": [
    "BHSpass_math = (BHSpass_df[\"math_score\"].sum() / BHStudent_tot)\n",
    "round(BHSpass_math, 1)"
   ]
  },
  {
   "cell_type": "code",
   "execution_count": 89,
   "metadata": {},
   "outputs": [
    {
     "data": {
      "text/plain": [
       "79.0"
      ]
     },
     "execution_count": 89,
     "metadata": {},
     "output_type": "execute_result"
    }
   ],
   "source": [
    "#Calculate the total passing rate \n",
    "BHSpass_rate = (BHSave_math + BHSave_reading)/2\n",
    "BHSpass_rate\n",
    "round(BHSpass_rate, 1)"
   ]
  },
  {
   "cell_type": "code",
   "execution_count": 90,
   "metadata": {},
   "outputs": [
    {
     "data": {
      "text/html": [
       "<div>\n",
       "<style scoped>\n",
       "    .dataframe tbody tr th:only-of-type {\n",
       "        vertical-align: middle;\n",
       "    }\n",
       "\n",
       "    .dataframe tbody tr th {\n",
       "        vertical-align: top;\n",
       "    }\n",
       "\n",
       "    .dataframe thead th {\n",
       "        text-align: right;\n",
       "    }\n",
       "</style>\n",
       "<table border=\"1\" class=\"dataframe\">\n",
       "  <thead>\n",
       "    <tr style=\"text-align: right;\">\n",
       "      <th></th>\n",
       "      <th>School ID</th>\n",
       "      <th>school_name</th>\n",
       "      <th>type</th>\n",
       "      <th>size</th>\n",
       "      <th>budget</th>\n",
       "      <th>Student ID</th>\n",
       "      <th>student_name</th>\n",
       "      <th>gender</th>\n",
       "      <th>grade</th>\n",
       "      <th>reading_score</th>\n",
       "      <th>math_score</th>\n",
       "    </tr>\n",
       "  </thead>\n",
       "  <tbody>\n",
       "    <tr>\n",
       "      <th>22847</th>\n",
       "      <td>8</td>\n",
       "      <td>Holden High School</td>\n",
       "      <td>Charter</td>\n",
       "      <td>427</td>\n",
       "      <td>248087</td>\n",
       "      <td>22847</td>\n",
       "      <td>Daniel Rodriguez</td>\n",
       "      <td>M</td>\n",
       "      <td>11th</td>\n",
       "      <td>86</td>\n",
       "      <td>92</td>\n",
       "    </tr>\n",
       "    <tr>\n",
       "      <th>22848</th>\n",
       "      <td>8</td>\n",
       "      <td>Holden High School</td>\n",
       "      <td>Charter</td>\n",
       "      <td>427</td>\n",
       "      <td>248087</td>\n",
       "      <td>22848</td>\n",
       "      <td>Bryan Perkins</td>\n",
       "      <td>M</td>\n",
       "      <td>9th</td>\n",
       "      <td>91</td>\n",
       "      <td>81</td>\n",
       "    </tr>\n",
       "    <tr>\n",
       "      <th>22849</th>\n",
       "      <td>8</td>\n",
       "      <td>Holden High School</td>\n",
       "      <td>Charter</td>\n",
       "      <td>427</td>\n",
       "      <td>248087</td>\n",
       "      <td>22849</td>\n",
       "      <td>Scott Holder</td>\n",
       "      <td>M</td>\n",
       "      <td>9th</td>\n",
       "      <td>98</td>\n",
       "      <td>93</td>\n",
       "    </tr>\n",
       "    <tr>\n",
       "      <th>22850</th>\n",
       "      <td>8</td>\n",
       "      <td>Holden High School</td>\n",
       "      <td>Charter</td>\n",
       "      <td>427</td>\n",
       "      <td>248087</td>\n",
       "      <td>22850</td>\n",
       "      <td>Troy Jackson</td>\n",
       "      <td>M</td>\n",
       "      <td>11th</td>\n",
       "      <td>80</td>\n",
       "      <td>90</td>\n",
       "    </tr>\n",
       "    <tr>\n",
       "      <th>22851</th>\n",
       "      <td>8</td>\n",
       "      <td>Holden High School</td>\n",
       "      <td>Charter</td>\n",
       "      <td>427</td>\n",
       "      <td>248087</td>\n",
       "      <td>22851</td>\n",
       "      <td>William Gomez</td>\n",
       "      <td>M</td>\n",
       "      <td>9th</td>\n",
       "      <td>76</td>\n",
       "      <td>85</td>\n",
       "    </tr>\n",
       "  </tbody>\n",
       "</table>\n",
       "</div>"
      ],
      "text/plain": [
       "       School ID         school_name     type  size  budget  Student ID  \\\n",
       "22847          8  Holden High School  Charter   427  248087       22847   \n",
       "22848          8  Holden High School  Charter   427  248087       22848   \n",
       "22849          8  Holden High School  Charter   427  248087       22849   \n",
       "22850          8  Holden High School  Charter   427  248087       22850   \n",
       "22851          8  Holden High School  Charter   427  248087       22851   \n",
       "\n",
       "           student_name gender grade  reading_score  math_score  \n",
       "22847  Daniel Rodriguez      M  11th             86          92  \n",
       "22848     Bryan Perkins      M   9th             91          81  \n",
       "22849      Scott Holder      M   9th             98          93  \n",
       "22850      Troy Jackson      M  11th             80          90  \n",
       "22851     William Gomez      M   9th             76          85  "
      ]
     },
     "execution_count": 90,
     "metadata": {},
     "output_type": "execute_result"
    }
   ],
   "source": [
    "#Holden High School Summary \n",
    "HO_HS = all_data.loc[(all_data[\"school_name\"] == \"Holden High School\"), :]\n",
    "HO_HS.head()"
   ]
  },
  {
   "cell_type": "code",
   "execution_count": 91,
   "metadata": {},
   "outputs": [
    {
     "data": {
      "text/plain": [
       "83.8"
      ]
     },
     "execution_count": 91,
     "metadata": {},
     "output_type": "execute_result"
    }
   ],
   "source": [
    "HOHSave_math = HO_HS[\"math_score\"].mean()\n",
    "round(HOHSave_math, 1)"
   ]
  },
  {
   "cell_type": "code",
   "execution_count": 92,
   "metadata": {},
   "outputs": [
    {
     "data": {
      "text/plain": [
       "83.8"
      ]
     },
     "execution_count": 92,
     "metadata": {},
     "output_type": "execute_result"
    }
   ],
   "source": [
    "HOHSave_reading = HO_HS[\"reading_score\"].mean()\n",
    "round(HOHSave_reading, 1)"
   ]
  },
  {
   "cell_type": "code",
   "execution_count": 93,
   "metadata": {},
   "outputs": [
    {
     "data": {
      "text/plain": [
       "424"
      ]
     },
     "execution_count": 93,
     "metadata": {},
     "output_type": "execute_result"
    }
   ],
   "source": [
    "HOHStudent_tot = len(HO_HS[\"student_name\"].unique())\n",
    "HOHStudent_tot"
   ]
  },
  {
   "cell_type": "code",
   "execution_count": 94,
   "metadata": {},
   "outputs": [
    {
     "data": {
      "text/plain": [
       "585.1"
      ]
     },
     "execution_count": 94,
     "metadata": {},
     "output_type": "execute_result"
    }
   ],
   "source": [
    "HOHSBudper_st = HO_HS.iloc[0,4] / HOHStudent_tot\n",
    "HOHSBudper_st\n",
    "round(HOHSBudper_st, 1)"
   ]
  },
  {
   "cell_type": "code",
   "execution_count": 95,
   "metadata": {},
   "outputs": [
    {
     "data": {
      "text/html": [
       "<div>\n",
       "<style scoped>\n",
       "    .dataframe tbody tr th:only-of-type {\n",
       "        vertical-align: middle;\n",
       "    }\n",
       "\n",
       "    .dataframe tbody tr th {\n",
       "        vertical-align: top;\n",
       "    }\n",
       "\n",
       "    .dataframe thead th {\n",
       "        text-align: right;\n",
       "    }\n",
       "</style>\n",
       "<table border=\"1\" class=\"dataframe\">\n",
       "  <thead>\n",
       "    <tr style=\"text-align: right;\">\n",
       "      <th></th>\n",
       "      <th>School ID</th>\n",
       "      <th>school_name</th>\n",
       "      <th>type</th>\n",
       "      <th>size</th>\n",
       "      <th>budget</th>\n",
       "      <th>Student ID</th>\n",
       "      <th>student_name</th>\n",
       "      <th>gender</th>\n",
       "      <th>grade</th>\n",
       "      <th>reading_score</th>\n",
       "      <th>math_score</th>\n",
       "    </tr>\n",
       "  </thead>\n",
       "  <tbody>\n",
       "    <tr>\n",
       "      <th>22847</th>\n",
       "      <td>8</td>\n",
       "      <td>Holden High School</td>\n",
       "      <td>Charter</td>\n",
       "      <td>427</td>\n",
       "      <td>248087</td>\n",
       "      <td>22847</td>\n",
       "      <td>Daniel Rodriguez</td>\n",
       "      <td>M</td>\n",
       "      <td>11th</td>\n",
       "      <td>86</td>\n",
       "      <td>92</td>\n",
       "    </tr>\n",
       "    <tr>\n",
       "      <th>22848</th>\n",
       "      <td>8</td>\n",
       "      <td>Holden High School</td>\n",
       "      <td>Charter</td>\n",
       "      <td>427</td>\n",
       "      <td>248087</td>\n",
       "      <td>22848</td>\n",
       "      <td>Bryan Perkins</td>\n",
       "      <td>M</td>\n",
       "      <td>9th</td>\n",
       "      <td>91</td>\n",
       "      <td>81</td>\n",
       "    </tr>\n",
       "    <tr>\n",
       "      <th>22849</th>\n",
       "      <td>8</td>\n",
       "      <td>Holden High School</td>\n",
       "      <td>Charter</td>\n",
       "      <td>427</td>\n",
       "      <td>248087</td>\n",
       "      <td>22849</td>\n",
       "      <td>Scott Holder</td>\n",
       "      <td>M</td>\n",
       "      <td>9th</td>\n",
       "      <td>98</td>\n",
       "      <td>93</td>\n",
       "    </tr>\n",
       "    <tr>\n",
       "      <th>22850</th>\n",
       "      <td>8</td>\n",
       "      <td>Holden High School</td>\n",
       "      <td>Charter</td>\n",
       "      <td>427</td>\n",
       "      <td>248087</td>\n",
       "      <td>22850</td>\n",
       "      <td>Troy Jackson</td>\n",
       "      <td>M</td>\n",
       "      <td>11th</td>\n",
       "      <td>80</td>\n",
       "      <td>90</td>\n",
       "    </tr>\n",
       "    <tr>\n",
       "      <th>22851</th>\n",
       "      <td>8</td>\n",
       "      <td>Holden High School</td>\n",
       "      <td>Charter</td>\n",
       "      <td>427</td>\n",
       "      <td>248087</td>\n",
       "      <td>22851</td>\n",
       "      <td>William Gomez</td>\n",
       "      <td>M</td>\n",
       "      <td>9th</td>\n",
       "      <td>76</td>\n",
       "      <td>85</td>\n",
       "    </tr>\n",
       "  </tbody>\n",
       "</table>\n",
       "</div>"
      ],
      "text/plain": [
       "       School ID         school_name     type  size  budget  Student ID  \\\n",
       "22847          8  Holden High School  Charter   427  248087       22847   \n",
       "22848          8  Holden High School  Charter   427  248087       22848   \n",
       "22849          8  Holden High School  Charter   427  248087       22849   \n",
       "22850          8  Holden High School  Charter   427  248087       22850   \n",
       "22851          8  Holden High School  Charter   427  248087       22851   \n",
       "\n",
       "           student_name gender grade  reading_score  math_score  \n",
       "22847  Daniel Rodriguez      M  11th             86          92  \n",
       "22848     Bryan Perkins      M   9th             91          81  \n",
       "22849      Scott Holder      M   9th             98          93  \n",
       "22850      Troy Jackson      M  11th             80          90  \n",
       "22851     William Gomez      M   9th             76          85  "
      ]
     },
     "execution_count": 95,
     "metadata": {},
     "output_type": "execute_result"
    }
   ],
   "source": [
    "HOHSpass_df = HO_HS.loc[(HO_HS[\"math_score\"] > 69.9) | (HO_HS[\"reading_score\"] > 69.9), :]\n",
    "HOHSpass_df.head()"
   ]
  },
  {
   "cell_type": "code",
   "execution_count": 96,
   "metadata": {},
   "outputs": [
    {
     "data": {
      "text/plain": [
       "84.1"
      ]
     },
     "execution_count": 96,
     "metadata": {},
     "output_type": "execute_result"
    }
   ],
   "source": [
    "HOHSpass_read = (HOHSpass_df[\"reading_score\"].sum() / HOHStudent_tot)\n",
    "round(HOHSpass_read, 1)"
   ]
  },
  {
   "cell_type": "code",
   "execution_count": 97,
   "metadata": {},
   "outputs": [
    {
     "data": {
      "text/plain": [
       "84.1"
      ]
     },
     "execution_count": 97,
     "metadata": {},
     "output_type": "execute_result"
    }
   ],
   "source": [
    "HOHSpass_math = (HOHSpass_df[\"math_score\"].sum() / HOHStudent_tot)\n",
    "round(HOHSpass_math, 1)"
   ]
  },
  {
   "cell_type": "code",
   "execution_count": 98,
   "metadata": {},
   "outputs": [
    {
     "data": {
      "text/plain": [
       "83.8"
      ]
     },
     "execution_count": 98,
     "metadata": {},
     "output_type": "execute_result"
    }
   ],
   "source": [
    "#Calculate the total passing rate \n",
    "HOHSpass_rate = (HOHSave_math + HOHSave_reading)/2\n",
    "HOHSpass_rate\n",
    "round(HOHSpass_rate, 1)"
   ]
  },
  {
   "cell_type": "code",
   "execution_count": 99,
   "metadata": {},
   "outputs": [
    {
     "data": {
      "text/html": [
       "<div>\n",
       "<style scoped>\n",
       "    .dataframe tbody tr th:only-of-type {\n",
       "        vertical-align: middle;\n",
       "    }\n",
       "\n",
       "    .dataframe tbody tr th {\n",
       "        vertical-align: top;\n",
       "    }\n",
       "\n",
       "    .dataframe thead th {\n",
       "        text-align: right;\n",
       "    }\n",
       "</style>\n",
       "<table border=\"1\" class=\"dataframe\">\n",
       "  <thead>\n",
       "    <tr style=\"text-align: right;\">\n",
       "      <th></th>\n",
       "      <th>School ID</th>\n",
       "      <th>school_name</th>\n",
       "      <th>type</th>\n",
       "      <th>size</th>\n",
       "      <th>budget</th>\n",
       "      <th>Student ID</th>\n",
       "      <th>student_name</th>\n",
       "      <th>gender</th>\n",
       "      <th>grade</th>\n",
       "      <th>reading_score</th>\n",
       "      <th>math_score</th>\n",
       "    </tr>\n",
       "  </thead>\n",
       "  <tbody>\n",
       "    <tr>\n",
       "      <th>23274</th>\n",
       "      <td>9</td>\n",
       "      <td>Pena High School</td>\n",
       "      <td>Charter</td>\n",
       "      <td>962</td>\n",
       "      <td>585858</td>\n",
       "      <td>23274</td>\n",
       "      <td>Alec Davis</td>\n",
       "      <td>M</td>\n",
       "      <td>9th</td>\n",
       "      <td>91</td>\n",
       "      <td>75</td>\n",
       "    </tr>\n",
       "    <tr>\n",
       "      <th>23275</th>\n",
       "      <td>9</td>\n",
       "      <td>Pena High School</td>\n",
       "      <td>Charter</td>\n",
       "      <td>962</td>\n",
       "      <td>585858</td>\n",
       "      <td>23275</td>\n",
       "      <td>Michael Meyer</td>\n",
       "      <td>M</td>\n",
       "      <td>10th</td>\n",
       "      <td>94</td>\n",
       "      <td>76</td>\n",
       "    </tr>\n",
       "    <tr>\n",
       "      <th>23276</th>\n",
       "      <td>9</td>\n",
       "      <td>Pena High School</td>\n",
       "      <td>Charter</td>\n",
       "      <td>962</td>\n",
       "      <td>585858</td>\n",
       "      <td>23276</td>\n",
       "      <td>Donald Gutierrez</td>\n",
       "      <td>M</td>\n",
       "      <td>11th</td>\n",
       "      <td>98</td>\n",
       "      <td>91</td>\n",
       "    </tr>\n",
       "    <tr>\n",
       "      <th>23277</th>\n",
       "      <td>9</td>\n",
       "      <td>Pena High School</td>\n",
       "      <td>Charter</td>\n",
       "      <td>962</td>\n",
       "      <td>585858</td>\n",
       "      <td>23277</td>\n",
       "      <td>Travis Chavez</td>\n",
       "      <td>M</td>\n",
       "      <td>11th</td>\n",
       "      <td>78</td>\n",
       "      <td>71</td>\n",
       "    </tr>\n",
       "    <tr>\n",
       "      <th>23278</th>\n",
       "      <td>9</td>\n",
       "      <td>Pena High School</td>\n",
       "      <td>Charter</td>\n",
       "      <td>962</td>\n",
       "      <td>585858</td>\n",
       "      <td>23278</td>\n",
       "      <td>Sheena Ball</td>\n",
       "      <td>F</td>\n",
       "      <td>12th</td>\n",
       "      <td>87</td>\n",
       "      <td>92</td>\n",
       "    </tr>\n",
       "  </tbody>\n",
       "</table>\n",
       "</div>"
      ],
      "text/plain": [
       "       School ID       school_name     type  size  budget  Student ID  \\\n",
       "23274          9  Pena High School  Charter   962  585858       23274   \n",
       "23275          9  Pena High School  Charter   962  585858       23275   \n",
       "23276          9  Pena High School  Charter   962  585858       23276   \n",
       "23277          9  Pena High School  Charter   962  585858       23277   \n",
       "23278          9  Pena High School  Charter   962  585858       23278   \n",
       "\n",
       "           student_name gender grade  reading_score  math_score  \n",
       "23274        Alec Davis      M   9th             91          75  \n",
       "23275     Michael Meyer      M  10th             94          76  \n",
       "23276  Donald Gutierrez      M  11th             98          91  \n",
       "23277     Travis Chavez      M  11th             78          71  \n",
       "23278       Sheena Ball      F  12th             87          92  "
      ]
     },
     "execution_count": 99,
     "metadata": {},
     "output_type": "execute_result"
    }
   ],
   "source": [
    "#Pena High School Summary \n",
    "P_HS = all_data.loc[(all_data[\"school_name\"] == \"Pena High School\"), :]\n",
    "P_HS.head()"
   ]
  },
  {
   "cell_type": "code",
   "execution_count": 100,
   "metadata": {},
   "outputs": [
    {
     "data": {
      "text/plain": [
       "83.8"
      ]
     },
     "execution_count": 100,
     "metadata": {},
     "output_type": "execute_result"
    }
   ],
   "source": [
    "PHSave_math = P_HS[\"math_score\"].mean()\n",
    "round(PHSave_math, 1)"
   ]
  },
  {
   "cell_type": "code",
   "execution_count": 101,
   "metadata": {},
   "outputs": [
    {
     "data": {
      "text/plain": [
       "84.0"
      ]
     },
     "execution_count": 101,
     "metadata": {},
     "output_type": "execute_result"
    }
   ],
   "source": [
    "PHSave_reading = P_HS[\"reading_score\"].mean()\n",
    "round(PHSave_reading, 1)"
   ]
  },
  {
   "cell_type": "code",
   "execution_count": 102,
   "metadata": {},
   "outputs": [
    {
     "data": {
      "text/plain": [
       "955"
      ]
     },
     "execution_count": 102,
     "metadata": {},
     "output_type": "execute_result"
    }
   ],
   "source": [
    "PHStudent_tot = len(P_HS[\"student_name\"].unique())\n",
    "PHStudent_tot"
   ]
  },
  {
   "cell_type": "code",
   "execution_count": 103,
   "metadata": {},
   "outputs": [
    {
     "data": {
      "text/plain": [
       "613.5"
      ]
     },
     "execution_count": 103,
     "metadata": {},
     "output_type": "execute_result"
    }
   ],
   "source": [
    "PHSBudper_st = P_HS.iloc[0,4] / PHStudent_tot\n",
    "PHSBudper_st\n",
    "round(PHSBudper_st, 1)"
   ]
  },
  {
   "cell_type": "code",
   "execution_count": 104,
   "metadata": {},
   "outputs": [
    {
     "data": {
      "text/html": [
       "<div>\n",
       "<style scoped>\n",
       "    .dataframe tbody tr th:only-of-type {\n",
       "        vertical-align: middle;\n",
       "    }\n",
       "\n",
       "    .dataframe tbody tr th {\n",
       "        vertical-align: top;\n",
       "    }\n",
       "\n",
       "    .dataframe thead th {\n",
       "        text-align: right;\n",
       "    }\n",
       "</style>\n",
       "<table border=\"1\" class=\"dataframe\">\n",
       "  <thead>\n",
       "    <tr style=\"text-align: right;\">\n",
       "      <th></th>\n",
       "      <th>School ID</th>\n",
       "      <th>school_name</th>\n",
       "      <th>type</th>\n",
       "      <th>size</th>\n",
       "      <th>budget</th>\n",
       "      <th>Student ID</th>\n",
       "      <th>student_name</th>\n",
       "      <th>gender</th>\n",
       "      <th>grade</th>\n",
       "      <th>reading_score</th>\n",
       "      <th>math_score</th>\n",
       "    </tr>\n",
       "  </thead>\n",
       "  <tbody>\n",
       "    <tr>\n",
       "      <th>23274</th>\n",
       "      <td>9</td>\n",
       "      <td>Pena High School</td>\n",
       "      <td>Charter</td>\n",
       "      <td>962</td>\n",
       "      <td>585858</td>\n",
       "      <td>23274</td>\n",
       "      <td>Alec Davis</td>\n",
       "      <td>M</td>\n",
       "      <td>9th</td>\n",
       "      <td>91</td>\n",
       "      <td>75</td>\n",
       "    </tr>\n",
       "    <tr>\n",
       "      <th>23275</th>\n",
       "      <td>9</td>\n",
       "      <td>Pena High School</td>\n",
       "      <td>Charter</td>\n",
       "      <td>962</td>\n",
       "      <td>585858</td>\n",
       "      <td>23275</td>\n",
       "      <td>Michael Meyer</td>\n",
       "      <td>M</td>\n",
       "      <td>10th</td>\n",
       "      <td>94</td>\n",
       "      <td>76</td>\n",
       "    </tr>\n",
       "    <tr>\n",
       "      <th>23276</th>\n",
       "      <td>9</td>\n",
       "      <td>Pena High School</td>\n",
       "      <td>Charter</td>\n",
       "      <td>962</td>\n",
       "      <td>585858</td>\n",
       "      <td>23276</td>\n",
       "      <td>Donald Gutierrez</td>\n",
       "      <td>M</td>\n",
       "      <td>11th</td>\n",
       "      <td>98</td>\n",
       "      <td>91</td>\n",
       "    </tr>\n",
       "    <tr>\n",
       "      <th>23277</th>\n",
       "      <td>9</td>\n",
       "      <td>Pena High School</td>\n",
       "      <td>Charter</td>\n",
       "      <td>962</td>\n",
       "      <td>585858</td>\n",
       "      <td>23277</td>\n",
       "      <td>Travis Chavez</td>\n",
       "      <td>M</td>\n",
       "      <td>11th</td>\n",
       "      <td>78</td>\n",
       "      <td>71</td>\n",
       "    </tr>\n",
       "    <tr>\n",
       "      <th>23278</th>\n",
       "      <td>9</td>\n",
       "      <td>Pena High School</td>\n",
       "      <td>Charter</td>\n",
       "      <td>962</td>\n",
       "      <td>585858</td>\n",
       "      <td>23278</td>\n",
       "      <td>Sheena Ball</td>\n",
       "      <td>F</td>\n",
       "      <td>12th</td>\n",
       "      <td>87</td>\n",
       "      <td>92</td>\n",
       "    </tr>\n",
       "  </tbody>\n",
       "</table>\n",
       "</div>"
      ],
      "text/plain": [
       "       School ID       school_name     type  size  budget  Student ID  \\\n",
       "23274          9  Pena High School  Charter   962  585858       23274   \n",
       "23275          9  Pena High School  Charter   962  585858       23275   \n",
       "23276          9  Pena High School  Charter   962  585858       23276   \n",
       "23277          9  Pena High School  Charter   962  585858       23277   \n",
       "23278          9  Pena High School  Charter   962  585858       23278   \n",
       "\n",
       "           student_name gender grade  reading_score  math_score  \n",
       "23274        Alec Davis      M   9th             91          75  \n",
       "23275     Michael Meyer      M  10th             94          76  \n",
       "23276  Donald Gutierrez      M  11th             98          91  \n",
       "23277     Travis Chavez      M  11th             78          71  \n",
       "23278       Sheena Ball      F  12th             87          92  "
      ]
     },
     "execution_count": 104,
     "metadata": {},
     "output_type": "execute_result"
    }
   ],
   "source": [
    "PHSpass_df = P_HS.loc[(P_HS[\"math_score\"] > 69.9) | (P_HS[\"reading_score\"] > 69.9), :]\n",
    "PHSpass_df.head()"
   ]
  },
  {
   "cell_type": "code",
   "execution_count": 105,
   "metadata": {},
   "outputs": [
    {
     "data": {
      "text/plain": [
       "84.7"
      ]
     },
     "execution_count": 105,
     "metadata": {},
     "output_type": "execute_result"
    }
   ],
   "source": [
    "PHSpass_read = (PHSpass_df[\"reading_score\"].sum() / PHStudent_tot)\n",
    "round(PHSpass_read, 1)"
   ]
  },
  {
   "cell_type": "code",
   "execution_count": 106,
   "metadata": {},
   "outputs": [
    {
     "data": {
      "text/plain": [
       "84.5"
      ]
     },
     "execution_count": 106,
     "metadata": {},
     "output_type": "execute_result"
    }
   ],
   "source": [
    "PHSpass_math = (PHSpass_df[\"math_score\"].sum() / PHStudent_tot)\n",
    "round(PHSpass_math, 1)"
   ]
  },
  {
   "cell_type": "code",
   "execution_count": null,
   "metadata": {},
   "outputs": [],
   "source": []
  },
  {
   "cell_type": "code",
   "execution_count": 107,
   "metadata": {},
   "outputs": [
    {
     "data": {
      "text/plain": [
       "83.9"
      ]
     },
     "execution_count": 107,
     "metadata": {},
     "output_type": "execute_result"
    }
   ],
   "source": [
    "#Calculate the total passing rate \n",
    "PHSpass_rate = (PHSave_math + PHSave_reading)/2\n",
    "PHSpass_rate\n",
    "round(PHSpass_rate, 1)"
   ]
  },
  {
   "cell_type": "code",
   "execution_count": 108,
   "metadata": {},
   "outputs": [
    {
     "data": {
      "text/html": [
       "<div>\n",
       "<style scoped>\n",
       "    .dataframe tbody tr th:only-of-type {\n",
       "        vertical-align: middle;\n",
       "    }\n",
       "\n",
       "    .dataframe tbody tr th {\n",
       "        vertical-align: top;\n",
       "    }\n",
       "\n",
       "    .dataframe thead th {\n",
       "        text-align: right;\n",
       "    }\n",
       "</style>\n",
       "<table border=\"1\" class=\"dataframe\">\n",
       "  <thead>\n",
       "    <tr style=\"text-align: right;\">\n",
       "      <th></th>\n",
       "      <th>School ID</th>\n",
       "      <th>school_name</th>\n",
       "      <th>type</th>\n",
       "      <th>size</th>\n",
       "      <th>budget</th>\n",
       "      <th>Student ID</th>\n",
       "      <th>student_name</th>\n",
       "      <th>gender</th>\n",
       "      <th>grade</th>\n",
       "      <th>reading_score</th>\n",
       "      <th>math_score</th>\n",
       "    </tr>\n",
       "  </thead>\n",
       "  <tbody>\n",
       "    <tr>\n",
       "      <th>24236</th>\n",
       "      <td>10</td>\n",
       "      <td>Wright High School</td>\n",
       "      <td>Charter</td>\n",
       "      <td>1800</td>\n",
       "      <td>1049400</td>\n",
       "      <td>24236</td>\n",
       "      <td>Aaron Johnson</td>\n",
       "      <td>M</td>\n",
       "      <td>10th</td>\n",
       "      <td>89</td>\n",
       "      <td>72</td>\n",
       "    </tr>\n",
       "    <tr>\n",
       "      <th>24237</th>\n",
       "      <td>10</td>\n",
       "      <td>Wright High School</td>\n",
       "      <td>Charter</td>\n",
       "      <td>1800</td>\n",
       "      <td>1049400</td>\n",
       "      <td>24237</td>\n",
       "      <td>Kimberly Hamilton</td>\n",
       "      <td>F</td>\n",
       "      <td>10th</td>\n",
       "      <td>84</td>\n",
       "      <td>93</td>\n",
       "    </tr>\n",
       "    <tr>\n",
       "      <th>24238</th>\n",
       "      <td>10</td>\n",
       "      <td>Wright High School</td>\n",
       "      <td>Charter</td>\n",
       "      <td>1800</td>\n",
       "      <td>1049400</td>\n",
       "      <td>24238</td>\n",
       "      <td>Ashley Johns</td>\n",
       "      <td>F</td>\n",
       "      <td>10th</td>\n",
       "      <td>88</td>\n",
       "      <td>88</td>\n",
       "    </tr>\n",
       "    <tr>\n",
       "      <th>24239</th>\n",
       "      <td>10</td>\n",
       "      <td>Wright High School</td>\n",
       "      <td>Charter</td>\n",
       "      <td>1800</td>\n",
       "      <td>1049400</td>\n",
       "      <td>24239</td>\n",
       "      <td>Stephanie Donovan</td>\n",
       "      <td>F</td>\n",
       "      <td>10th</td>\n",
       "      <td>75</td>\n",
       "      <td>84</td>\n",
       "    </tr>\n",
       "    <tr>\n",
       "      <th>24240</th>\n",
       "      <td>10</td>\n",
       "      <td>Wright High School</td>\n",
       "      <td>Charter</td>\n",
       "      <td>1800</td>\n",
       "      <td>1049400</td>\n",
       "      <td>24240</td>\n",
       "      <td>Cynthia Guzman</td>\n",
       "      <td>F</td>\n",
       "      <td>11th</td>\n",
       "      <td>93</td>\n",
       "      <td>82</td>\n",
       "    </tr>\n",
       "  </tbody>\n",
       "</table>\n",
       "</div>"
      ],
      "text/plain": [
       "       School ID         school_name     type  size   budget  Student ID  \\\n",
       "24236         10  Wright High School  Charter  1800  1049400       24236   \n",
       "24237         10  Wright High School  Charter  1800  1049400       24237   \n",
       "24238         10  Wright High School  Charter  1800  1049400       24238   \n",
       "24239         10  Wright High School  Charter  1800  1049400       24239   \n",
       "24240         10  Wright High School  Charter  1800  1049400       24240   \n",
       "\n",
       "            student_name gender grade  reading_score  math_score  \n",
       "24236      Aaron Johnson      M  10th             89          72  \n",
       "24237  Kimberly Hamilton      F  10th             84          93  \n",
       "24238       Ashley Johns      F  10th             88          88  \n",
       "24239  Stephanie Donovan      F  10th             75          84  \n",
       "24240     Cynthia Guzman      F  11th             93          82  "
      ]
     },
     "execution_count": 108,
     "metadata": {},
     "output_type": "execute_result"
    }
   ],
   "source": [
    "#Wright High School Summary \n",
    "WT_HS = all_data.loc[(all_data[\"school_name\"] == \"Wright High School\"), :]\n",
    "WT_HS.head()"
   ]
  },
  {
   "cell_type": "code",
   "execution_count": 109,
   "metadata": {},
   "outputs": [
    {
     "data": {
      "text/plain": [
       "83.7"
      ]
     },
     "execution_count": 109,
     "metadata": {},
     "output_type": "execute_result"
    }
   ],
   "source": [
    "WTHSave_math = WT_HS[\"math_score\"].mean()\n",
    "round(WTHSave_math, 1)"
   ]
  },
  {
   "cell_type": "code",
   "execution_count": 110,
   "metadata": {},
   "outputs": [
    {
     "data": {
      "text/plain": [
       "84.0"
      ]
     },
     "execution_count": 110,
     "metadata": {},
     "output_type": "execute_result"
    }
   ],
   "source": [
    "WTHSave_reading = WT_HS[\"reading_score\"].mean()\n",
    "round(WTHSave_reading, 1)"
   ]
  },
  {
   "cell_type": "code",
   "execution_count": 111,
   "metadata": {},
   "outputs": [
    {
     "data": {
      "text/plain": [
       "1783"
      ]
     },
     "execution_count": 111,
     "metadata": {},
     "output_type": "execute_result"
    }
   ],
   "source": [
    "WTHStudent_tot = len(WT_HS[\"student_name\"].unique())\n",
    "WTHStudent_tot"
   ]
  },
  {
   "cell_type": "code",
   "execution_count": 112,
   "metadata": {},
   "outputs": [
    {
     "data": {
      "text/plain": [
       "588.6"
      ]
     },
     "execution_count": 112,
     "metadata": {},
     "output_type": "execute_result"
    }
   ],
   "source": [
    "WTHSBudper_st = WT_HS.iloc[0,4] / WTHStudent_tot\n",
    "WTHSBudper_st\n",
    "round(WTHSBudper_st, 1)"
   ]
  },
  {
   "cell_type": "code",
   "execution_count": 113,
   "metadata": {},
   "outputs": [
    {
     "data": {
      "text/html": [
       "<div>\n",
       "<style scoped>\n",
       "    .dataframe tbody tr th:only-of-type {\n",
       "        vertical-align: middle;\n",
       "    }\n",
       "\n",
       "    .dataframe tbody tr th {\n",
       "        vertical-align: top;\n",
       "    }\n",
       "\n",
       "    .dataframe thead th {\n",
       "        text-align: right;\n",
       "    }\n",
       "</style>\n",
       "<table border=\"1\" class=\"dataframe\">\n",
       "  <thead>\n",
       "    <tr style=\"text-align: right;\">\n",
       "      <th></th>\n",
       "      <th>School ID</th>\n",
       "      <th>school_name</th>\n",
       "      <th>type</th>\n",
       "      <th>size</th>\n",
       "      <th>budget</th>\n",
       "      <th>Student ID</th>\n",
       "      <th>student_name</th>\n",
       "      <th>gender</th>\n",
       "      <th>grade</th>\n",
       "      <th>reading_score</th>\n",
       "      <th>math_score</th>\n",
       "    </tr>\n",
       "  </thead>\n",
       "  <tbody>\n",
       "    <tr>\n",
       "      <th>24236</th>\n",
       "      <td>10</td>\n",
       "      <td>Wright High School</td>\n",
       "      <td>Charter</td>\n",
       "      <td>1800</td>\n",
       "      <td>1049400</td>\n",
       "      <td>24236</td>\n",
       "      <td>Aaron Johnson</td>\n",
       "      <td>M</td>\n",
       "      <td>10th</td>\n",
       "      <td>89</td>\n",
       "      <td>72</td>\n",
       "    </tr>\n",
       "    <tr>\n",
       "      <th>24237</th>\n",
       "      <td>10</td>\n",
       "      <td>Wright High School</td>\n",
       "      <td>Charter</td>\n",
       "      <td>1800</td>\n",
       "      <td>1049400</td>\n",
       "      <td>24237</td>\n",
       "      <td>Kimberly Hamilton</td>\n",
       "      <td>F</td>\n",
       "      <td>10th</td>\n",
       "      <td>84</td>\n",
       "      <td>93</td>\n",
       "    </tr>\n",
       "    <tr>\n",
       "      <th>24238</th>\n",
       "      <td>10</td>\n",
       "      <td>Wright High School</td>\n",
       "      <td>Charter</td>\n",
       "      <td>1800</td>\n",
       "      <td>1049400</td>\n",
       "      <td>24238</td>\n",
       "      <td>Ashley Johns</td>\n",
       "      <td>F</td>\n",
       "      <td>10th</td>\n",
       "      <td>88</td>\n",
       "      <td>88</td>\n",
       "    </tr>\n",
       "    <tr>\n",
       "      <th>24239</th>\n",
       "      <td>10</td>\n",
       "      <td>Wright High School</td>\n",
       "      <td>Charter</td>\n",
       "      <td>1800</td>\n",
       "      <td>1049400</td>\n",
       "      <td>24239</td>\n",
       "      <td>Stephanie Donovan</td>\n",
       "      <td>F</td>\n",
       "      <td>10th</td>\n",
       "      <td>75</td>\n",
       "      <td>84</td>\n",
       "    </tr>\n",
       "    <tr>\n",
       "      <th>24240</th>\n",
       "      <td>10</td>\n",
       "      <td>Wright High School</td>\n",
       "      <td>Charter</td>\n",
       "      <td>1800</td>\n",
       "      <td>1049400</td>\n",
       "      <td>24240</td>\n",
       "      <td>Cynthia Guzman</td>\n",
       "      <td>F</td>\n",
       "      <td>11th</td>\n",
       "      <td>93</td>\n",
       "      <td>82</td>\n",
       "    </tr>\n",
       "  </tbody>\n",
       "</table>\n",
       "</div>"
      ],
      "text/plain": [
       "       School ID         school_name     type  size   budget  Student ID  \\\n",
       "24236         10  Wright High School  Charter  1800  1049400       24236   \n",
       "24237         10  Wright High School  Charter  1800  1049400       24237   \n",
       "24238         10  Wright High School  Charter  1800  1049400       24238   \n",
       "24239         10  Wright High School  Charter  1800  1049400       24239   \n",
       "24240         10  Wright High School  Charter  1800  1049400       24240   \n",
       "\n",
       "            student_name gender grade  reading_score  math_score  \n",
       "24236      Aaron Johnson      M  10th             89          72  \n",
       "24237  Kimberly Hamilton      F  10th             84          93  \n",
       "24238       Ashley Johns      F  10th             88          88  \n",
       "24239  Stephanie Donovan      F  10th             75          84  \n",
       "24240     Cynthia Guzman      F  11th             93          82  "
      ]
     },
     "execution_count": 113,
     "metadata": {},
     "output_type": "execute_result"
    }
   ],
   "source": [
    "WTHSpass_df = WT_HS.loc[(WT_HS[\"math_score\"] > 69.9) | (WT_HS[\"reading_score\"] > 69.9), :]\n",
    "WTHSpass_df.head()"
   ]
  },
  {
   "cell_type": "code",
   "execution_count": 114,
   "metadata": {},
   "outputs": [
    {
     "data": {
      "text/plain": [
       "84.5"
      ]
     },
     "execution_count": 114,
     "metadata": {},
     "output_type": "execute_result"
    }
   ],
   "source": [
    "WTHSpass_read = (WTHSpass_df[\"reading_score\"].sum() / WTHStudent_tot)\n",
    "round(WTHSpass_read, 1)"
   ]
  },
  {
   "cell_type": "code",
   "execution_count": 115,
   "metadata": {},
   "outputs": [
    {
     "data": {
      "text/plain": [
       "84.2"
      ]
     },
     "execution_count": 115,
     "metadata": {},
     "output_type": "execute_result"
    }
   ],
   "source": [
    "WTHSpass_math = (WTHSpass_df[\"math_score\"].sum() / WTHStudent_tot)\n",
    "round(WTHSpass_math, 1)"
   ]
  },
  {
   "cell_type": "code",
   "execution_count": 116,
   "metadata": {},
   "outputs": [
    {
     "data": {
      "text/plain": [
       "83.8"
      ]
     },
     "execution_count": 116,
     "metadata": {},
     "output_type": "execute_result"
    }
   ],
   "source": [
    "#Calculate the total passing rate \n",
    "WTHSpass_rate = (WTHSave_math + WTHSave_reading)/2\n",
    "WTHSpass_rate\n",
    "round(WTHSpass_rate, 1)"
   ]
  },
  {
   "cell_type": "code",
   "execution_count": 117,
   "metadata": {},
   "outputs": [
    {
     "data": {
      "text/html": [
       "<div>\n",
       "<style scoped>\n",
       "    .dataframe tbody tr th:only-of-type {\n",
       "        vertical-align: middle;\n",
       "    }\n",
       "\n",
       "    .dataframe tbody tr th {\n",
       "        vertical-align: top;\n",
       "    }\n",
       "\n",
       "    .dataframe thead th {\n",
       "        text-align: right;\n",
       "    }\n",
       "</style>\n",
       "<table border=\"1\" class=\"dataframe\">\n",
       "  <thead>\n",
       "    <tr style=\"text-align: right;\">\n",
       "      <th></th>\n",
       "      <th>School ID</th>\n",
       "      <th>school_name</th>\n",
       "      <th>type</th>\n",
       "      <th>size</th>\n",
       "      <th>budget</th>\n",
       "      <th>Student ID</th>\n",
       "      <th>student_name</th>\n",
       "      <th>gender</th>\n",
       "      <th>grade</th>\n",
       "      <th>reading_score</th>\n",
       "      <th>math_score</th>\n",
       "    </tr>\n",
       "  </thead>\n",
       "  <tbody>\n",
       "    <tr>\n",
       "      <th>26036</th>\n",
       "      <td>11</td>\n",
       "      <td>Rodriguez High School</td>\n",
       "      <td>District</td>\n",
       "      <td>3999</td>\n",
       "      <td>2547363</td>\n",
       "      <td>26036</td>\n",
       "      <td>Sherry Jenkins</td>\n",
       "      <td>F</td>\n",
       "      <td>11th</td>\n",
       "      <td>74</td>\n",
       "      <td>81</td>\n",
       "    </tr>\n",
       "    <tr>\n",
       "      <th>26037</th>\n",
       "      <td>11</td>\n",
       "      <td>Rodriguez High School</td>\n",
       "      <td>District</td>\n",
       "      <td>3999</td>\n",
       "      <td>2547363</td>\n",
       "      <td>26037</td>\n",
       "      <td>Kimberly Calderon</td>\n",
       "      <td>F</td>\n",
       "      <td>10th</td>\n",
       "      <td>80</td>\n",
       "      <td>86</td>\n",
       "    </tr>\n",
       "  </tbody>\n",
       "</table>\n",
       "</div>"
      ],
      "text/plain": [
       "       School ID            school_name      type  size   budget  Student ID  \\\n",
       "26036         11  Rodriguez High School  District  3999  2547363       26036   \n",
       "26037         11  Rodriguez High School  District  3999  2547363       26037   \n",
       "\n",
       "            student_name gender grade  reading_score  math_score  \n",
       "26036     Sherry Jenkins      F  11th             74          81  \n",
       "26037  Kimberly Calderon      F  10th             80          86  "
      ]
     },
     "execution_count": 117,
     "metadata": {},
     "output_type": "execute_result"
    }
   ],
   "source": [
    "#Rodriguez High School Summary \n",
    "R_HS = all_data.loc[(all_data[\"school_name\"] == \"Rodriguez High School\"), :]\n",
    "R_HS.head(2)"
   ]
  },
  {
   "cell_type": "code",
   "execution_count": 118,
   "metadata": {},
   "outputs": [
    {
     "data": {
      "text/plain": [
       "76.8"
      ]
     },
     "execution_count": 118,
     "metadata": {},
     "output_type": "execute_result"
    }
   ],
   "source": [
    "RHSave_math = R_HS[\"math_score\"].mean()\n",
    "round(RHSave_math, 1)"
   ]
  },
  {
   "cell_type": "code",
   "execution_count": 119,
   "metadata": {},
   "outputs": [
    {
     "data": {
      "text/plain": [
       "80.7"
      ]
     },
     "execution_count": 119,
     "metadata": {},
     "output_type": "execute_result"
    }
   ],
   "source": [
    "RHSave_reading = R_HS[\"reading_score\"].mean()\n",
    "round(RHSave_reading, 1)"
   ]
  },
  {
   "cell_type": "code",
   "execution_count": 120,
   "metadata": {},
   "outputs": [
    {
     "data": {
      "text/plain": [
       "3902"
      ]
     },
     "execution_count": 120,
     "metadata": {},
     "output_type": "execute_result"
    }
   ],
   "source": [
    "RHStudent_tot = len(R_HS[\"student_name\"].unique())\n",
    "RHStudent_tot"
   ]
  },
  {
   "cell_type": "code",
   "execution_count": 121,
   "metadata": {},
   "outputs": [
    {
     "data": {
      "text/plain": [
       "652.8"
      ]
     },
     "execution_count": 121,
     "metadata": {},
     "output_type": "execute_result"
    }
   ],
   "source": [
    "RHSBudper_st = R_HS.iloc[0,4] / RHStudent_tot\n",
    "RHSBudper_st\n",
    "round(RHSBudper_st, 1)"
   ]
  },
  {
   "cell_type": "code",
   "execution_count": 122,
   "metadata": {},
   "outputs": [
    {
     "data": {
      "text/html": [
       "<div>\n",
       "<style scoped>\n",
       "    .dataframe tbody tr th:only-of-type {\n",
       "        vertical-align: middle;\n",
       "    }\n",
       "\n",
       "    .dataframe tbody tr th {\n",
       "        vertical-align: top;\n",
       "    }\n",
       "\n",
       "    .dataframe thead th {\n",
       "        text-align: right;\n",
       "    }\n",
       "</style>\n",
       "<table border=\"1\" class=\"dataframe\">\n",
       "  <thead>\n",
       "    <tr style=\"text-align: right;\">\n",
       "      <th></th>\n",
       "      <th>School ID</th>\n",
       "      <th>school_name</th>\n",
       "      <th>type</th>\n",
       "      <th>size</th>\n",
       "      <th>budget</th>\n",
       "      <th>Student ID</th>\n",
       "      <th>student_name</th>\n",
       "      <th>gender</th>\n",
       "      <th>grade</th>\n",
       "      <th>reading_score</th>\n",
       "      <th>math_score</th>\n",
       "    </tr>\n",
       "  </thead>\n",
       "  <tbody>\n",
       "    <tr>\n",
       "      <th>26036</th>\n",
       "      <td>11</td>\n",
       "      <td>Rodriguez High School</td>\n",
       "      <td>District</td>\n",
       "      <td>3999</td>\n",
       "      <td>2547363</td>\n",
       "      <td>26036</td>\n",
       "      <td>Sherry Jenkins</td>\n",
       "      <td>F</td>\n",
       "      <td>11th</td>\n",
       "      <td>74</td>\n",
       "      <td>81</td>\n",
       "    </tr>\n",
       "    <tr>\n",
       "      <th>26037</th>\n",
       "      <td>11</td>\n",
       "      <td>Rodriguez High School</td>\n",
       "      <td>District</td>\n",
       "      <td>3999</td>\n",
       "      <td>2547363</td>\n",
       "      <td>26037</td>\n",
       "      <td>Kimberly Calderon</td>\n",
       "      <td>F</td>\n",
       "      <td>10th</td>\n",
       "      <td>80</td>\n",
       "      <td>86</td>\n",
       "    </tr>\n",
       "    <tr>\n",
       "      <th>26038</th>\n",
       "      <td>11</td>\n",
       "      <td>Rodriguez High School</td>\n",
       "      <td>District</td>\n",
       "      <td>3999</td>\n",
       "      <td>2547363</td>\n",
       "      <td>26038</td>\n",
       "      <td>William Brady</td>\n",
       "      <td>M</td>\n",
       "      <td>11th</td>\n",
       "      <td>97</td>\n",
       "      <td>62</td>\n",
       "    </tr>\n",
       "    <tr>\n",
       "      <th>26039</th>\n",
       "      <td>11</td>\n",
       "      <td>Rodriguez High School</td>\n",
       "      <td>District</td>\n",
       "      <td>3999</td>\n",
       "      <td>2547363</td>\n",
       "      <td>26039</td>\n",
       "      <td>Jacob Padilla</td>\n",
       "      <td>M</td>\n",
       "      <td>11th</td>\n",
       "      <td>79</td>\n",
       "      <td>73</td>\n",
       "    </tr>\n",
       "    <tr>\n",
       "      <th>26040</th>\n",
       "      <td>11</td>\n",
       "      <td>Rodriguez High School</td>\n",
       "      <td>District</td>\n",
       "      <td>3999</td>\n",
       "      <td>2547363</td>\n",
       "      <td>26040</td>\n",
       "      <td>Paula Maldonado</td>\n",
       "      <td>F</td>\n",
       "      <td>10th</td>\n",
       "      <td>96</td>\n",
       "      <td>92</td>\n",
       "    </tr>\n",
       "  </tbody>\n",
       "</table>\n",
       "</div>"
      ],
      "text/plain": [
       "       School ID            school_name      type  size   budget  Student ID  \\\n",
       "26036         11  Rodriguez High School  District  3999  2547363       26036   \n",
       "26037         11  Rodriguez High School  District  3999  2547363       26037   \n",
       "26038         11  Rodriguez High School  District  3999  2547363       26038   \n",
       "26039         11  Rodriguez High School  District  3999  2547363       26039   \n",
       "26040         11  Rodriguez High School  District  3999  2547363       26040   \n",
       "\n",
       "            student_name gender grade  reading_score  math_score  \n",
       "26036     Sherry Jenkins      F  11th             74          81  \n",
       "26037  Kimberly Calderon      F  10th             80          86  \n",
       "26038      William Brady      M  11th             97          62  \n",
       "26039      Jacob Padilla      M  11th             79          73  \n",
       "26040    Paula Maldonado      F  10th             96          92  "
      ]
     },
     "execution_count": 122,
     "metadata": {},
     "output_type": "execute_result"
    }
   ],
   "source": [
    "RHSpass_df = R_HS.loc[(R_HS[\"math_score\"] > 69.9) | (R_HS[\"reading_score\"] > 69.9), :]\n",
    "RHSpass_df.head()"
   ]
  },
  {
   "cell_type": "code",
   "execution_count": 123,
   "metadata": {},
   "outputs": [
    {
     "data": {
      "text/plain": [
       "78.4"
      ]
     },
     "execution_count": 123,
     "metadata": {},
     "output_type": "execute_result"
    }
   ],
   "source": [
    "RHSpass_read = (RHSpass_df[\"reading_score\"].sum() / RHStudent_tot)\n",
    "round(RHSpass_read, 1)"
   ]
  },
  {
   "cell_type": "code",
   "execution_count": 124,
   "metadata": {},
   "outputs": [
    {
     "data": {
      "text/plain": [
       "74.7"
      ]
     },
     "execution_count": 124,
     "metadata": {},
     "output_type": "execute_result"
    }
   ],
   "source": [
    "RHSpass_math = (RHSpass_df[\"math_score\"].sum() / RHStudent_tot)\n",
    "round(RHSpass_math, 1)"
   ]
  },
  {
   "cell_type": "code",
   "execution_count": 125,
   "metadata": {},
   "outputs": [
    {
     "data": {
      "text/plain": [
       "78.8"
      ]
     },
     "execution_count": 125,
     "metadata": {},
     "output_type": "execute_result"
    }
   ],
   "source": [
    "#Calculate the total passing rate \n",
    "RHSpass_rate = (RHSave_math + RHSave_reading)/2\n",
    "RHSpass_rate\n",
    "round(RHSpass_rate, 1)"
   ]
  },
  {
   "cell_type": "code",
   "execution_count": 126,
   "metadata": {},
   "outputs": [
    {
     "data": {
      "text/html": [
       "<div>\n",
       "<style scoped>\n",
       "    .dataframe tbody tr th:only-of-type {\n",
       "        vertical-align: middle;\n",
       "    }\n",
       "\n",
       "    .dataframe tbody tr th {\n",
       "        vertical-align: top;\n",
       "    }\n",
       "\n",
       "    .dataframe thead th {\n",
       "        text-align: right;\n",
       "    }\n",
       "</style>\n",
       "<table border=\"1\" class=\"dataframe\">\n",
       "  <thead>\n",
       "    <tr style=\"text-align: right;\">\n",
       "      <th></th>\n",
       "      <th>School ID</th>\n",
       "      <th>school_name</th>\n",
       "      <th>type</th>\n",
       "      <th>size</th>\n",
       "      <th>budget</th>\n",
       "      <th>Student ID</th>\n",
       "      <th>student_name</th>\n",
       "      <th>gender</th>\n",
       "      <th>grade</th>\n",
       "      <th>reading_score</th>\n",
       "      <th>math_score</th>\n",
       "    </tr>\n",
       "  </thead>\n",
       "  <tbody>\n",
       "    <tr>\n",
       "      <th>30035</th>\n",
       "      <td>12</td>\n",
       "      <td>Johnson High School</td>\n",
       "      <td>District</td>\n",
       "      <td>4761</td>\n",
       "      <td>3094650</td>\n",
       "      <td>30035</td>\n",
       "      <td>Lisa Casey</td>\n",
       "      <td>F</td>\n",
       "      <td>12th</td>\n",
       "      <td>87</td>\n",
       "      <td>87</td>\n",
       "    </tr>\n",
       "    <tr>\n",
       "      <th>30036</th>\n",
       "      <td>12</td>\n",
       "      <td>Johnson High School</td>\n",
       "      <td>District</td>\n",
       "      <td>4761</td>\n",
       "      <td>3094650</td>\n",
       "      <td>30036</td>\n",
       "      <td>Jessica Lopez</td>\n",
       "      <td>F</td>\n",
       "      <td>9th</td>\n",
       "      <td>98</td>\n",
       "      <td>62</td>\n",
       "    </tr>\n",
       "  </tbody>\n",
       "</table>\n",
       "</div>"
      ],
      "text/plain": [
       "       School ID          school_name      type  size   budget  Student ID  \\\n",
       "30035         12  Johnson High School  District  4761  3094650       30035   \n",
       "30036         12  Johnson High School  District  4761  3094650       30036   \n",
       "\n",
       "        student_name gender grade  reading_score  math_score  \n",
       "30035     Lisa Casey      F  12th             87          87  \n",
       "30036  Jessica Lopez      F   9th             98          62  "
      ]
     },
     "execution_count": 126,
     "metadata": {},
     "output_type": "execute_result"
    }
   ],
   "source": [
    "#Johnson High School Summary \n",
    "J_HS = all_data.loc[(all_data[\"school_name\"] == \"Johnson High School\"), :]\n",
    "J_HS.head(2)"
   ]
  },
  {
   "cell_type": "code",
   "execution_count": 127,
   "metadata": {},
   "outputs": [
    {
     "data": {
      "text/plain": [
       "77.1"
      ]
     },
     "execution_count": 127,
     "metadata": {},
     "output_type": "execute_result"
    }
   ],
   "source": [
    "JHSave_math = J_HS[\"math_score\"].mean()\n",
    "round(JHSave_math, 1)"
   ]
  },
  {
   "cell_type": "code",
   "execution_count": 128,
   "metadata": {},
   "outputs": [
    {
     "data": {
      "text/plain": [
       "81.0"
      ]
     },
     "execution_count": 128,
     "metadata": {},
     "output_type": "execute_result"
    }
   ],
   "source": [
    "JHSave_reading = J_HS[\"reading_score\"].mean()\n",
    "round(JHSave_reading, 1)"
   ]
  },
  {
   "cell_type": "code",
   "execution_count": 129,
   "metadata": {},
   "outputs": [
    {
     "data": {
      "text/plain": [
       "4618"
      ]
     },
     "execution_count": 129,
     "metadata": {},
     "output_type": "execute_result"
    }
   ],
   "source": [
    "JHStudent_tot = len(J_HS[\"student_name\"].unique())\n",
    "JHStudent_tot"
   ]
  },
  {
   "cell_type": "code",
   "execution_count": 130,
   "metadata": {},
   "outputs": [
    {
     "data": {
      "text/plain": [
       "670.1"
      ]
     },
     "execution_count": 130,
     "metadata": {},
     "output_type": "execute_result"
    }
   ],
   "source": [
    "JHSBudper_st = J_HS.iloc[0,4] / JHStudent_tot\n",
    "JHSBudper_st\n",
    "round(JHSBudper_st, 1)"
   ]
  },
  {
   "cell_type": "code",
   "execution_count": 131,
   "metadata": {},
   "outputs": [
    {
     "data": {
      "text/html": [
       "<div>\n",
       "<style scoped>\n",
       "    .dataframe tbody tr th:only-of-type {\n",
       "        vertical-align: middle;\n",
       "    }\n",
       "\n",
       "    .dataframe tbody tr th {\n",
       "        vertical-align: top;\n",
       "    }\n",
       "\n",
       "    .dataframe thead th {\n",
       "        text-align: right;\n",
       "    }\n",
       "</style>\n",
       "<table border=\"1\" class=\"dataframe\">\n",
       "  <thead>\n",
       "    <tr style=\"text-align: right;\">\n",
       "      <th></th>\n",
       "      <th>School ID</th>\n",
       "      <th>school_name</th>\n",
       "      <th>type</th>\n",
       "      <th>size</th>\n",
       "      <th>budget</th>\n",
       "      <th>Student ID</th>\n",
       "      <th>student_name</th>\n",
       "      <th>gender</th>\n",
       "      <th>grade</th>\n",
       "      <th>reading_score</th>\n",
       "      <th>math_score</th>\n",
       "    </tr>\n",
       "  </thead>\n",
       "  <tbody>\n",
       "    <tr>\n",
       "      <th>30035</th>\n",
       "      <td>12</td>\n",
       "      <td>Johnson High School</td>\n",
       "      <td>District</td>\n",
       "      <td>4761</td>\n",
       "      <td>3094650</td>\n",
       "      <td>30035</td>\n",
       "      <td>Lisa Casey</td>\n",
       "      <td>F</td>\n",
       "      <td>12th</td>\n",
       "      <td>87</td>\n",
       "      <td>87</td>\n",
       "    </tr>\n",
       "    <tr>\n",
       "      <th>30036</th>\n",
       "      <td>12</td>\n",
       "      <td>Johnson High School</td>\n",
       "      <td>District</td>\n",
       "      <td>4761</td>\n",
       "      <td>3094650</td>\n",
       "      <td>30036</td>\n",
       "      <td>Jessica Lopez</td>\n",
       "      <td>F</td>\n",
       "      <td>9th</td>\n",
       "      <td>98</td>\n",
       "      <td>62</td>\n",
       "    </tr>\n",
       "  </tbody>\n",
       "</table>\n",
       "</div>"
      ],
      "text/plain": [
       "       School ID          school_name      type  size   budget  Student ID  \\\n",
       "30035         12  Johnson High School  District  4761  3094650       30035   \n",
       "30036         12  Johnson High School  District  4761  3094650       30036   \n",
       "\n",
       "        student_name gender grade  reading_score  math_score  \n",
       "30035     Lisa Casey      F  12th             87          87  \n",
       "30036  Jessica Lopez      F   9th             98          62  "
      ]
     },
     "execution_count": 131,
     "metadata": {},
     "output_type": "execute_result"
    }
   ],
   "source": [
    "JHSpass_df = J_HS.loc[(J_HS[\"math_score\"] > 69.9) | (J_HS[\"reading_score\"] > 69.9), :]\n",
    "JHSpass_df.head(2)"
   ]
  },
  {
   "cell_type": "code",
   "execution_count": 132,
   "metadata": {},
   "outputs": [
    {
     "data": {
      "text/plain": [
       "79.2"
      ]
     },
     "execution_count": 132,
     "metadata": {},
     "output_type": "execute_result"
    }
   ],
   "source": [
    "JHSpass_read = (JHSpass_df[\"reading_score\"].sum() / JHStudent_tot)\n",
    "round(JHSpass_read, 1)"
   ]
  },
  {
   "cell_type": "code",
   "execution_count": 133,
   "metadata": {},
   "outputs": [
    {
     "data": {
      "text/plain": [
       "75.5"
      ]
     },
     "execution_count": 133,
     "metadata": {},
     "output_type": "execute_result"
    }
   ],
   "source": [
    "JHSpass_math = (JHSpass_df[\"math_score\"].sum() / JHStudent_tot)\n",
    "round(JHSpass_math, 1)"
   ]
  },
  {
   "cell_type": "code",
   "execution_count": 134,
   "metadata": {},
   "outputs": [
    {
     "data": {
      "text/plain": [
       "79.0"
      ]
     },
     "execution_count": 134,
     "metadata": {},
     "output_type": "execute_result"
    }
   ],
   "source": [
    "#Calculate the total passing rate \n",
    "JHSpass_rate = (JHSave_math + JHSave_reading)/2\n",
    "JHSpass_rate\n",
    "round(JHSpass_rate, 1)"
   ]
  },
  {
   "cell_type": "code",
   "execution_count": 135,
   "metadata": {},
   "outputs": [
    {
     "data": {
      "text/html": [
       "<div>\n",
       "<style scoped>\n",
       "    .dataframe tbody tr th:only-of-type {\n",
       "        vertical-align: middle;\n",
       "    }\n",
       "\n",
       "    .dataframe tbody tr th {\n",
       "        vertical-align: top;\n",
       "    }\n",
       "\n",
       "    .dataframe thead th {\n",
       "        text-align: right;\n",
       "    }\n",
       "</style>\n",
       "<table border=\"1\" class=\"dataframe\">\n",
       "  <thead>\n",
       "    <tr style=\"text-align: right;\">\n",
       "      <th></th>\n",
       "      <th>School ID</th>\n",
       "      <th>school_name</th>\n",
       "      <th>type</th>\n",
       "      <th>size</th>\n",
       "      <th>budget</th>\n",
       "      <th>Student ID</th>\n",
       "      <th>student_name</th>\n",
       "      <th>gender</th>\n",
       "      <th>grade</th>\n",
       "      <th>reading_score</th>\n",
       "      <th>math_score</th>\n",
       "    </tr>\n",
       "  </thead>\n",
       "  <tbody>\n",
       "    <tr>\n",
       "      <th>34796</th>\n",
       "      <td>13</td>\n",
       "      <td>Ford High School</td>\n",
       "      <td>District</td>\n",
       "      <td>2739</td>\n",
       "      <td>1763916</td>\n",
       "      <td>34796</td>\n",
       "      <td>Michael Mercado</td>\n",
       "      <td>M</td>\n",
       "      <td>9th</td>\n",
       "      <td>66</td>\n",
       "      <td>94</td>\n",
       "    </tr>\n",
       "    <tr>\n",
       "      <th>34797</th>\n",
       "      <td>13</td>\n",
       "      <td>Ford High School</td>\n",
       "      <td>District</td>\n",
       "      <td>2739</td>\n",
       "      <td>1763916</td>\n",
       "      <td>34797</td>\n",
       "      <td>Stephen Wolf</td>\n",
       "      <td>M</td>\n",
       "      <td>11th</td>\n",
       "      <td>68</td>\n",
       "      <td>63</td>\n",
       "    </tr>\n",
       "  </tbody>\n",
       "</table>\n",
       "</div>"
      ],
      "text/plain": [
       "       School ID       school_name      type  size   budget  Student ID  \\\n",
       "34796         13  Ford High School  District  2739  1763916       34796   \n",
       "34797         13  Ford High School  District  2739  1763916       34797   \n",
       "\n",
       "          student_name gender grade  reading_score  math_score  \n",
       "34796  Michael Mercado      M   9th             66          94  \n",
       "34797     Stephen Wolf      M  11th             68          63  "
      ]
     },
     "execution_count": 135,
     "metadata": {},
     "output_type": "execute_result"
    }
   ],
   "source": [
    "#Ford High School Summary \n",
    "FD_HS = all_data.loc[(all_data[\"school_name\"] == \"Ford High School\"), :]\n",
    "FD_HS.head(2)"
   ]
  },
  {
   "cell_type": "code",
   "execution_count": 136,
   "metadata": {},
   "outputs": [
    {
     "data": {
      "text/plain": [
       "77.1"
      ]
     },
     "execution_count": 136,
     "metadata": {},
     "output_type": "execute_result"
    }
   ],
   "source": [
    "FDHSave_math = FD_HS[\"math_score\"].mean()\n",
    "round(FDHSave_math, 1)"
   ]
  },
  {
   "cell_type": "code",
   "execution_count": 137,
   "metadata": {},
   "outputs": [
    {
     "data": {
      "text/plain": [
       "80.7"
      ]
     },
     "execution_count": 137,
     "metadata": {},
     "output_type": "execute_result"
    }
   ],
   "source": [
    "FDHSave_reading = FD_HS[\"reading_score\"].mean()\n",
    "round(FDHSave_reading, 1)"
   ]
  },
  {
   "cell_type": "code",
   "execution_count": 138,
   "metadata": {},
   "outputs": [
    {
     "data": {
      "text/plain": [
       "2676"
      ]
     },
     "execution_count": 138,
     "metadata": {},
     "output_type": "execute_result"
    }
   ],
   "source": [
    "FDHStudent_tot = len(FD_HS[\"student_name\"].unique())\n",
    "FDHStudent_tot"
   ]
  },
  {
   "cell_type": "code",
   "execution_count": 139,
   "metadata": {},
   "outputs": [
    {
     "data": {
      "text/plain": [
       "659.2"
      ]
     },
     "execution_count": 139,
     "metadata": {},
     "output_type": "execute_result"
    }
   ],
   "source": [
    "FDHSBudper_st = FD_HS.iloc[0,4] / FDHStudent_tot\n",
    "FDHSBudper_st\n",
    "round(FDHSBudper_st, 1)"
   ]
  },
  {
   "cell_type": "code",
   "execution_count": 140,
   "metadata": {},
   "outputs": [
    {
     "data": {
      "text/html": [
       "<div>\n",
       "<style scoped>\n",
       "    .dataframe tbody tr th:only-of-type {\n",
       "        vertical-align: middle;\n",
       "    }\n",
       "\n",
       "    .dataframe tbody tr th {\n",
       "        vertical-align: top;\n",
       "    }\n",
       "\n",
       "    .dataframe thead th {\n",
       "        text-align: right;\n",
       "    }\n",
       "</style>\n",
       "<table border=\"1\" class=\"dataframe\">\n",
       "  <thead>\n",
       "    <tr style=\"text-align: right;\">\n",
       "      <th></th>\n",
       "      <th>School ID</th>\n",
       "      <th>school_name</th>\n",
       "      <th>type</th>\n",
       "      <th>size</th>\n",
       "      <th>budget</th>\n",
       "      <th>Student ID</th>\n",
       "      <th>student_name</th>\n",
       "      <th>gender</th>\n",
       "      <th>grade</th>\n",
       "      <th>reading_score</th>\n",
       "      <th>math_score</th>\n",
       "    </tr>\n",
       "  </thead>\n",
       "  <tbody>\n",
       "    <tr>\n",
       "      <th>34796</th>\n",
       "      <td>13</td>\n",
       "      <td>Ford High School</td>\n",
       "      <td>District</td>\n",
       "      <td>2739</td>\n",
       "      <td>1763916</td>\n",
       "      <td>34796</td>\n",
       "      <td>Michael Mercado</td>\n",
       "      <td>M</td>\n",
       "      <td>9th</td>\n",
       "      <td>66</td>\n",
       "      <td>94</td>\n",
       "    </tr>\n",
       "    <tr>\n",
       "      <th>34798</th>\n",
       "      <td>13</td>\n",
       "      <td>Ford High School</td>\n",
       "      <td>District</td>\n",
       "      <td>2739</td>\n",
       "      <td>1763916</td>\n",
       "      <td>34798</td>\n",
       "      <td>Bonnie Hughes</td>\n",
       "      <td>F</td>\n",
       "      <td>12th</td>\n",
       "      <td>73</td>\n",
       "      <td>59</td>\n",
       "    </tr>\n",
       "  </tbody>\n",
       "</table>\n",
       "</div>"
      ],
      "text/plain": [
       "       School ID       school_name      type  size   budget  Student ID  \\\n",
       "34796         13  Ford High School  District  2739  1763916       34796   \n",
       "34798         13  Ford High School  District  2739  1763916       34798   \n",
       "\n",
       "          student_name gender grade  reading_score  math_score  \n",
       "34796  Michael Mercado      M   9th             66          94  \n",
       "34798    Bonnie Hughes      F  12th             73          59  "
      ]
     },
     "execution_count": 140,
     "metadata": {},
     "output_type": "execute_result"
    }
   ],
   "source": [
    "FDHSpass_df = FD_HS.loc[(FD_HS[\"math_score\"] > 69.9) | (FD_HS[\"reading_score\"] > 69.9), :]\n",
    "FDHSpass_df.head(2)"
   ]
  },
  {
   "cell_type": "code",
   "execution_count": 141,
   "metadata": {},
   "outputs": [
    {
     "data": {
      "text/plain": [
       "78.1"
      ]
     },
     "execution_count": 141,
     "metadata": {},
     "output_type": "execute_result"
    }
   ],
   "source": [
    "FDHSpass_read = (FDHSpass_df[\"reading_score\"].sum() / FDHStudent_tot)\n",
    "round(FDHSpass_read, 1)"
   ]
  },
  {
   "cell_type": "code",
   "execution_count": 142,
   "metadata": {},
   "outputs": [
    {
     "data": {
      "text/plain": [
       "74.7"
      ]
     },
     "execution_count": 142,
     "metadata": {},
     "output_type": "execute_result"
    }
   ],
   "source": [
    "FDHSpass_math = (FDHSpass_df[\"math_score\"].sum() / FDHStudent_tot)\n",
    "round(FDHSpass_math, 1)"
   ]
  },
  {
   "cell_type": "code",
   "execution_count": 143,
   "metadata": {},
   "outputs": [
    {
     "data": {
      "text/plain": [
       "78.9"
      ]
     },
     "execution_count": 143,
     "metadata": {},
     "output_type": "execute_result"
    }
   ],
   "source": [
    "#Calculate the total passing rate \n",
    "FDHSpass_rate = (FDHSave_math + FDHSave_reading)/2\n",
    "FDHSpass_rate\n",
    "round(FDHSpass_rate, 1)"
   ]
  },
  {
   "cell_type": "code",
   "execution_count": 144,
   "metadata": {},
   "outputs": [
    {
     "data": {
      "text/html": [
       "<div>\n",
       "<style scoped>\n",
       "    .dataframe tbody tr th:only-of-type {\n",
       "        vertical-align: middle;\n",
       "    }\n",
       "\n",
       "    .dataframe tbody tr th {\n",
       "        vertical-align: top;\n",
       "    }\n",
       "\n",
       "    .dataframe thead th {\n",
       "        text-align: right;\n",
       "    }\n",
       "</style>\n",
       "<table border=\"1\" class=\"dataframe\">\n",
       "  <thead>\n",
       "    <tr style=\"text-align: right;\">\n",
       "      <th></th>\n",
       "      <th>School ID</th>\n",
       "      <th>school_name</th>\n",
       "      <th>type</th>\n",
       "      <th>size</th>\n",
       "      <th>budget</th>\n",
       "      <th>Student ID</th>\n",
       "      <th>student_name</th>\n",
       "      <th>gender</th>\n",
       "      <th>grade</th>\n",
       "      <th>reading_score</th>\n",
       "      <th>math_score</th>\n",
       "    </tr>\n",
       "  </thead>\n",
       "  <tbody>\n",
       "    <tr>\n",
       "      <th>37535</th>\n",
       "      <td>14</td>\n",
       "      <td>Thomas High School</td>\n",
       "      <td>Charter</td>\n",
       "      <td>1635</td>\n",
       "      <td>1043130</td>\n",
       "      <td>37535</td>\n",
       "      <td>Norma Mata</td>\n",
       "      <td>F</td>\n",
       "      <td>10th</td>\n",
       "      <td>76</td>\n",
       "      <td>76</td>\n",
       "    </tr>\n",
       "    <tr>\n",
       "      <th>37536</th>\n",
       "      <td>14</td>\n",
       "      <td>Thomas High School</td>\n",
       "      <td>Charter</td>\n",
       "      <td>1635</td>\n",
       "      <td>1043130</td>\n",
       "      <td>37536</td>\n",
       "      <td>Cody Miller</td>\n",
       "      <td>M</td>\n",
       "      <td>11th</td>\n",
       "      <td>84</td>\n",
       "      <td>82</td>\n",
       "    </tr>\n",
       "  </tbody>\n",
       "</table>\n",
       "</div>"
      ],
      "text/plain": [
       "       School ID         school_name     type  size   budget  Student ID  \\\n",
       "37535         14  Thomas High School  Charter  1635  1043130       37535   \n",
       "37536         14  Thomas High School  Charter  1635  1043130       37536   \n",
       "\n",
       "      student_name gender grade  reading_score  math_score  \n",
       "37535   Norma Mata      F  10th             76          76  \n",
       "37536  Cody Miller      M  11th             84          82  "
      ]
     },
     "execution_count": 144,
     "metadata": {},
     "output_type": "execute_result"
    }
   ],
   "source": [
    "#Thomas High School Summary \n",
    "T_HS = all_data.loc[(all_data[\"school_name\"] == \"Thomas High School\"), :]\n",
    "T_HS.head(2)"
   ]
  },
  {
   "cell_type": "code",
   "execution_count": 145,
   "metadata": {},
   "outputs": [
    {
     "data": {
      "text/plain": [
       "83.4"
      ]
     },
     "execution_count": 145,
     "metadata": {},
     "output_type": "execute_result"
    }
   ],
   "source": [
    "THSave_math = T_HS[\"math_score\"].mean()\n",
    "round(THSave_math, 1)"
   ]
  },
  {
   "cell_type": "code",
   "execution_count": 146,
   "metadata": {},
   "outputs": [
    {
     "data": {
      "text/plain": [
       "83.8"
      ]
     },
     "execution_count": 146,
     "metadata": {},
     "output_type": "execute_result"
    }
   ],
   "source": [
    "THSave_reading = T_HS[\"reading_score\"].mean()\n",
    "round(THSave_reading, 1)"
   ]
  },
  {
   "cell_type": "code",
   "execution_count": 147,
   "metadata": {},
   "outputs": [
    {
     "data": {
      "text/plain": [
       "1619"
      ]
     },
     "execution_count": 147,
     "metadata": {},
     "output_type": "execute_result"
    }
   ],
   "source": [
    "THStudent_tot = len(T_HS[\"student_name\"].unique())\n",
    "THStudent_tot"
   ]
  },
  {
   "cell_type": "code",
   "execution_count": 148,
   "metadata": {},
   "outputs": [
    {
     "data": {
      "text/plain": [
       "644.3"
      ]
     },
     "execution_count": 148,
     "metadata": {},
     "output_type": "execute_result"
    }
   ],
   "source": [
    "THSBudper_st = T_HS.iloc[0,4] / THStudent_tot\n",
    "THSBudper_st\n",
    "round(THSBudper_st, 1)"
   ]
  },
  {
   "cell_type": "code",
   "execution_count": 149,
   "metadata": {},
   "outputs": [
    {
     "data": {
      "text/html": [
       "<div>\n",
       "<style scoped>\n",
       "    .dataframe tbody tr th:only-of-type {\n",
       "        vertical-align: middle;\n",
       "    }\n",
       "\n",
       "    .dataframe tbody tr th {\n",
       "        vertical-align: top;\n",
       "    }\n",
       "\n",
       "    .dataframe thead th {\n",
       "        text-align: right;\n",
       "    }\n",
       "</style>\n",
       "<table border=\"1\" class=\"dataframe\">\n",
       "  <thead>\n",
       "    <tr style=\"text-align: right;\">\n",
       "      <th></th>\n",
       "      <th>School ID</th>\n",
       "      <th>school_name</th>\n",
       "      <th>type</th>\n",
       "      <th>size</th>\n",
       "      <th>budget</th>\n",
       "      <th>Student ID</th>\n",
       "      <th>student_name</th>\n",
       "      <th>gender</th>\n",
       "      <th>grade</th>\n",
       "      <th>reading_score</th>\n",
       "      <th>math_score</th>\n",
       "    </tr>\n",
       "  </thead>\n",
       "  <tbody>\n",
       "    <tr>\n",
       "      <th>37535</th>\n",
       "      <td>14</td>\n",
       "      <td>Thomas High School</td>\n",
       "      <td>Charter</td>\n",
       "      <td>1635</td>\n",
       "      <td>1043130</td>\n",
       "      <td>37535</td>\n",
       "      <td>Norma Mata</td>\n",
       "      <td>F</td>\n",
       "      <td>10th</td>\n",
       "      <td>76</td>\n",
       "      <td>76</td>\n",
       "    </tr>\n",
       "    <tr>\n",
       "      <th>37536</th>\n",
       "      <td>14</td>\n",
       "      <td>Thomas High School</td>\n",
       "      <td>Charter</td>\n",
       "      <td>1635</td>\n",
       "      <td>1043130</td>\n",
       "      <td>37536</td>\n",
       "      <td>Cody Miller</td>\n",
       "      <td>M</td>\n",
       "      <td>11th</td>\n",
       "      <td>84</td>\n",
       "      <td>82</td>\n",
       "    </tr>\n",
       "  </tbody>\n",
       "</table>\n",
       "</div>"
      ],
      "text/plain": [
       "       School ID         school_name     type  size   budget  Student ID  \\\n",
       "37535         14  Thomas High School  Charter  1635  1043130       37535   \n",
       "37536         14  Thomas High School  Charter  1635  1043130       37536   \n",
       "\n",
       "      student_name gender grade  reading_score  math_score  \n",
       "37535   Norma Mata      F  10th             76          76  \n",
       "37536  Cody Miller      M  11th             84          82  "
      ]
     },
     "execution_count": 149,
     "metadata": {},
     "output_type": "execute_result"
    }
   ],
   "source": [
    "THSpass_df = T_HS.loc[(T_HS[\"math_score\"] > 69.9) | (T_HS[\"reading_score\"] > 69.9), :]\n",
    "THSpass_df.head(2)"
   ]
  },
  {
   "cell_type": "code",
   "execution_count": 150,
   "metadata": {},
   "outputs": [
    {
     "data": {
      "text/plain": [
       "84.4"
      ]
     },
     "execution_count": 150,
     "metadata": {},
     "output_type": "execute_result"
    }
   ],
   "source": [
    "THSpass_read = (THSpass_df[\"reading_score\"].sum() / THStudent_tot)\n",
    "round(THSpass_read, 1)"
   ]
  },
  {
   "cell_type": "code",
   "execution_count": 151,
   "metadata": {},
   "outputs": [
    {
     "data": {
      "text/plain": [
       "84.0"
      ]
     },
     "execution_count": 151,
     "metadata": {},
     "output_type": "execute_result"
    }
   ],
   "source": [
    "THSpass_math = (THSpass_df[\"math_score\"].sum() / THStudent_tot)\n",
    "round(THSpass_math, 1)"
   ]
  },
  {
   "cell_type": "code",
   "execution_count": 152,
   "metadata": {},
   "outputs": [
    {
     "data": {
      "text/plain": [
       "83.6"
      ]
     },
     "execution_count": 152,
     "metadata": {},
     "output_type": "execute_result"
    }
   ],
   "source": [
    "#Calculate the total passing rate \n",
    "THSpass_rate = (THSave_math + THSave_reading)/2\n",
    "THSpass_rate\n",
    "round(THSpass_rate, 1)"
   ]
  },
  {
   "cell_type": "code",
   "execution_count": 153,
   "metadata": {},
   "outputs": [
    {
     "data": {
      "text/html": [
       "<div>\n",
       "<style scoped>\n",
       "    .dataframe tbody tr th:only-of-type {\n",
       "        vertical-align: middle;\n",
       "    }\n",
       "\n",
       "    .dataframe tbody tr th {\n",
       "        vertical-align: top;\n",
       "    }\n",
       "\n",
       "    .dataframe thead th {\n",
       "        text-align: right;\n",
       "    }\n",
       "</style>\n",
       "<table border=\"1\" class=\"dataframe\">\n",
       "  <thead>\n",
       "    <tr style=\"text-align: right;\">\n",
       "      <th></th>\n",
       "      <th>% Pass Math</th>\n",
       "      <th>Ave Math Score</th>\n",
       "      <th>Ave Reading</th>\n",
       "      <th>Budget Per Student</th>\n",
       "      <th>School Name</th>\n",
       "      <th>Total Pass Rate</th>\n",
       "      <th>Total School Budget</th>\n",
       "      <th>Total Students</th>\n",
       "      <th>Type</th>\n",
       "    </tr>\n",
       "  </thead>\n",
       "  <tbody>\n",
       "    <tr>\n",
       "      <th>0</th>\n",
       "      <td>74.108817</td>\n",
       "      <td>76.629414</td>\n",
       "      <td>81.182722</td>\n",
       "      <td>668.521693</td>\n",
       "      <td>Huang High School</td>\n",
       "      <td>78.906068</td>\n",
       "      <td>1,910,635</td>\n",
       "      <td>2858</td>\n",
       "      <td>District</td>\n",
       "    </tr>\n",
       "    <tr>\n",
       "      <th>1</th>\n",
       "      <td>74.284477</td>\n",
       "      <td>76.711767</td>\n",
       "      <td>81.158020</td>\n",
       "      <td>652.949064</td>\n",
       "      <td>Figueroa High School</td>\n",
       "      <td>78.934893</td>\n",
       "      <td>1,884,411</td>\n",
       "      <td>2886</td>\n",
       "      <td>District</td>\n",
       "    </tr>\n",
       "    <tr>\n",
       "      <th>2</th>\n",
       "      <td>84.344074</td>\n",
       "      <td>83.359455</td>\n",
       "      <td>83.725724</td>\n",
       "      <td>607.940161</td>\n",
       "      <td>Shelton High School</td>\n",
       "      <td>83.542589</td>\n",
       "      <td>1,056,600</td>\n",
       "      <td>1738</td>\n",
       "      <td>Charter</td>\n",
       "    </tr>\n",
       "    <tr>\n",
       "      <th>3</th>\n",
       "      <td>75.815152</td>\n",
       "      <td>77.289752</td>\n",
       "      <td>80.934412</td>\n",
       "      <td>671.410798</td>\n",
       "      <td>Hernandez High School</td>\n",
       "      <td>79.112082</td>\n",
       "      <td>3,022,020</td>\n",
       "      <td>4501</td>\n",
       "      <td>District</td>\n",
       "    </tr>\n",
       "    <tr>\n",
       "      <th>4</th>\n",
       "      <td>84.396825</td>\n",
       "      <td>83.351499</td>\n",
       "      <td>83.816757</td>\n",
       "      <td>633.195307</td>\n",
       "      <td>Griffin High School</td>\n",
       "      <td>83.584128</td>\n",
       "      <td>917,500</td>\n",
       "      <td>1449</td>\n",
       "      <td>Charter</td>\n",
       "    </tr>\n",
       "    <tr>\n",
       "      <th>5</th>\n",
       "      <td>84.449288</td>\n",
       "      <td>83.274201</td>\n",
       "      <td>83.989488</td>\n",
       "      <td>586.999110</td>\n",
       "      <td>Wilson High School</td>\n",
       "      <td>83.631844</td>\n",
       "      <td>1,319,574</td>\n",
       "      <td>2248</td>\n",
       "      <td>Charter</td>\n",
       "    </tr>\n",
       "    <tr>\n",
       "      <th>6</th>\n",
       "      <td>84.037077</td>\n",
       "      <td>83.061895</td>\n",
       "      <td>83.975780</td>\n",
       "      <td>589.616140</td>\n",
       "      <td>Cabrera High School</td>\n",
       "      <td>83.518837</td>\n",
       "      <td>1,081,356</td>\n",
       "      <td>1834</td>\n",
       "      <td>Charter</td>\n",
       "    </tr>\n",
       "    <tr>\n",
       "      <th>7</th>\n",
       "      <td>76.020421</td>\n",
       "      <td>77.048432</td>\n",
       "      <td>81.033963</td>\n",
       "      <td>651.162325</td>\n",
       "      <td>Bailey High School</td>\n",
       "      <td>79.041198</td>\n",
       "      <td>3,124,928</td>\n",
       "      <td>4799</td>\n",
       "      <td>District</td>\n",
       "    </tr>\n",
       "    <tr>\n",
       "      <th>8</th>\n",
       "      <td>84.073113</td>\n",
       "      <td>83.803279</td>\n",
       "      <td>83.814988</td>\n",
       "      <td>585.110849</td>\n",
       "      <td>Holden High School</td>\n",
       "      <td>83.809133</td>\n",
       "      <td>248,087</td>\n",
       "      <td>424</td>\n",
       "      <td>Charter</td>\n",
       "    </tr>\n",
       "    <tr>\n",
       "      <th>9</th>\n",
       "      <td>84.454450</td>\n",
       "      <td>83.839917</td>\n",
       "      <td>84.044699</td>\n",
       "      <td>613.463874</td>\n",
       "      <td>Pena High School</td>\n",
       "      <td>83.942308</td>\n",
       "      <td>585,858</td>\n",
       "      <td>955</td>\n",
       "      <td>Charter</td>\n",
       "    </tr>\n",
       "    <tr>\n",
       "      <th>10</th>\n",
       "      <td>84.212563</td>\n",
       "      <td>83.682222</td>\n",
       "      <td>83.955000</td>\n",
       "      <td>588.558609</td>\n",
       "      <td>Wright High School</td>\n",
       "      <td>83.818611</td>\n",
       "      <td>1,049,400</td>\n",
       "      <td>1783</td>\n",
       "      <td>Charter</td>\n",
       "    </tr>\n",
       "    <tr>\n",
       "      <th>11</th>\n",
       "      <td>74.683496</td>\n",
       "      <td>76.842711</td>\n",
       "      <td>80.744686</td>\n",
       "      <td>652.835213</td>\n",
       "      <td>Rodriguez High School</td>\n",
       "      <td>78.793698</td>\n",
       "      <td>2,547,363</td>\n",
       "      <td>3902</td>\n",
       "      <td>District</td>\n",
       "    </tr>\n",
       "    <tr>\n",
       "      <th>12</th>\n",
       "      <td>75.466436</td>\n",
       "      <td>77.072464</td>\n",
       "      <td>80.966394</td>\n",
       "      <td>670.127761</td>\n",
       "      <td>Johnson High School</td>\n",
       "      <td>79.019429</td>\n",
       "      <td>3,094,650</td>\n",
       "      <td>4618</td>\n",
       "      <td>District</td>\n",
       "    </tr>\n",
       "    <tr>\n",
       "      <th>13</th>\n",
       "      <td>74.718236</td>\n",
       "      <td>77.102592</td>\n",
       "      <td>80.746258</td>\n",
       "      <td>659.161435</td>\n",
       "      <td>Ford High School</td>\n",
       "      <td>78.924425</td>\n",
       "      <td>1,763,916</td>\n",
       "      <td>2676</td>\n",
       "      <td>District</td>\n",
       "    </tr>\n",
       "    <tr>\n",
       "      <th>14</th>\n",
       "      <td>83.989500</td>\n",
       "      <td>83.418349</td>\n",
       "      <td>83.848930</td>\n",
       "      <td>644.305127</td>\n",
       "      <td>Thomas High School</td>\n",
       "      <td>83.633639</td>\n",
       "      <td>1,043,130</td>\n",
       "      <td>1619</td>\n",
       "      <td>Charter</td>\n",
       "    </tr>\n",
       "  </tbody>\n",
       "</table>\n",
       "</div>"
      ],
      "text/plain": [
       "    % Pass Math  Ave Math Score  Ave Reading  Budget Per Student  \\\n",
       "0     74.108817       76.629414    81.182722          668.521693   \n",
       "1     74.284477       76.711767    81.158020          652.949064   \n",
       "2     84.344074       83.359455    83.725724          607.940161   \n",
       "3     75.815152       77.289752    80.934412          671.410798   \n",
       "4     84.396825       83.351499    83.816757          633.195307   \n",
       "5     84.449288       83.274201    83.989488          586.999110   \n",
       "6     84.037077       83.061895    83.975780          589.616140   \n",
       "7     76.020421       77.048432    81.033963          651.162325   \n",
       "8     84.073113       83.803279    83.814988          585.110849   \n",
       "9     84.454450       83.839917    84.044699          613.463874   \n",
       "10    84.212563       83.682222    83.955000          588.558609   \n",
       "11    74.683496       76.842711    80.744686          652.835213   \n",
       "12    75.466436       77.072464    80.966394          670.127761   \n",
       "13    74.718236       77.102592    80.746258          659.161435   \n",
       "14    83.989500       83.418349    83.848930          644.305127   \n",
       "\n",
       "              School Name  Total Pass Rate Total School Budget  \\\n",
       "0       Huang High School        78.906068           1,910,635   \n",
       "1    Figueroa High School        78.934893           1,884,411   \n",
       "2     Shelton High School        83.542589           1,056,600   \n",
       "3   Hernandez High School        79.112082           3,022,020   \n",
       "4     Griffin High School        83.584128             917,500   \n",
       "5      Wilson High School        83.631844           1,319,574   \n",
       "6     Cabrera High School        83.518837           1,081,356   \n",
       "7      Bailey High School        79.041198           3,124,928   \n",
       "8      Holden High School        83.809133             248,087   \n",
       "9        Pena High School        83.942308             585,858   \n",
       "10     Wright High School        83.818611           1,049,400   \n",
       "11  Rodriguez High School        78.793698           2,547,363   \n",
       "12    Johnson High School        79.019429           3,094,650   \n",
       "13       Ford High School        78.924425           1,763,916   \n",
       "14     Thomas High School        83.633639           1,043,130   \n",
       "\n",
       "    Total Students      Type  \n",
       "0             2858  District  \n",
       "1             2886  District  \n",
       "2             1738   Charter  \n",
       "3             4501  District  \n",
       "4             1449   Charter  \n",
       "5             2248   Charter  \n",
       "6             1834   Charter  \n",
       "7             4799  District  \n",
       "8              424   Charter  \n",
       "9              955   Charter  \n",
       "10            1783   Charter  \n",
       "11            3902  District  \n",
       "12            4618  District  \n",
       "13            2676  District  \n",
       "14            1619   Charter  "
      ]
     },
     "execution_count": 153,
     "metadata": {},
     "output_type": "execute_result"
    }
   ],
   "source": [
    "# Master School Summary\n",
    "School_Summary = pd.DataFrame([\n",
    "{\"School Name\": \"Huang High School\", \"Type\": \"District\", \"Total Students\": HHStudent_tot, \"Total School Budget\": \"1,910,635\", \"Budget Per Student\": HHSBudper_st, \"Ave Math Score\": HHSave_math, \"Ave Reading\": HHSave_reading, \"% Pass Math\": HHSpass_math, \"Total Pass Rate\": HHSpass_rate},\n",
    "{\"School Name\": \"Figueroa High School\", \"Type\": \"District\", \"Total Students\": FHStudent_tot, \"Total School Budget\": \"1,884,411\", \"Budget Per Student\": FHSBudper_st, \"Ave Math Score\": FHSave_math, \"Ave Reading\": FHSave_reading, \"% Pass Math\": FHSpass_math, \"Total Pass Rate\": FHSpass_rate},\n",
    "{\"School Name\": \"Shelton High School\", \"Type\": \"Charter\", \"Total Students\": SHStudent_tot, \"Total School Budget\": \"1,056,600\", \"Budget Per Student\": SHSBudper_st, \"Ave Math Score\": SHSave_math, \"Ave Reading\": SHSave_reading, \"% Pass Math\": SHSpass_math, \"Total Pass Rate\": SHSpass_rate},\n",
    "{\"School Name\": \"Hernandez High School\", \"Type\": \"District\", \"Total Students\": HZHStudent_tot, \"Total School Budget\": \"3,022,020\", \"Budget Per Student\": HZHSBudper_st, \"Ave Math Score\": HZHSave_math, \"Ave Reading\": HZHSave_reading, \"% Pass Math\": HZHSpass_math, \"Total Pass Rate\": HZHSpass_rate},\n",
    "{\"School Name\": \"Griffin High School\", \"Type\": \"Charter\", \"Total Students\": GHStudent_tot, \"Total School Budget\": \"917,500\", \"Budget Per Student\": GHSBudper_st, \"Ave Math Score\": GHSave_math, \"Ave Reading\": GHSave_reading, \"% Pass Math\": GHSpass_math, \"Total Pass Rate\": GHSpass_rate},\n",
    "{\"School Name\": \"Wilson High School\", \"Type\": \"Charter\", \"Total Students\": WHStudent_tot, \"Total School Budget\": \"1,319,574\", \"Budget Per Student\": WHSBudper_st, \"Ave Math Score\": WHSave_math, \"Ave Reading\": WHSave_reading, \"% Pass Math\": WHSpass_math, \"Total Pass Rate\": WHSpass_rate},\n",
    "{\"School Name\": \"Cabrera High School\", \"Type\": \"Charter\", \"Total Students\": CHStudent_tot, \"Total School Budget\": \"1,081,356\", \"Budget Per Student\": CHSBudper_st, \"Ave Math Score\": CHSave_math, \"Ave Reading\": CHSave_reading, \"% Pass Math\": CHSpass_math, \"Total Pass Rate\": CHSpass_rate},\n",
    "{\"School Name\": \"Bailey High School\", \"Type\": \"District\", \"Total Students\": BHStudent_tot, \"Total School Budget\": \"3,124,928\", \"Budget Per Student\": BHSBudper_st, \"Ave Math Score\": BHSave_math, \"Ave Reading\": BHSave_reading, \"% Pass Math\": BHSpass_math, \"Total Pass Rate\": BHSpass_rate},\n",
    "{\"School Name\": \"Holden High School\", \"Type\": \"Charter\", \"Total Students\": HOHStudent_tot, \"Total School Budget\": \"248,087\", \"Budget Per Student\": HOHSBudper_st, \"Ave Math Score\": HOHSave_math, \"Ave Reading\": HOHSave_reading, \"% Pass Math\": HOHSpass_math, \"Total Pass Rate\": HOHSpass_rate},\n",
    "{\"School Name\": \"Pena High School\", \"Type\": \"Charter\", \"Total Students\": PHStudent_tot, \"Total School Budget\": \"585,858\", \"Budget Per Student\": PHSBudper_st, \"Ave Math Score\": PHSave_math, \"Ave Reading\": PHSave_reading, \"% Pass Math\": PHSpass_math, \"Total Pass Rate\": PHSpass_rate},\n",
    "{\"School Name\": \"Wright High School\", \"Type\": \"Charter\", \"Total Students\": WTHStudent_tot, \"Total School Budget\": \"1,049,400\", \"Budget Per Student\": WTHSBudper_st, \"Ave Math Score\": WTHSave_math, \"Ave Reading\": WTHSave_reading, \"% Pass Math\": WTHSpass_math, \"Total Pass Rate\": WTHSpass_rate},\n",
    "{\"School Name\": \"Rodriguez High School\", \"Type\": \"District\", \"Total Students\": RHStudent_tot, \"Total School Budget\": \"2,547,363\", \"Budget Per Student\": RHSBudper_st, \"Ave Math Score\": RHSave_math, \"Ave Reading\": RHSave_reading, \"% Pass Math\": RHSpass_math, \"Total Pass Rate\": RHSpass_rate},\n",
    "{\"School Name\": \"Johnson High School\", \"Type\": \"District\", \"Total Students\": JHStudent_tot, \"Total School Budget\": \"3,094,650\", \"Budget Per Student\": JHSBudper_st, \"Ave Math Score\": JHSave_math, \"Ave Reading\": JHSave_reading, \"% Pass Math\": JHSpass_math, \"Total Pass Rate\": JHSpass_rate},\n",
    "{\"School Name\": \"Ford High School\", \"Type\": \"District\", \"Total Students\": FDHStudent_tot, \"Total School Budget\": \"1,763,916\", \"Budget Per Student\": FDHSBudper_st, \"Ave Math Score\": FDHSave_math, \"Ave Reading\": FDHSave_reading, \"% Pass Math\": FDHSpass_math, \"Total Pass Rate\": FDHSpass_rate},\n",
    "{\"School Name\": \"Thomas High School\", \"Type\": \"Charter\", \"Total Students\": THStudent_tot, \"Total School Budget\": \"1,043,130\", \"Budget Per Student\": THSBudper_st, \"Ave Math Score\": THSave_math, \"Ave Reading\": THSave_reading, \"% Pass Math\": THSpass_math, \"Total Pass Rate\": THSpass_rate}])\n",
    "School_Summary"
   ]
  },
  {
   "cell_type": "code",
   "execution_count": 154,
   "metadata": {},
   "outputs": [],
   "source": [
    "#Top Performing Schools by Passing Rate\n"
   ]
  },
  {
   "cell_type": "code",
   "execution_count": 155,
   "metadata": {},
   "outputs": [
    {
     "data": {
      "text/html": [
       "<div>\n",
       "<style scoped>\n",
       "    .dataframe tbody tr th:only-of-type {\n",
       "        vertical-align: middle;\n",
       "    }\n",
       "\n",
       "    .dataframe tbody tr th {\n",
       "        vertical-align: top;\n",
       "    }\n",
       "\n",
       "    .dataframe thead th {\n",
       "        text-align: right;\n",
       "    }\n",
       "</style>\n",
       "<table border=\"1\" class=\"dataframe\">\n",
       "  <thead>\n",
       "    <tr style=\"text-align: right;\">\n",
       "      <th></th>\n",
       "      <th>% Pass Math</th>\n",
       "      <th>Ave Math Score</th>\n",
       "      <th>Ave Reading</th>\n",
       "      <th>Budget Per Student</th>\n",
       "      <th>Total Pass Rate</th>\n",
       "      <th>Total School Budget</th>\n",
       "      <th>Total Students</th>\n",
       "      <th>Type</th>\n",
       "    </tr>\n",
       "    <tr>\n",
       "      <th>School Name</th>\n",
       "      <th></th>\n",
       "      <th></th>\n",
       "      <th></th>\n",
       "      <th></th>\n",
       "      <th></th>\n",
       "      <th></th>\n",
       "      <th></th>\n",
       "      <th></th>\n",
       "    </tr>\n",
       "  </thead>\n",
       "  <tbody>\n",
       "    <tr>\n",
       "      <th>Huang High School</th>\n",
       "      <td>74.108817</td>\n",
       "      <td>76.629414</td>\n",
       "      <td>81.182722</td>\n",
       "      <td>668.521693</td>\n",
       "      <td>78.906068</td>\n",
       "      <td>1,910,635</td>\n",
       "      <td>2858</td>\n",
       "      <td>District</td>\n",
       "    </tr>\n",
       "    <tr>\n",
       "      <th>Figueroa High School</th>\n",
       "      <td>74.284477</td>\n",
       "      <td>76.711767</td>\n",
       "      <td>81.158020</td>\n",
       "      <td>652.949064</td>\n",
       "      <td>78.934893</td>\n",
       "      <td>1,884,411</td>\n",
       "      <td>2886</td>\n",
       "      <td>District</td>\n",
       "    </tr>\n",
       "  </tbody>\n",
       "</table>\n",
       "</div>"
      ],
      "text/plain": [
       "                      % Pass Math  Ave Math Score  Ave Reading  \\\n",
       "School Name                                                      \n",
       "Huang High School       74.108817       76.629414    81.182722   \n",
       "Figueroa High School    74.284477       76.711767    81.158020   \n",
       "\n",
       "                      Budget Per Student  Total Pass Rate Total School Budget  \\\n",
       "School Name                                                                     \n",
       "Huang High School             668.521693        78.906068           1,910,635   \n",
       "Figueroa High School          652.949064        78.934893           1,884,411   \n",
       "\n",
       "                      Total Students      Type  \n",
       "School Name                                     \n",
       "Huang High School               2858  District  \n",
       "Figueroa High School            2886  District  "
      ]
     },
     "execution_count": 155,
     "metadata": {},
     "output_type": "execute_result"
    }
   ],
   "source": [
    "#Reset Index to School Name \n",
    "Top_df = School_Summary.set_index(\"School Name\")\n",
    "Top_df.head(2)"
   ]
  },
  {
   "cell_type": "code",
   "execution_count": 156,
   "metadata": {},
   "outputs": [
    {
     "data": {
      "text/html": [
       "<div>\n",
       "<style scoped>\n",
       "    .dataframe tbody tr th:only-of-type {\n",
       "        vertical-align: middle;\n",
       "    }\n",
       "\n",
       "    .dataframe tbody tr th {\n",
       "        vertical-align: top;\n",
       "    }\n",
       "\n",
       "    .dataframe thead th {\n",
       "        text-align: right;\n",
       "    }\n",
       "</style>\n",
       "<table border=\"1\" class=\"dataframe\">\n",
       "  <thead>\n",
       "    <tr style=\"text-align: right;\">\n",
       "      <th></th>\n",
       "      <th>% Pass Math</th>\n",
       "      <th>Ave Math Score</th>\n",
       "      <th>Ave Reading</th>\n",
       "      <th>Budget Per Student</th>\n",
       "      <th>Total Pass Rate</th>\n",
       "      <th>Total School Budget</th>\n",
       "      <th>Total Students</th>\n",
       "      <th>Type</th>\n",
       "    </tr>\n",
       "    <tr>\n",
       "      <th>School Name</th>\n",
       "      <th></th>\n",
       "      <th></th>\n",
       "      <th></th>\n",
       "      <th></th>\n",
       "      <th></th>\n",
       "      <th></th>\n",
       "      <th></th>\n",
       "      <th></th>\n",
       "    </tr>\n",
       "  </thead>\n",
       "  <tbody>\n",
       "    <tr>\n",
       "      <th>Pena High School</th>\n",
       "      <td>84.454450</td>\n",
       "      <td>83.839917</td>\n",
       "      <td>84.044699</td>\n",
       "      <td>613.463874</td>\n",
       "      <td>83.942308</td>\n",
       "      <td>585,858</td>\n",
       "      <td>955</td>\n",
       "      <td>Charter</td>\n",
       "    </tr>\n",
       "    <tr>\n",
       "      <th>Wright High School</th>\n",
       "      <td>84.212563</td>\n",
       "      <td>83.682222</td>\n",
       "      <td>83.955000</td>\n",
       "      <td>588.558609</td>\n",
       "      <td>83.818611</td>\n",
       "      <td>1,049,400</td>\n",
       "      <td>1783</td>\n",
       "      <td>Charter</td>\n",
       "    </tr>\n",
       "    <tr>\n",
       "      <th>Holden High School</th>\n",
       "      <td>84.073113</td>\n",
       "      <td>83.803279</td>\n",
       "      <td>83.814988</td>\n",
       "      <td>585.110849</td>\n",
       "      <td>83.809133</td>\n",
       "      <td>248,087</td>\n",
       "      <td>424</td>\n",
       "      <td>Charter</td>\n",
       "    </tr>\n",
       "    <tr>\n",
       "      <th>Thomas High School</th>\n",
       "      <td>83.989500</td>\n",
       "      <td>83.418349</td>\n",
       "      <td>83.848930</td>\n",
       "      <td>644.305127</td>\n",
       "      <td>83.633639</td>\n",
       "      <td>1,043,130</td>\n",
       "      <td>1619</td>\n",
       "      <td>Charter</td>\n",
       "    </tr>\n",
       "    <tr>\n",
       "      <th>Wilson High School</th>\n",
       "      <td>84.449288</td>\n",
       "      <td>83.274201</td>\n",
       "      <td>83.989488</td>\n",
       "      <td>586.999110</td>\n",
       "      <td>83.631844</td>\n",
       "      <td>1,319,574</td>\n",
       "      <td>2248</td>\n",
       "      <td>Charter</td>\n",
       "    </tr>\n",
       "    <tr>\n",
       "      <th>Griffin High School</th>\n",
       "      <td>84.396825</td>\n",
       "      <td>83.351499</td>\n",
       "      <td>83.816757</td>\n",
       "      <td>633.195307</td>\n",
       "      <td>83.584128</td>\n",
       "      <td>917,500</td>\n",
       "      <td>1449</td>\n",
       "      <td>Charter</td>\n",
       "    </tr>\n",
       "    <tr>\n",
       "      <th>Shelton High School</th>\n",
       "      <td>84.344074</td>\n",
       "      <td>83.359455</td>\n",
       "      <td>83.725724</td>\n",
       "      <td>607.940161</td>\n",
       "      <td>83.542589</td>\n",
       "      <td>1,056,600</td>\n",
       "      <td>1738</td>\n",
       "      <td>Charter</td>\n",
       "    </tr>\n",
       "    <tr>\n",
       "      <th>Cabrera High School</th>\n",
       "      <td>84.037077</td>\n",
       "      <td>83.061895</td>\n",
       "      <td>83.975780</td>\n",
       "      <td>589.616140</td>\n",
       "      <td>83.518837</td>\n",
       "      <td>1,081,356</td>\n",
       "      <td>1834</td>\n",
       "      <td>Charter</td>\n",
       "    </tr>\n",
       "    <tr>\n",
       "      <th>Hernandez High School</th>\n",
       "      <td>75.815152</td>\n",
       "      <td>77.289752</td>\n",
       "      <td>80.934412</td>\n",
       "      <td>671.410798</td>\n",
       "      <td>79.112082</td>\n",
       "      <td>3,022,020</td>\n",
       "      <td>4501</td>\n",
       "      <td>District</td>\n",
       "    </tr>\n",
       "    <tr>\n",
       "      <th>Bailey High School</th>\n",
       "      <td>76.020421</td>\n",
       "      <td>77.048432</td>\n",
       "      <td>81.033963</td>\n",
       "      <td>651.162325</td>\n",
       "      <td>79.041198</td>\n",
       "      <td>3,124,928</td>\n",
       "      <td>4799</td>\n",
       "      <td>District</td>\n",
       "    </tr>\n",
       "    <tr>\n",
       "      <th>Johnson High School</th>\n",
       "      <td>75.466436</td>\n",
       "      <td>77.072464</td>\n",
       "      <td>80.966394</td>\n",
       "      <td>670.127761</td>\n",
       "      <td>79.019429</td>\n",
       "      <td>3,094,650</td>\n",
       "      <td>4618</td>\n",
       "      <td>District</td>\n",
       "    </tr>\n",
       "    <tr>\n",
       "      <th>Figueroa High School</th>\n",
       "      <td>74.284477</td>\n",
       "      <td>76.711767</td>\n",
       "      <td>81.158020</td>\n",
       "      <td>652.949064</td>\n",
       "      <td>78.934893</td>\n",
       "      <td>1,884,411</td>\n",
       "      <td>2886</td>\n",
       "      <td>District</td>\n",
       "    </tr>\n",
       "    <tr>\n",
       "      <th>Ford High School</th>\n",
       "      <td>74.718236</td>\n",
       "      <td>77.102592</td>\n",
       "      <td>80.746258</td>\n",
       "      <td>659.161435</td>\n",
       "      <td>78.924425</td>\n",
       "      <td>1,763,916</td>\n",
       "      <td>2676</td>\n",
       "      <td>District</td>\n",
       "    </tr>\n",
       "    <tr>\n",
       "      <th>Huang High School</th>\n",
       "      <td>74.108817</td>\n",
       "      <td>76.629414</td>\n",
       "      <td>81.182722</td>\n",
       "      <td>668.521693</td>\n",
       "      <td>78.906068</td>\n",
       "      <td>1,910,635</td>\n",
       "      <td>2858</td>\n",
       "      <td>District</td>\n",
       "    </tr>\n",
       "    <tr>\n",
       "      <th>Rodriguez High School</th>\n",
       "      <td>74.683496</td>\n",
       "      <td>76.842711</td>\n",
       "      <td>80.744686</td>\n",
       "      <td>652.835213</td>\n",
       "      <td>78.793698</td>\n",
       "      <td>2,547,363</td>\n",
       "      <td>3902</td>\n",
       "      <td>District</td>\n",
       "    </tr>\n",
       "  </tbody>\n",
       "</table>\n",
       "</div>"
      ],
      "text/plain": [
       "                       % Pass Math  Ave Math Score  Ave Reading  \\\n",
       "School Name                                                       \n",
       "Pena High School         84.454450       83.839917    84.044699   \n",
       "Wright High School       84.212563       83.682222    83.955000   \n",
       "Holden High School       84.073113       83.803279    83.814988   \n",
       "Thomas High School       83.989500       83.418349    83.848930   \n",
       "Wilson High School       84.449288       83.274201    83.989488   \n",
       "Griffin High School      84.396825       83.351499    83.816757   \n",
       "Shelton High School      84.344074       83.359455    83.725724   \n",
       "Cabrera High School      84.037077       83.061895    83.975780   \n",
       "Hernandez High School    75.815152       77.289752    80.934412   \n",
       "Bailey High School       76.020421       77.048432    81.033963   \n",
       "Johnson High School      75.466436       77.072464    80.966394   \n",
       "Figueroa High School     74.284477       76.711767    81.158020   \n",
       "Ford High School         74.718236       77.102592    80.746258   \n",
       "Huang High School        74.108817       76.629414    81.182722   \n",
       "Rodriguez High School    74.683496       76.842711    80.744686   \n",
       "\n",
       "                       Budget Per Student  Total Pass Rate  \\\n",
       "School Name                                                  \n",
       "Pena High School               613.463874        83.942308   \n",
       "Wright High School             588.558609        83.818611   \n",
       "Holden High School             585.110849        83.809133   \n",
       "Thomas High School             644.305127        83.633639   \n",
       "Wilson High School             586.999110        83.631844   \n",
       "Griffin High School            633.195307        83.584128   \n",
       "Shelton High School            607.940161        83.542589   \n",
       "Cabrera High School            589.616140        83.518837   \n",
       "Hernandez High School          671.410798        79.112082   \n",
       "Bailey High School             651.162325        79.041198   \n",
       "Johnson High School            670.127761        79.019429   \n",
       "Figueroa High School           652.949064        78.934893   \n",
       "Ford High School               659.161435        78.924425   \n",
       "Huang High School              668.521693        78.906068   \n",
       "Rodriguez High School          652.835213        78.793698   \n",
       "\n",
       "                      Total School Budget  Total Students      Type  \n",
       "School Name                                                          \n",
       "Pena High School                  585,858             955   Charter  \n",
       "Wright High School              1,049,400            1783   Charter  \n",
       "Holden High School                248,087             424   Charter  \n",
       "Thomas High School              1,043,130            1619   Charter  \n",
       "Wilson High School              1,319,574            2248   Charter  \n",
       "Griffin High School               917,500            1449   Charter  \n",
       "Shelton High School             1,056,600            1738   Charter  \n",
       "Cabrera High School             1,081,356            1834   Charter  \n",
       "Hernandez High School           3,022,020            4501  District  \n",
       "Bailey High School              3,124,928            4799  District  \n",
       "Johnson High School             3,094,650            4618  District  \n",
       "Figueroa High School            1,884,411            2886  District  \n",
       "Ford High School                1,763,916            2676  District  \n",
       "Huang High School               1,910,635            2858  District  \n",
       "Rodriguez High School           2,547,363            3902  District  "
      ]
     },
     "execution_count": 156,
     "metadata": {},
     "output_type": "execute_result"
    }
   ],
   "source": [
    "#Sort and Display the schools by overall passing rate\n",
    "Top_five = Top_df.sort_values([\"Total Pass Rate\"], ascending=False)\n",
    "Top_five"
   ]
  },
  {
   "cell_type": "code",
   "execution_count": 157,
   "metadata": {},
   "outputs": [
    {
     "data": {
      "text/html": [
       "<div>\n",
       "<style scoped>\n",
       "    .dataframe tbody tr th:only-of-type {\n",
       "        vertical-align: middle;\n",
       "    }\n",
       "\n",
       "    .dataframe tbody tr th {\n",
       "        vertical-align: top;\n",
       "    }\n",
       "\n",
       "    .dataframe thead th {\n",
       "        text-align: right;\n",
       "    }\n",
       "</style>\n",
       "<table border=\"1\" class=\"dataframe\">\n",
       "  <thead>\n",
       "    <tr style=\"text-align: right;\">\n",
       "      <th></th>\n",
       "      <th>Total Pass Rate</th>\n",
       "    </tr>\n",
       "    <tr>\n",
       "      <th>School Name</th>\n",
       "      <th></th>\n",
       "    </tr>\n",
       "  </thead>\n",
       "  <tbody>\n",
       "    <tr>\n",
       "      <th>Pena High School</th>\n",
       "      <td>83.942308</td>\n",
       "    </tr>\n",
       "    <tr>\n",
       "      <th>Wright High School</th>\n",
       "      <td>83.818611</td>\n",
       "    </tr>\n",
       "    <tr>\n",
       "      <th>Holden High School</th>\n",
       "      <td>83.809133</td>\n",
       "    </tr>\n",
       "    <tr>\n",
       "      <th>Thomas High School</th>\n",
       "      <td>83.633639</td>\n",
       "    </tr>\n",
       "    <tr>\n",
       "      <th>Wilson High School</th>\n",
       "      <td>83.631844</td>\n",
       "    </tr>\n",
       "  </tbody>\n",
       "</table>\n",
       "</div>"
      ],
      "text/plain": [
       "                    Total Pass Rate\n",
       "School Name                        \n",
       "Pena High School          83.942308\n",
       "Wright High School        83.818611\n",
       "Holden High School        83.809133\n",
       "Thomas High School        83.633639\n",
       "Wilson High School        83.631844"
      ]
     },
     "execution_count": 157,
     "metadata": {},
     "output_type": "execute_result"
    }
   ],
   "source": [
    "#Identify top performing five Schools by passing rate\n",
    "\n",
    "Top_passrate = Top_five.iloc[0:5, 4:5]\n",
    "Top_passrate\n"
   ]
  },
  {
   "cell_type": "code",
   "execution_count": 158,
   "metadata": {},
   "outputs": [
    {
     "data": {
      "text/html": [
       "<div>\n",
       "<style scoped>\n",
       "    .dataframe tbody tr th:only-of-type {\n",
       "        vertical-align: middle;\n",
       "    }\n",
       "\n",
       "    .dataframe tbody tr th {\n",
       "        vertical-align: top;\n",
       "    }\n",
       "\n",
       "    .dataframe thead th {\n",
       "        text-align: right;\n",
       "    }\n",
       "</style>\n",
       "<table border=\"1\" class=\"dataframe\">\n",
       "  <thead>\n",
       "    <tr style=\"text-align: right;\">\n",
       "      <th></th>\n",
       "      <th>% Pass Math</th>\n",
       "      <th>Ave Math Score</th>\n",
       "      <th>Ave Reading</th>\n",
       "      <th>Budget Per Student</th>\n",
       "      <th>Total Pass Rate</th>\n",
       "      <th>Total School Budget</th>\n",
       "      <th>Total Students</th>\n",
       "      <th>Type</th>\n",
       "    </tr>\n",
       "    <tr>\n",
       "      <th>School Name</th>\n",
       "      <th></th>\n",
       "      <th></th>\n",
       "      <th></th>\n",
       "      <th></th>\n",
       "      <th></th>\n",
       "      <th></th>\n",
       "      <th></th>\n",
       "      <th></th>\n",
       "    </tr>\n",
       "  </thead>\n",
       "  <tbody>\n",
       "    <tr>\n",
       "      <th>Rodriguez High School</th>\n",
       "      <td>74.683496</td>\n",
       "      <td>76.842711</td>\n",
       "      <td>80.744686</td>\n",
       "      <td>652.835213</td>\n",
       "      <td>78.793698</td>\n",
       "      <td>2,547,363</td>\n",
       "      <td>3902</td>\n",
       "      <td>District</td>\n",
       "    </tr>\n",
       "    <tr>\n",
       "      <th>Huang High School</th>\n",
       "      <td>74.108817</td>\n",
       "      <td>76.629414</td>\n",
       "      <td>81.182722</td>\n",
       "      <td>668.521693</td>\n",
       "      <td>78.906068</td>\n",
       "      <td>1,910,635</td>\n",
       "      <td>2858</td>\n",
       "      <td>District</td>\n",
       "    </tr>\n",
       "    <tr>\n",
       "      <th>Ford High School</th>\n",
       "      <td>74.718236</td>\n",
       "      <td>77.102592</td>\n",
       "      <td>80.746258</td>\n",
       "      <td>659.161435</td>\n",
       "      <td>78.924425</td>\n",
       "      <td>1,763,916</td>\n",
       "      <td>2676</td>\n",
       "      <td>District</td>\n",
       "    </tr>\n",
       "    <tr>\n",
       "      <th>Figueroa High School</th>\n",
       "      <td>74.284477</td>\n",
       "      <td>76.711767</td>\n",
       "      <td>81.158020</td>\n",
       "      <td>652.949064</td>\n",
       "      <td>78.934893</td>\n",
       "      <td>1,884,411</td>\n",
       "      <td>2886</td>\n",
       "      <td>District</td>\n",
       "    </tr>\n",
       "    <tr>\n",
       "      <th>Johnson High School</th>\n",
       "      <td>75.466436</td>\n",
       "      <td>77.072464</td>\n",
       "      <td>80.966394</td>\n",
       "      <td>670.127761</td>\n",
       "      <td>79.019429</td>\n",
       "      <td>3,094,650</td>\n",
       "      <td>4618</td>\n",
       "      <td>District</td>\n",
       "    </tr>\n",
       "    <tr>\n",
       "      <th>Bailey High School</th>\n",
       "      <td>76.020421</td>\n",
       "      <td>77.048432</td>\n",
       "      <td>81.033963</td>\n",
       "      <td>651.162325</td>\n",
       "      <td>79.041198</td>\n",
       "      <td>3,124,928</td>\n",
       "      <td>4799</td>\n",
       "      <td>District</td>\n",
       "    </tr>\n",
       "    <tr>\n",
       "      <th>Hernandez High School</th>\n",
       "      <td>75.815152</td>\n",
       "      <td>77.289752</td>\n",
       "      <td>80.934412</td>\n",
       "      <td>671.410798</td>\n",
       "      <td>79.112082</td>\n",
       "      <td>3,022,020</td>\n",
       "      <td>4501</td>\n",
       "      <td>District</td>\n",
       "    </tr>\n",
       "    <tr>\n",
       "      <th>Cabrera High School</th>\n",
       "      <td>84.037077</td>\n",
       "      <td>83.061895</td>\n",
       "      <td>83.975780</td>\n",
       "      <td>589.616140</td>\n",
       "      <td>83.518837</td>\n",
       "      <td>1,081,356</td>\n",
       "      <td>1834</td>\n",
       "      <td>Charter</td>\n",
       "    </tr>\n",
       "    <tr>\n",
       "      <th>Shelton High School</th>\n",
       "      <td>84.344074</td>\n",
       "      <td>83.359455</td>\n",
       "      <td>83.725724</td>\n",
       "      <td>607.940161</td>\n",
       "      <td>83.542589</td>\n",
       "      <td>1,056,600</td>\n",
       "      <td>1738</td>\n",
       "      <td>Charter</td>\n",
       "    </tr>\n",
       "    <tr>\n",
       "      <th>Griffin High School</th>\n",
       "      <td>84.396825</td>\n",
       "      <td>83.351499</td>\n",
       "      <td>83.816757</td>\n",
       "      <td>633.195307</td>\n",
       "      <td>83.584128</td>\n",
       "      <td>917,500</td>\n",
       "      <td>1449</td>\n",
       "      <td>Charter</td>\n",
       "    </tr>\n",
       "    <tr>\n",
       "      <th>Wilson High School</th>\n",
       "      <td>84.449288</td>\n",
       "      <td>83.274201</td>\n",
       "      <td>83.989488</td>\n",
       "      <td>586.999110</td>\n",
       "      <td>83.631844</td>\n",
       "      <td>1,319,574</td>\n",
       "      <td>2248</td>\n",
       "      <td>Charter</td>\n",
       "    </tr>\n",
       "    <tr>\n",
       "      <th>Thomas High School</th>\n",
       "      <td>83.989500</td>\n",
       "      <td>83.418349</td>\n",
       "      <td>83.848930</td>\n",
       "      <td>644.305127</td>\n",
       "      <td>83.633639</td>\n",
       "      <td>1,043,130</td>\n",
       "      <td>1619</td>\n",
       "      <td>Charter</td>\n",
       "    </tr>\n",
       "    <tr>\n",
       "      <th>Holden High School</th>\n",
       "      <td>84.073113</td>\n",
       "      <td>83.803279</td>\n",
       "      <td>83.814988</td>\n",
       "      <td>585.110849</td>\n",
       "      <td>83.809133</td>\n",
       "      <td>248,087</td>\n",
       "      <td>424</td>\n",
       "      <td>Charter</td>\n",
       "    </tr>\n",
       "    <tr>\n",
       "      <th>Wright High School</th>\n",
       "      <td>84.212563</td>\n",
       "      <td>83.682222</td>\n",
       "      <td>83.955000</td>\n",
       "      <td>588.558609</td>\n",
       "      <td>83.818611</td>\n",
       "      <td>1,049,400</td>\n",
       "      <td>1783</td>\n",
       "      <td>Charter</td>\n",
       "    </tr>\n",
       "    <tr>\n",
       "      <th>Pena High School</th>\n",
       "      <td>84.454450</td>\n",
       "      <td>83.839917</td>\n",
       "      <td>84.044699</td>\n",
       "      <td>613.463874</td>\n",
       "      <td>83.942308</td>\n",
       "      <td>585,858</td>\n",
       "      <td>955</td>\n",
       "      <td>Charter</td>\n",
       "    </tr>\n",
       "  </tbody>\n",
       "</table>\n",
       "</div>"
      ],
      "text/plain": [
       "                       % Pass Math  Ave Math Score  Ave Reading  \\\n",
       "School Name                                                       \n",
       "Rodriguez High School    74.683496       76.842711    80.744686   \n",
       "Huang High School        74.108817       76.629414    81.182722   \n",
       "Ford High School         74.718236       77.102592    80.746258   \n",
       "Figueroa High School     74.284477       76.711767    81.158020   \n",
       "Johnson High School      75.466436       77.072464    80.966394   \n",
       "Bailey High School       76.020421       77.048432    81.033963   \n",
       "Hernandez High School    75.815152       77.289752    80.934412   \n",
       "Cabrera High School      84.037077       83.061895    83.975780   \n",
       "Shelton High School      84.344074       83.359455    83.725724   \n",
       "Griffin High School      84.396825       83.351499    83.816757   \n",
       "Wilson High School       84.449288       83.274201    83.989488   \n",
       "Thomas High School       83.989500       83.418349    83.848930   \n",
       "Holden High School       84.073113       83.803279    83.814988   \n",
       "Wright High School       84.212563       83.682222    83.955000   \n",
       "Pena High School         84.454450       83.839917    84.044699   \n",
       "\n",
       "                       Budget Per Student  Total Pass Rate  \\\n",
       "School Name                                                  \n",
       "Rodriguez High School          652.835213        78.793698   \n",
       "Huang High School              668.521693        78.906068   \n",
       "Ford High School               659.161435        78.924425   \n",
       "Figueroa High School           652.949064        78.934893   \n",
       "Johnson High School            670.127761        79.019429   \n",
       "Bailey High School             651.162325        79.041198   \n",
       "Hernandez High School          671.410798        79.112082   \n",
       "Cabrera High School            589.616140        83.518837   \n",
       "Shelton High School            607.940161        83.542589   \n",
       "Griffin High School            633.195307        83.584128   \n",
       "Wilson High School             586.999110        83.631844   \n",
       "Thomas High School             644.305127        83.633639   \n",
       "Holden High School             585.110849        83.809133   \n",
       "Wright High School             588.558609        83.818611   \n",
       "Pena High School               613.463874        83.942308   \n",
       "\n",
       "                      Total School Budget  Total Students      Type  \n",
       "School Name                                                          \n",
       "Rodriguez High School           2,547,363            3902  District  \n",
       "Huang High School               1,910,635            2858  District  \n",
       "Ford High School                1,763,916            2676  District  \n",
       "Figueroa High School            1,884,411            2886  District  \n",
       "Johnson High School             3,094,650            4618  District  \n",
       "Bailey High School              3,124,928            4799  District  \n",
       "Hernandez High School           3,022,020            4501  District  \n",
       "Cabrera High School             1,081,356            1834   Charter  \n",
       "Shelton High School             1,056,600            1738   Charter  \n",
       "Griffin High School               917,500            1449   Charter  \n",
       "Wilson High School              1,319,574            2248   Charter  \n",
       "Thomas High School              1,043,130            1619   Charter  \n",
       "Holden High School                248,087             424   Charter  \n",
       "Wright High School              1,049,400            1783   Charter  \n",
       "Pena High School                  585,858             955   Charter  "
      ]
     },
     "execution_count": 158,
     "metadata": {},
     "output_type": "execute_result"
    }
   ],
   "source": [
    "#Sort and Display the schools by overall passing rate\n",
    "Bottom_five = Top_df.sort_values([\"Total Pass Rate\"], ascending=True)\n",
    "Bottom_five"
   ]
  },
  {
   "cell_type": "code",
   "execution_count": 159,
   "metadata": {},
   "outputs": [
    {
     "data": {
      "text/html": [
       "<div>\n",
       "<style scoped>\n",
       "    .dataframe tbody tr th:only-of-type {\n",
       "        vertical-align: middle;\n",
       "    }\n",
       "\n",
       "    .dataframe tbody tr th {\n",
       "        vertical-align: top;\n",
       "    }\n",
       "\n",
       "    .dataframe thead th {\n",
       "        text-align: right;\n",
       "    }\n",
       "</style>\n",
       "<table border=\"1\" class=\"dataframe\">\n",
       "  <thead>\n",
       "    <tr style=\"text-align: right;\">\n",
       "      <th></th>\n",
       "      <th>Total Pass Rate</th>\n",
       "    </tr>\n",
       "    <tr>\n",
       "      <th>School Name</th>\n",
       "      <th></th>\n",
       "    </tr>\n",
       "  </thead>\n",
       "  <tbody>\n",
       "    <tr>\n",
       "      <th>Rodriguez High School</th>\n",
       "      <td>78.793698</td>\n",
       "    </tr>\n",
       "    <tr>\n",
       "      <th>Huang High School</th>\n",
       "      <td>78.906068</td>\n",
       "    </tr>\n",
       "    <tr>\n",
       "      <th>Ford High School</th>\n",
       "      <td>78.924425</td>\n",
       "    </tr>\n",
       "    <tr>\n",
       "      <th>Figueroa High School</th>\n",
       "      <td>78.934893</td>\n",
       "    </tr>\n",
       "    <tr>\n",
       "      <th>Johnson High School</th>\n",
       "      <td>79.019429</td>\n",
       "    </tr>\n",
       "  </tbody>\n",
       "</table>\n",
       "</div>"
      ],
      "text/plain": [
       "                       Total Pass Rate\n",
       "School Name                           \n",
       "Rodriguez High School        78.793698\n",
       "Huang High School            78.906068\n",
       "Ford High School             78.924425\n",
       "Figueroa High School         78.934893\n",
       "Johnson High School          79.019429"
      ]
     },
     "execution_count": 159,
     "metadata": {},
     "output_type": "execute_result"
    }
   ],
   "source": [
    "#Identify bottom performing five Schools by Passing Rate \n",
    "\n",
    "Bottom_passrate = Bottom_five.iloc[0:5, 4:5]\n",
    "Bottom_passrate"
   ]
  },
  {
   "cell_type": "code",
   "execution_count": 160,
   "metadata": {},
   "outputs": [],
   "source": [
    "#Math Scores by Grade - display Math and Reading Scores for each grade level at each school "
   ]
  },
  {
   "cell_type": "code",
   "execution_count": 161,
   "metadata": {},
   "outputs": [
    {
     "name": "stdout",
     "output_type": "stream",
     "text": [
      "671.4107976005332\n",
      "585.1108490566038\n"
     ]
    }
   ],
   "source": [
    "#Scores by School Spending Per Student \n",
    "print(School_Summary[\"Budget Per Student\"].max())\n",
    "print(School_Summary[\"Budget Per Student\"].min())"
   ]
  },
  {
   "cell_type": "code",
   "execution_count": 162,
   "metadata": {},
   "outputs": [],
   "source": [
    "#Define Bins for ranges \n",
    "bins = [0, 600, 625, 650, 675]\n",
    "range_label = [\"0 to 600\", \"600 to 625\", \"625 to 650\", \"650 to 675\"] "
   ]
  },
  {
   "cell_type": "code",
   "execution_count": 163,
   "metadata": {},
   "outputs": [
    {
     "data": {
      "text/plain": [
       "0    650 to 675\n",
       "1    650 to 675\n",
       "2    600 to 625\n",
       "3    650 to 675\n",
       "4    625 to 650\n",
       "Name: Budget Per Student, dtype: category\n",
       "Categories (4, object): [0 to 600 < 600 to 625 < 625 to 650 < 650 to 675]"
      ]
     },
     "execution_count": 163,
     "metadata": {},
     "output_type": "execute_result"
    }
   ],
   "source": [
    "#Cut Data \n",
    "pd.cut(School_Summary[\"Budget Per Student\"], bins, labels=range_label).head()"
   ]
  },
  {
   "cell_type": "code",
   "execution_count": 164,
   "metadata": {},
   "outputs": [
    {
     "data": {
      "text/html": [
       "<div>\n",
       "<style scoped>\n",
       "    .dataframe tbody tr th:only-of-type {\n",
       "        vertical-align: middle;\n",
       "    }\n",
       "\n",
       "    .dataframe tbody tr th {\n",
       "        vertical-align: top;\n",
       "    }\n",
       "\n",
       "    .dataframe thead th {\n",
       "        text-align: right;\n",
       "    }\n",
       "</style>\n",
       "<table border=\"1\" class=\"dataframe\">\n",
       "  <thead>\n",
       "    <tr style=\"text-align: right;\">\n",
       "      <th></th>\n",
       "      <th>% Pass Math</th>\n",
       "      <th>Ave Math Score</th>\n",
       "      <th>Ave Reading</th>\n",
       "      <th>Budget Per Student</th>\n",
       "      <th>School Name</th>\n",
       "      <th>Total Pass Rate</th>\n",
       "      <th>Total School Budget</th>\n",
       "      <th>Total Students</th>\n",
       "      <th>Type</th>\n",
       "      <th>Budget Group</th>\n",
       "    </tr>\n",
       "  </thead>\n",
       "  <tbody>\n",
       "    <tr>\n",
       "      <th>0</th>\n",
       "      <td>74.108817</td>\n",
       "      <td>76.629414</td>\n",
       "      <td>81.182722</td>\n",
       "      <td>668.521693</td>\n",
       "      <td>Huang High School</td>\n",
       "      <td>78.906068</td>\n",
       "      <td>1,910,635</td>\n",
       "      <td>2858</td>\n",
       "      <td>District</td>\n",
       "      <td>650 to 675</td>\n",
       "    </tr>\n",
       "    <tr>\n",
       "      <th>1</th>\n",
       "      <td>74.284477</td>\n",
       "      <td>76.711767</td>\n",
       "      <td>81.158020</td>\n",
       "      <td>652.949064</td>\n",
       "      <td>Figueroa High School</td>\n",
       "      <td>78.934893</td>\n",
       "      <td>1,884,411</td>\n",
       "      <td>2886</td>\n",
       "      <td>District</td>\n",
       "      <td>650 to 675</td>\n",
       "    </tr>\n",
       "    <tr>\n",
       "      <th>2</th>\n",
       "      <td>84.344074</td>\n",
       "      <td>83.359455</td>\n",
       "      <td>83.725724</td>\n",
       "      <td>607.940161</td>\n",
       "      <td>Shelton High School</td>\n",
       "      <td>83.542589</td>\n",
       "      <td>1,056,600</td>\n",
       "      <td>1738</td>\n",
       "      <td>Charter</td>\n",
       "      <td>600 to 625</td>\n",
       "    </tr>\n",
       "    <tr>\n",
       "      <th>3</th>\n",
       "      <td>75.815152</td>\n",
       "      <td>77.289752</td>\n",
       "      <td>80.934412</td>\n",
       "      <td>671.410798</td>\n",
       "      <td>Hernandez High School</td>\n",
       "      <td>79.112082</td>\n",
       "      <td>3,022,020</td>\n",
       "      <td>4501</td>\n",
       "      <td>District</td>\n",
       "      <td>650 to 675</td>\n",
       "    </tr>\n",
       "    <tr>\n",
       "      <th>4</th>\n",
       "      <td>84.396825</td>\n",
       "      <td>83.351499</td>\n",
       "      <td>83.816757</td>\n",
       "      <td>633.195307</td>\n",
       "      <td>Griffin High School</td>\n",
       "      <td>83.584128</td>\n",
       "      <td>917,500</td>\n",
       "      <td>1449</td>\n",
       "      <td>Charter</td>\n",
       "      <td>625 to 650</td>\n",
       "    </tr>\n",
       "  </tbody>\n",
       "</table>\n",
       "</div>"
      ],
      "text/plain": [
       "   % Pass Math  Ave Math Score  Ave Reading  Budget Per Student  \\\n",
       "0    74.108817       76.629414    81.182722          668.521693   \n",
       "1    74.284477       76.711767    81.158020          652.949064   \n",
       "2    84.344074       83.359455    83.725724          607.940161   \n",
       "3    75.815152       77.289752    80.934412          671.410798   \n",
       "4    84.396825       83.351499    83.816757          633.195307   \n",
       "\n",
       "             School Name  Total Pass Rate Total School Budget  Total Students  \\\n",
       "0      Huang High School        78.906068           1,910,635            2858   \n",
       "1   Figueroa High School        78.934893           1,884,411            2886   \n",
       "2    Shelton High School        83.542589           1,056,600            1738   \n",
       "3  Hernandez High School        79.112082           3,022,020            4501   \n",
       "4    Griffin High School        83.584128             917,500            1449   \n",
       "\n",
       "       Type Budget Group  \n",
       "0  District   650 to 675  \n",
       "1  District   650 to 675  \n",
       "2   Charter   600 to 625  \n",
       "3  District   650 to 675  \n",
       "4   Charter   625 to 650  "
      ]
     },
     "execution_count": 164,
     "metadata": {},
     "output_type": "execute_result"
    }
   ],
   "source": [
    "#Add data to dataframe \n",
    "School_Summary[\"Budget Group\"] = pd.cut(School_Summary[\"Budget Per Student\"], bins, labels=range_label)\n",
    "School_Summary.head()"
   ]
  },
  {
   "cell_type": "code",
   "execution_count": 173,
   "metadata": {},
   "outputs": [
    {
     "name": "stdout",
     "output_type": "stream",
     "text": [
      "Budget Group\n",
      "0 to 600      4\n",
      "600 to 625    2\n",
      "625 to 650    2\n",
      "650 to 675    7\n",
      "Name: School Name, dtype: int64\n"
     ]
    },
    {
     "data": {
      "text/html": [
       "<div>\n",
       "<style scoped>\n",
       "    .dataframe tbody tr th:only-of-type {\n",
       "        vertical-align: middle;\n",
       "    }\n",
       "\n",
       "    .dataframe tbody tr th {\n",
       "        vertical-align: top;\n",
       "    }\n",
       "\n",
       "    .dataframe thead th {\n",
       "        text-align: right;\n",
       "    }\n",
       "</style>\n",
       "<table border=\"1\" class=\"dataframe\">\n",
       "  <thead>\n",
       "    <tr style=\"text-align: right;\">\n",
       "      <th></th>\n",
       "      <th>Ave Math Score</th>\n",
       "      <th>Ave Reading</th>\n",
       "      <th>Total Pass Rate</th>\n",
       "      <th>% Pass Math</th>\n",
       "    </tr>\n",
       "    <tr>\n",
       "      <th>Budget Group</th>\n",
       "      <th></th>\n",
       "      <th></th>\n",
       "      <th></th>\n",
       "      <th></th>\n",
       "    </tr>\n",
       "  </thead>\n",
       "  <tbody>\n",
       "    <tr>\n",
       "      <th>0 to 600</th>\n",
       "      <td>83.455399</td>\n",
       "      <td>83.933814</td>\n",
       "      <td>83.694607</td>\n",
       "      <td>84.193010</td>\n",
       "    </tr>\n",
       "    <tr>\n",
       "      <th>600 to 625</th>\n",
       "      <td>83.599686</td>\n",
       "      <td>83.885211</td>\n",
       "      <td>83.742449</td>\n",
       "      <td>84.399262</td>\n",
       "    </tr>\n",
       "    <tr>\n",
       "      <th>625 to 650</th>\n",
       "      <td>83.384924</td>\n",
       "      <td>83.832844</td>\n",
       "      <td>83.608884</td>\n",
       "      <td>84.193163</td>\n",
       "    </tr>\n",
       "    <tr>\n",
       "      <th>650 to 675</th>\n",
       "      <td>76.956733</td>\n",
       "      <td>80.966636</td>\n",
       "      <td>78.961685</td>\n",
       "      <td>75.013862</td>\n",
       "    </tr>\n",
       "  </tbody>\n",
       "</table>\n",
       "</div>"
      ],
      "text/plain": [
       "              Ave Math Score  Ave Reading  Total Pass Rate  % Pass Math\n",
       "Budget Group                                                           \n",
       "0 to 600           83.455399    83.933814        83.694607    84.193010\n",
       "600 to 625         83.599686    83.885211        83.742449    84.399262\n",
       "625 to 650         83.384924    83.832844        83.608884    84.193163\n",
       "650 to 675         76.956733    80.966636        78.961685    75.013862"
      ]
     },
     "execution_count": 173,
     "metadata": {},
     "output_type": "execute_result"
    }
   ],
   "source": [
    "#Results of Scores by Budget Group  \n",
    "all_data_grp = School_Summary.groupby(\"Budget Group\")\n",
    "print((all_data_grp[\"School Name\"]).count())\n",
    "all_data_grp[[\"Ave Math Score\", \"Ave Reading\", \"Total Pass Rate\", \"% Pass Math\"]].mean()\n"
   ]
  },
  {
   "cell_type": "code",
   "execution_count": 175,
   "metadata": {},
   "outputs": [
    {
     "name": "stdout",
     "output_type": "stream",
     "text": [
      "4799\n",
      "424\n"
     ]
    }
   ],
   "source": [
    "#Scores by School Size \n",
    "\n",
    "print(School_Summary[\"Total Students\"].max())\n",
    "print(School_Summary[\"Total Students\"].min())"
   ]
  },
  {
   "cell_type": "code",
   "execution_count": 167,
   "metadata": {},
   "outputs": [],
   "source": [
    "##Define Bins for ranges \n",
    "bins = [0, 500, 1000, 1500, 2000, 3000, 4000, 5000]\n",
    "range_label = [\"0 to 500\", \"500 to 1000\", \"1000 to 1500\", \"1500 to 2000\", \"2000 to 3000\", \"3000 to 4000\", \"4000 to 5000\"] "
   ]
  },
  {
   "cell_type": "code",
   "execution_count": 176,
   "metadata": {},
   "outputs": [
    {
     "data": {
      "text/plain": [
       "0    2000 to 3000\n",
       "1    2000 to 3000\n",
       "2    1500 to 2000\n",
       "3    4000 to 5000\n",
       "4    1000 to 1500\n",
       "Name: Total Students, dtype: category\n",
       "Categories (7, object): [0 to 500 < 500 to 1000 < 1000 to 1500 < 1500 to 2000 < 2000 to 3000 < 3000 to 4000 < 4000 to 5000]"
      ]
     },
     "execution_count": 176,
     "metadata": {},
     "output_type": "execute_result"
    }
   ],
   "source": [
    "#Cut Data \n",
    "pd.cut(School_Summary[\"Total Students\"], bins, labels=range_label).head()"
   ]
  },
  {
   "cell_type": "code",
   "execution_count": 177,
   "metadata": {},
   "outputs": [
    {
     "data": {
      "text/html": [
       "<div>\n",
       "<style scoped>\n",
       "    .dataframe tbody tr th:only-of-type {\n",
       "        vertical-align: middle;\n",
       "    }\n",
       "\n",
       "    .dataframe tbody tr th {\n",
       "        vertical-align: top;\n",
       "    }\n",
       "\n",
       "    .dataframe thead th {\n",
       "        text-align: right;\n",
       "    }\n",
       "</style>\n",
       "<table border=\"1\" class=\"dataframe\">\n",
       "  <thead>\n",
       "    <tr style=\"text-align: right;\">\n",
       "      <th></th>\n",
       "      <th>% Pass Math</th>\n",
       "      <th>Ave Math Score</th>\n",
       "      <th>Ave Reading</th>\n",
       "      <th>Budget Per Student</th>\n",
       "      <th>School Name</th>\n",
       "      <th>Total Pass Rate</th>\n",
       "      <th>Total School Budget</th>\n",
       "      <th>Total Students</th>\n",
       "      <th>Type</th>\n",
       "      <th>Budget Group</th>\n",
       "      <th>Size Group</th>\n",
       "    </tr>\n",
       "  </thead>\n",
       "  <tbody>\n",
       "    <tr>\n",
       "      <th>0</th>\n",
       "      <td>74.108817</td>\n",
       "      <td>76.629414</td>\n",
       "      <td>81.182722</td>\n",
       "      <td>668.521693</td>\n",
       "      <td>Huang High School</td>\n",
       "      <td>78.906068</td>\n",
       "      <td>1,910,635</td>\n",
       "      <td>2858</td>\n",
       "      <td>District</td>\n",
       "      <td>650 to 675</td>\n",
       "      <td>2000 to 3000</td>\n",
       "    </tr>\n",
       "    <tr>\n",
       "      <th>1</th>\n",
       "      <td>74.284477</td>\n",
       "      <td>76.711767</td>\n",
       "      <td>81.158020</td>\n",
       "      <td>652.949064</td>\n",
       "      <td>Figueroa High School</td>\n",
       "      <td>78.934893</td>\n",
       "      <td>1,884,411</td>\n",
       "      <td>2886</td>\n",
       "      <td>District</td>\n",
       "      <td>650 to 675</td>\n",
       "      <td>2000 to 3000</td>\n",
       "    </tr>\n",
       "    <tr>\n",
       "      <th>2</th>\n",
       "      <td>84.344074</td>\n",
       "      <td>83.359455</td>\n",
       "      <td>83.725724</td>\n",
       "      <td>607.940161</td>\n",
       "      <td>Shelton High School</td>\n",
       "      <td>83.542589</td>\n",
       "      <td>1,056,600</td>\n",
       "      <td>1738</td>\n",
       "      <td>Charter</td>\n",
       "      <td>600 to 625</td>\n",
       "      <td>1500 to 2000</td>\n",
       "    </tr>\n",
       "    <tr>\n",
       "      <th>3</th>\n",
       "      <td>75.815152</td>\n",
       "      <td>77.289752</td>\n",
       "      <td>80.934412</td>\n",
       "      <td>671.410798</td>\n",
       "      <td>Hernandez High School</td>\n",
       "      <td>79.112082</td>\n",
       "      <td>3,022,020</td>\n",
       "      <td>4501</td>\n",
       "      <td>District</td>\n",
       "      <td>650 to 675</td>\n",
       "      <td>4000 to 5000</td>\n",
       "    </tr>\n",
       "    <tr>\n",
       "      <th>4</th>\n",
       "      <td>84.396825</td>\n",
       "      <td>83.351499</td>\n",
       "      <td>83.816757</td>\n",
       "      <td>633.195307</td>\n",
       "      <td>Griffin High School</td>\n",
       "      <td>83.584128</td>\n",
       "      <td>917,500</td>\n",
       "      <td>1449</td>\n",
       "      <td>Charter</td>\n",
       "      <td>625 to 650</td>\n",
       "      <td>1000 to 1500</td>\n",
       "    </tr>\n",
       "  </tbody>\n",
       "</table>\n",
       "</div>"
      ],
      "text/plain": [
       "   % Pass Math  Ave Math Score  Ave Reading  Budget Per Student  \\\n",
       "0    74.108817       76.629414    81.182722          668.521693   \n",
       "1    74.284477       76.711767    81.158020          652.949064   \n",
       "2    84.344074       83.359455    83.725724          607.940161   \n",
       "3    75.815152       77.289752    80.934412          671.410798   \n",
       "4    84.396825       83.351499    83.816757          633.195307   \n",
       "\n",
       "             School Name  Total Pass Rate Total School Budget  Total Students  \\\n",
       "0      Huang High School        78.906068           1,910,635            2858   \n",
       "1   Figueroa High School        78.934893           1,884,411            2886   \n",
       "2    Shelton High School        83.542589           1,056,600            1738   \n",
       "3  Hernandez High School        79.112082           3,022,020            4501   \n",
       "4    Griffin High School        83.584128             917,500            1449   \n",
       "\n",
       "       Type Budget Group    Size Group  \n",
       "0  District   650 to 675  2000 to 3000  \n",
       "1  District   650 to 675  2000 to 3000  \n",
       "2   Charter   600 to 625  1500 to 2000  \n",
       "3  District   650 to 675  4000 to 5000  \n",
       "4   Charter   625 to 650  1000 to 1500  "
      ]
     },
     "execution_count": 177,
     "metadata": {},
     "output_type": "execute_result"
    }
   ],
   "source": [
    "#Add data to dataframe \n",
    "School_Summary[\"Size Group\"] = pd.cut(School_Summary[\"Total Students\"], bins, labels=range_label)\n",
    "School_Summary.head()"
   ]
  },
  {
   "cell_type": "code",
   "execution_count": 178,
   "metadata": {},
   "outputs": [
    {
     "name": "stdout",
     "output_type": "stream",
     "text": [
      "Size Group\n",
      "0 to 500        1\n",
      "500 to 1000     1\n",
      "1000 to 1500    1\n",
      "1500 to 2000    4\n",
      "2000 to 3000    4\n",
      "3000 to 4000    1\n",
      "4000 to 5000    3\n",
      "Name: School Name, dtype: int64\n"
     ]
    },
    {
     "data": {
      "text/html": [
       "<div>\n",
       "<style scoped>\n",
       "    .dataframe tbody tr th:only-of-type {\n",
       "        vertical-align: middle;\n",
       "    }\n",
       "\n",
       "    .dataframe tbody tr th {\n",
       "        vertical-align: top;\n",
       "    }\n",
       "\n",
       "    .dataframe thead th {\n",
       "        text-align: right;\n",
       "    }\n",
       "</style>\n",
       "<table border=\"1\" class=\"dataframe\">\n",
       "  <thead>\n",
       "    <tr style=\"text-align: right;\">\n",
       "      <th></th>\n",
       "      <th>Ave Math Score</th>\n",
       "      <th>Ave Reading</th>\n",
       "      <th>Total Pass Rate</th>\n",
       "      <th>% Pass Math</th>\n",
       "    </tr>\n",
       "    <tr>\n",
       "      <th>Size Group</th>\n",
       "      <th></th>\n",
       "      <th></th>\n",
       "      <th></th>\n",
       "      <th></th>\n",
       "    </tr>\n",
       "  </thead>\n",
       "  <tbody>\n",
       "    <tr>\n",
       "      <th>0 to 500</th>\n",
       "      <td>83.803279</td>\n",
       "      <td>83.814988</td>\n",
       "      <td>83.809133</td>\n",
       "      <td>84.073113</td>\n",
       "    </tr>\n",
       "    <tr>\n",
       "      <th>500 to 1000</th>\n",
       "      <td>83.839917</td>\n",
       "      <td>84.044699</td>\n",
       "      <td>83.942308</td>\n",
       "      <td>84.454450</td>\n",
       "    </tr>\n",
       "    <tr>\n",
       "      <th>1000 to 1500</th>\n",
       "      <td>83.351499</td>\n",
       "      <td>83.816757</td>\n",
       "      <td>83.584128</td>\n",
       "      <td>84.396825</td>\n",
       "    </tr>\n",
       "    <tr>\n",
       "      <th>1500 to 2000</th>\n",
       "      <td>83.380480</td>\n",
       "      <td>83.876359</td>\n",
       "      <td>83.628419</td>\n",
       "      <td>84.145803</td>\n",
       "    </tr>\n",
       "    <tr>\n",
       "      <th>2000 to 3000</th>\n",
       "      <td>78.429493</td>\n",
       "      <td>81.769122</td>\n",
       "      <td>80.099308</td>\n",
       "      <td>76.890205</td>\n",
       "    </tr>\n",
       "    <tr>\n",
       "      <th>3000 to 4000</th>\n",
       "      <td>76.842711</td>\n",
       "      <td>80.744686</td>\n",
       "      <td>78.793698</td>\n",
       "      <td>74.683496</td>\n",
       "    </tr>\n",
       "    <tr>\n",
       "      <th>4000 to 5000</th>\n",
       "      <td>77.136883</td>\n",
       "      <td>80.978256</td>\n",
       "      <td>79.057569</td>\n",
       "      <td>75.767336</td>\n",
       "    </tr>\n",
       "  </tbody>\n",
       "</table>\n",
       "</div>"
      ],
      "text/plain": [
       "              Ave Math Score  Ave Reading  Total Pass Rate  % Pass Math\n",
       "Size Group                                                             \n",
       "0 to 500           83.803279    83.814988        83.809133    84.073113\n",
       "500 to 1000        83.839917    84.044699        83.942308    84.454450\n",
       "1000 to 1500       83.351499    83.816757        83.584128    84.396825\n",
       "1500 to 2000       83.380480    83.876359        83.628419    84.145803\n",
       "2000 to 3000       78.429493    81.769122        80.099308    76.890205\n",
       "3000 to 4000       76.842711    80.744686        78.793698    74.683496\n",
       "4000 to 5000       77.136883    80.978256        79.057569    75.767336"
      ]
     },
     "execution_count": 178,
     "metadata": {},
     "output_type": "execute_result"
    }
   ],
   "source": [
    "#Results of Scores by Size\n",
    "School_Summary_grp = School_Summary.groupby(\"Size Group\")\n",
    "print((School_Summary_grp[\"School Name\"]).count())\n",
    "School_Summary_grp[[\"Ave Math Score\", \"Ave Reading\", \"Total Pass Rate\", \"% Pass Math\"]].mean()"
   ]
  },
  {
   "cell_type": "code",
   "execution_count": 179,
   "metadata": {},
   "outputs": [
    {
     "name": "stdout",
     "output_type": "stream",
     "text": [
      "District\n",
      "Charter\n"
     ]
    }
   ],
   "source": [
    "#Scores by School Type \n",
    "print(School_Summary[\"Type\"].max())\n",
    "print(School_Summary[\"Type\"].min())"
   ]
  },
  {
   "cell_type": "code",
   "execution_count": 181,
   "metadata": {},
   "outputs": [
    {
     "name": "stdout",
     "output_type": "stream",
     "text": [
      "Type\n",
      "Charter     8\n",
      "District    7\n",
      "Name: School Name, dtype: int64\n"
     ]
    },
    {
     "data": {
      "text/html": [
       "<div>\n",
       "<style scoped>\n",
       "    .dataframe tbody tr th:only-of-type {\n",
       "        vertical-align: middle;\n",
       "    }\n",
       "\n",
       "    .dataframe tbody tr th {\n",
       "        vertical-align: top;\n",
       "    }\n",
       "\n",
       "    .dataframe thead th {\n",
       "        text-align: right;\n",
       "    }\n",
       "</style>\n",
       "<table border=\"1\" class=\"dataframe\">\n",
       "  <thead>\n",
       "    <tr style=\"text-align: right;\">\n",
       "      <th></th>\n",
       "      <th>Ave Math Score</th>\n",
       "      <th>Ave Reading</th>\n",
       "      <th>Total Pass Rate</th>\n",
       "      <th>% Pass Math</th>\n",
       "    </tr>\n",
       "    <tr>\n",
       "      <th>Type</th>\n",
       "      <th></th>\n",
       "      <th></th>\n",
       "      <th></th>\n",
       "      <th></th>\n",
       "    </tr>\n",
       "  </thead>\n",
       "  <tbody>\n",
       "    <tr>\n",
       "      <th>Charter</th>\n",
       "      <td>83.473852</td>\n",
       "      <td>83.896421</td>\n",
       "      <td>83.685136</td>\n",
       "      <td>84.244611</td>\n",
       "    </tr>\n",
       "    <tr>\n",
       "      <th>District</th>\n",
       "      <td>76.956733</td>\n",
       "      <td>80.966636</td>\n",
       "      <td>78.961685</td>\n",
       "      <td>75.013862</td>\n",
       "    </tr>\n",
       "  </tbody>\n",
       "</table>\n",
       "</div>"
      ],
      "text/plain": [
       "          Ave Math Score  Ave Reading  Total Pass Rate  % Pass Math\n",
       "Type                                                               \n",
       "Charter        83.473852    83.896421        83.685136    84.244611\n",
       "District       76.956733    80.966636        78.961685    75.013862"
      ]
     },
     "execution_count": 181,
     "metadata": {},
     "output_type": "execute_result"
    }
   ],
   "source": [
    "#Results of Scores by Type\n",
    "School_sum_grp = School_Summary.groupby(\"Type\")\n",
    "print((School_sum_grp[\"School Name\"]).count())\n",
    "School_sum_grp[[\"Ave Math Score\", \"Ave Reading\", \"Total Pass Rate\", \"% Pass Math\"]].mean()"
   ]
  }
 ],
 "metadata": {
  "kernelspec": {
   "display_name": "Python [conda env:pythondata]",
   "language": "python",
   "name": "conda-env-pythondata-py"
  },
  "language_info": {
   "codemirror_mode": {
    "name": "ipython",
    "version": 3
   },
   "file_extension": ".py",
   "mimetype": "text/x-python",
   "name": "python",
   "nbconvert_exporter": "python",
   "pygments_lexer": "ipython3",
   "version": "3.6.7"
  }
 },
 "nbformat": 4,
 "nbformat_minor": 2
}
