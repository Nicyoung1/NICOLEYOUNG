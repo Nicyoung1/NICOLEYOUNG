{
 "cells": [
  {
   "cell_type": "markdown",
   "metadata": {},
   "source": [
    "Price Prediction on single competitor over 30 day time span and 180 days"
   ]
  },
  {
   "cell_type": "code",
   "execution_count": null,
   "metadata": {},
   "outputs": [],
   "source": [
    "import os\n",
    "import pandas as pd\n",
    "import numpy as np\n",
    "%matplotlib inline\n",
    "import matplotlib.pyplot as plt\n",
    "import pickle\n",
    "\n",
    "from sklearn.metrics import mean_squared_error\n",
    "from sklearn.ensemble import RandomForestRegressor\n",
    "\n"
   ]
  },
  {
   "cell_type": "markdown",
   "metadata": {},
   "source": [
    "Source Data from Commercial webscraping application for a single competitor's rates over 180 days"
   ]
  },
  {
   "cell_type": "code",
   "execution_count": 49,
   "metadata": {
    "scrolled": true
   },
   "outputs": [
    {
     "data": {
      "text/html": [
       "<div>\n",
       "<style scoped>\n",
       "    .dataframe tbody tr th:only-of-type {\n",
       "        vertical-align: middle;\n",
       "    }\n",
       "\n",
       "    .dataframe tbody tr th {\n",
       "        vertical-align: top;\n",
       "    }\n",
       "\n",
       "    .dataframe thead th {\n",
       "        text-align: right;\n",
       "    }\n",
       "</style>\n",
       "<table border=\"1\" class=\"dataframe\">\n",
       "  <thead>\n",
       "    <tr style=\"text-align: right;\">\n",
       "      <th></th>\n",
       "      <th>D_Predict</th>\n",
       "      <th>180</th>\n",
       "      <th>177</th>\n",
       "      <th>174</th>\n",
       "      <th>171</th>\n",
       "      <th>168</th>\n",
       "      <th>165</th>\n",
       "      <th>162</th>\n",
       "      <th>159</th>\n",
       "      <th>156</th>\n",
       "      <th>...</th>\n",
       "      <th>57</th>\n",
       "      <th>54</th>\n",
       "      <th>51</th>\n",
       "      <th>48</th>\n",
       "      <th>45</th>\n",
       "      <th>42</th>\n",
       "      <th>39</th>\n",
       "      <th>36</th>\n",
       "      <th>33</th>\n",
       "      <th>30</th>\n",
       "    </tr>\n",
       "  </thead>\n",
       "  <tbody>\n",
       "    <tr>\n",
       "      <th>0</th>\n",
       "      <td>1</td>\n",
       "      <td>845</td>\n",
       "      <td>845</td>\n",
       "      <td>845</td>\n",
       "      <td>845</td>\n",
       "      <td>845</td>\n",
       "      <td>902</td>\n",
       "      <td>902</td>\n",
       "      <td>1,256</td>\n",
       "      <td>1,256</td>\n",
       "      <td>...</td>\n",
       "      <td>949</td>\n",
       "      <td>949</td>\n",
       "      <td>949</td>\n",
       "      <td>949</td>\n",
       "      <td>845</td>\n",
       "      <td>845</td>\n",
       "      <td>845</td>\n",
       "      <td>845</td>\n",
       "      <td>845</td>\n",
       "      <td>845</td>\n",
       "    </tr>\n",
       "    <tr>\n",
       "      <th>1</th>\n",
       "      <td>2</td>\n",
       "      <td>645</td>\n",
       "      <td>645</td>\n",
       "      <td>645</td>\n",
       "      <td>645</td>\n",
       "      <td>645</td>\n",
       "      <td>745</td>\n",
       "      <td>745</td>\n",
       "      <td>902</td>\n",
       "      <td>902</td>\n",
       "      <td>...</td>\n",
       "      <td>788</td>\n",
       "      <td>788</td>\n",
       "      <td>645</td>\n",
       "      <td>645</td>\n",
       "      <td>645</td>\n",
       "      <td>645</td>\n",
       "      <td>645</td>\n",
       "      <td>645</td>\n",
       "      <td>645</td>\n",
       "      <td>645</td>\n",
       "    </tr>\n",
       "    <tr>\n",
       "      <th>2</th>\n",
       "      <td>3</td>\n",
       "      <td>795</td>\n",
       "      <td>795</td>\n",
       "      <td>795</td>\n",
       "      <td>795</td>\n",
       "      <td>795</td>\n",
       "      <td>795</td>\n",
       "      <td>795</td>\n",
       "      <td>795</td>\n",
       "      <td>795</td>\n",
       "      <td>...</td>\n",
       "      <td>795</td>\n",
       "      <td>795</td>\n",
       "      <td>795</td>\n",
       "      <td>795</td>\n",
       "      <td>795</td>\n",
       "      <td>795</td>\n",
       "      <td>795</td>\n",
       "      <td>795</td>\n",
       "      <td>795</td>\n",
       "      <td>795</td>\n",
       "    </tr>\n",
       "    <tr>\n",
       "      <th>3</th>\n",
       "      <td>4</td>\n",
       "      <td>645</td>\n",
       "      <td>645</td>\n",
       "      <td>645</td>\n",
       "      <td>645</td>\n",
       "      <td>645</td>\n",
       "      <td>645</td>\n",
       "      <td>645</td>\n",
       "      <td>645</td>\n",
       "      <td>645</td>\n",
       "      <td>...</td>\n",
       "      <td>745</td>\n",
       "      <td>745</td>\n",
       "      <td>745</td>\n",
       "      <td>645</td>\n",
       "      <td>645</td>\n",
       "      <td>645</td>\n",
       "      <td>645</td>\n",
       "      <td>645</td>\n",
       "      <td>645</td>\n",
       "      <td>645</td>\n",
       "    </tr>\n",
       "    <tr>\n",
       "      <th>4</th>\n",
       "      <td>5</td>\n",
       "      <td>645</td>\n",
       "      <td>645</td>\n",
       "      <td>645</td>\n",
       "      <td>645</td>\n",
       "      <td>645</td>\n",
       "      <td>645</td>\n",
       "      <td>645</td>\n",
       "      <td>645</td>\n",
       "      <td>645</td>\n",
       "      <td>...</td>\n",
       "      <td>645</td>\n",
       "      <td>645</td>\n",
       "      <td>645</td>\n",
       "      <td>645</td>\n",
       "      <td>645</td>\n",
       "      <td>645</td>\n",
       "      <td>645</td>\n",
       "      <td>645</td>\n",
       "      <td>645</td>\n",
       "      <td>645</td>\n",
       "    </tr>\n",
       "  </tbody>\n",
       "</table>\n",
       "<p>5 rows × 52 columns</p>\n",
       "</div>"
      ],
      "text/plain": [
       "   D_Predict  180  177  174  171  168  165  162    159    156 ...    57   54  \\\n",
       "0          1  845  845  845  845  845  902  902  1,256  1,256 ...   949  949   \n",
       "1          2  645  645  645  645  645  745  745    902    902 ...   788  788   \n",
       "2          3  795  795  795  795  795  795  795    795    795 ...   795  795   \n",
       "3          4  645  645  645  645  645  645  645    645    645 ...   745  745   \n",
       "4          5  645  645  645  645  645  645  645    645    645 ...   645  645   \n",
       "\n",
       "    51   48   45   42   39   36   33   30  \n",
       "0  949  949  845  845  845  845  845  845  \n",
       "1  645  645  645  645  645  645  645  645  \n",
       "2  795  795  795  795  795  795  795  795  \n",
       "3  745  645  645  645  645  645  645  645  \n",
       "4  645  645  645  645  645  645  645  645  \n",
       "\n",
       "[5 rows x 52 columns]"
      ]
     },
     "execution_count": 49,
     "metadata": {},
     "output_type": "execute_result"
    }
   ],
   "source": [
    "data = pd.read_csv('Pricemaster.csv')\n",
    "\n",
    "data.head(5)\n"
   ]
  },
  {
   "cell_type": "markdown",
   "metadata": {},
   "source": [
    "Transform data for cleaner handling in Tableau & ML\n",
    "Reclassed date field to numeric for ease of future use and day of month correlation"
   ]
  },
  {
   "cell_type": "code",
   "execution_count": 3,
   "metadata": {},
   "outputs": [
    {
     "data": {
      "text/html": [
       "<div>\n",
       "<style scoped>\n",
       "    .dataframe tbody tr th:only-of-type {\n",
       "        vertical-align: middle;\n",
       "    }\n",
       "\n",
       "    .dataframe tbody tr th {\n",
       "        vertical-align: top;\n",
       "    }\n",
       "\n",
       "    .dataframe thead th {\n",
       "        text-align: right;\n",
       "    }\n",
       "</style>\n",
       "<table border=\"1\" class=\"dataframe\">\n",
       "  <thead>\n",
       "    <tr style=\"text-align: right;\">\n",
       "      <th></th>\n",
       "      <th>D_Predict</th>\n",
       "      <th>DTA</th>\n",
       "      <th>Nightly_Price</th>\n",
       "    </tr>\n",
       "  </thead>\n",
       "  <tbody>\n",
       "    <tr>\n",
       "      <th>780</th>\n",
       "      <td>1</td>\n",
       "      <td>102</td>\n",
       "      <td>745</td>\n",
       "    </tr>\n",
       "    <tr>\n",
       "      <th>781</th>\n",
       "      <td>2</td>\n",
       "      <td>102</td>\n",
       "      <td>745</td>\n",
       "    </tr>\n",
       "    <tr>\n",
       "      <th>782</th>\n",
       "      <td>3</td>\n",
       "      <td>102</td>\n",
       "      <td>795</td>\n",
       "    </tr>\n",
       "    <tr>\n",
       "      <th>783</th>\n",
       "      <td>4</td>\n",
       "      <td>102</td>\n",
       "      <td>845</td>\n",
       "    </tr>\n",
       "    <tr>\n",
       "      <th>784</th>\n",
       "      <td>5</td>\n",
       "      <td>102</td>\n",
       "      <td>680</td>\n",
       "    </tr>\n",
       "  </tbody>\n",
       "</table>\n",
       "</div>"
      ],
      "text/plain": [
       "     D_Predict  DTA Nightly_Price\n",
       "780          1  102           745\n",
       "781          2  102           745\n",
       "782          3  102           795\n",
       "783          4  102           845\n",
       "784          5  102           680"
      ]
     },
     "execution_count": 3,
     "metadata": {},
     "output_type": "execute_result"
    }
   ],
   "source": [
    "melt = data.melt(id_vars='D_Predict', var_name='DTA', value_name='Nightly_Price')\n",
    "\n",
    "melt = melt.sort_values(['DTA', 'D_Predict'])\n",
    "melt.head()\n"
   ]
  },
  {
   "cell_type": "code",
   "execution_count": 5,
   "metadata": {},
   "outputs": [],
   "source": [
    "export_csv = melt.to_csv (r'C:\\Users\\nicol\\pythondir\\FinalProject\\export_dataframe3.csv', index = None, header=True) \n"
   ]
  },
  {
   "cell_type": "markdown",
   "metadata": {},
   "source": [
    "Added one Variable - Market which is a marker of the stregnth or weakenss of demand for a given day"
   ]
  },
  {
   "cell_type": "code",
   "execution_count": 6,
   "metadata": {
    "scrolled": true
   },
   "outputs": [
    {
     "data": {
      "text/html": [
       "<div>\n",
       "<style scoped>\n",
       "    .dataframe tbody tr th:only-of-type {\n",
       "        vertical-align: middle;\n",
       "    }\n",
       "\n",
       "    .dataframe tbody tr th {\n",
       "        vertical-align: top;\n",
       "    }\n",
       "\n",
       "    .dataframe thead th {\n",
       "        text-align: right;\n",
       "    }\n",
       "</style>\n",
       "<table border=\"1\" class=\"dataframe\">\n",
       "  <thead>\n",
       "    <tr style=\"text-align: right;\">\n",
       "      <th></th>\n",
       "      <th>D_Predict</th>\n",
       "      <th>DTA</th>\n",
       "      <th>Nightly_Price</th>\n",
       "      <th>Market</th>\n",
       "    </tr>\n",
       "  </thead>\n",
       "  <tbody>\n",
       "    <tr>\n",
       "      <th>0</th>\n",
       "      <td>1</td>\n",
       "      <td>30</td>\n",
       "      <td>845.0</td>\n",
       "      <td>82.166802</td>\n",
       "    </tr>\n",
       "    <tr>\n",
       "      <th>1</th>\n",
       "      <td>2</td>\n",
       "      <td>30</td>\n",
       "      <td>645.0</td>\n",
       "      <td>59.080892</td>\n",
       "    </tr>\n",
       "    <tr>\n",
       "      <th>2</th>\n",
       "      <td>3</td>\n",
       "      <td>30</td>\n",
       "      <td>795.0</td>\n",
       "      <td>57.728296</td>\n",
       "    </tr>\n",
       "    <tr>\n",
       "      <th>3</th>\n",
       "      <td>4</td>\n",
       "      <td>30</td>\n",
       "      <td>645.0</td>\n",
       "      <td>61.618894</td>\n",
       "    </tr>\n",
       "    <tr>\n",
       "      <th>4</th>\n",
       "      <td>5</td>\n",
       "      <td>30</td>\n",
       "      <td>645.0</td>\n",
       "      <td>61.197763</td>\n",
       "    </tr>\n",
       "  </tbody>\n",
       "</table>\n",
       "</div>"
      ],
      "text/plain": [
       "   D_Predict  DTA  Nightly_Price     Market\n",
       "0          1   30          845.0  82.166802\n",
       "1          2   30          645.0  59.080892\n",
       "2          3   30          795.0  57.728296\n",
       "3          4   30          645.0  61.618894\n",
       "4          5   30          645.0  61.197763"
      ]
     },
     "execution_count": 6,
     "metadata": {},
     "output_type": "execute_result"
    }
   ],
   "source": [
    "data2 = pd.read_csv('export_dataframe2.csv')\n",
    "\n",
    "data2.head()"
   ]
  },
  {
   "cell_type": "code",
   "execution_count": 7,
   "metadata": {},
   "outputs": [],
   "source": [
    "data2['Nightly_Price'] = data2['Nightly_Price'].astype(float)\n",
    "data2['Market'] = data2['Market'].astype(float)\n",
    "data2['D_Predict'] = data2['D_Predict'].astype(float)\n",
    "data2['D_Predict'] = data2['D_Predict'].astype(float)\n"
   ]
  },
  {
   "cell_type": "code",
   "execution_count": 8,
   "metadata": {},
   "outputs": [],
   "source": [
    "def rmsle(ytrue, ypred):\n",
    "    return np.sqrt(mean_squared_log_error(ytrue, ypred))"
   ]
  },
  {
   "cell_type": "markdown",
   "metadata": {},
   "source": [
    "Visualize distribution of data within the set - notice outlier data (high and low) "
   ]
  },
  {
   "cell_type": "code",
   "execution_count": 9,
   "metadata": {},
   "outputs": [
    {
     "data": {
      "text/plain": [
       "<matplotlib.axes._subplots.AxesSubplot at 0x2403122fc18>"
      ]
     },
     "execution_count": 9,
     "metadata": {},
     "output_type": "execute_result"
    },
    {
     "data": {
      "image/png": "[encoded data removed]",
      "text/plain": [
       "<Figure size 720x360 with 1 Axes>"
      ]
     },
     "metadata": {
      "needs_background": "light"
     },
     "output_type": "display_data"
    }
   ],
   "source": [
    "data2['Nightly_Price'].hist(bins=20, figsize=(10,5))"
   ]
  },
  {
   "cell_type": "code",
   "execution_count": 11,
   "metadata": {},
   "outputs": [
    {
     "name": "stdout",
     "output_type": "stream",
     "text": [
      "Shape:  (1530, 1) (1530, 1)\n"
     ]
    }
   ],
   "source": [
    "#Here we are shaping our data\n",
    "X = data2['DTA'].values.reshape(-1, 1)\n",
    "y = data2['Nightly_Price'].values.reshape(-1, 1)\n",
    "\n",
    "print(\"Shape: \", X.shape, y.shape)"
   ]
  },
  {
   "cell_type": "code",
   "execution_count": 17,
   "metadata": {},
   "outputs": [
    {
     "data": {
      "text/plain": [
       "Text(0, 0.5, 'Nightly_Price')"
      ]
     },
     "execution_count": 17,
     "metadata": {},
     "output_type": "execute_result"
    },
    {
     "data": {
      "image/png": "[encoded data removed]",
      "text/plain": [
       "<Figure size 432x288 with 1 Axes>"
      ]
     },
     "metadata": {
      "needs_background": "light"
     },
     "output_type": "display_data"
    }
   ],
   "source": [
    "plt.scatter(X, y)\n",
    "plt.xlabel(\"Days to Arrival\")\n",
    "plt.ylabel(\"Nightly_Price\")"
   ]
  },
  {
   "cell_type": "markdown",
   "metadata": {},
   "source": [
    "Training Set, Scaling & Model construction"
   ]
  },
  {
   "cell_type": "code",
   "execution_count": 18,
   "metadata": {},
   "outputs": [],
   "source": [
    "from sklearn.model_selection import train_test_split\n",
    "\n",
    "X_train, X_test, y_train, y_test = train_test_split(X, y, random_state=42)"
   ]
  },
  {
   "cell_type": "code",
   "execution_count": 19,
   "metadata": {},
   "outputs": [
    {
     "name": "stderr",
     "output_type": "stream",
     "text": [
      "C:\\Users\\nicol\\Anaconda3\\envs\\pythondata\\lib\\site-packages\\sklearn\\utils\\validation.py:595: DataConversionWarning: Data with input dtype int64 was converted to float64 by StandardScaler.\n",
      "  warnings.warn(msg, DataConversionWarning)\n",
      "C:\\Users\\nicol\\Anaconda3\\envs\\pythondata\\lib\\site-packages\\sklearn\\utils\\validation.py:595: DataConversionWarning: Data with input dtype int64 was converted to float64 by StandardScaler.\n",
      "  warnings.warn(msg, DataConversionWarning)\n",
      "C:\\Users\\nicol\\Anaconda3\\envs\\pythondata\\lib\\site-packages\\sklearn\\utils\\validation.py:595: DataConversionWarning: Data with input dtype int64 was converted to float64 by StandardScaler.\n",
      "  warnings.warn(msg, DataConversionWarning)\n"
     ]
    }
   ],
   "source": [
    "from sklearn.preprocessing import StandardScaler\n",
    "X_scaler = StandardScaler().fit(X_train)\n",
    "y_scaler = StandardScaler().fit(y_train)\n",
    "\n",
    "X_train_scaled = X_scaler.transform(X_train)\n",
    "X_test_scaled = X_scaler.transform(X_test)\n",
    "y_train_scaled = y_scaler.transform(y_train)\n",
    "y_test_scaled = y_scaler.transform(y_test)"
   ]
  },
  {
   "cell_type": "code",
   "execution_count": 20,
   "metadata": {},
   "outputs": [
    {
     "data": {
      "image/png": "[encoded data removed]",
      "text/plain": [
       "<Figure size 432x288 with 1 Axes>"
      ]
     },
     "metadata": {
      "needs_background": "light"
     },
     "output_type": "display_data"
    }
   ],
   "source": [
    "from sklearn.linear_model import LinearRegression\n",
    "model = LinearRegression()\n",
    "model.fit(X_train_scaled, y_train_scaled)\n",
    "plt.scatter(model.predict(X_train_scaled), model.predict(X_train_scaled) - y_train_scaled, c=\"blue\", label=\"Training Data\")\n",
    "plt.scatter(model.predict(X_test_scaled), model.predict(X_test_scaled) - y_test_scaled, c=\"orange\", label=\"Testing Data\")\n",
    "plt.legend()\n",
    "plt.hlines(y=0, xmin=y_test_scaled.min(), xmax=y_test_scaled.max())\n",
    "plt.title(\"Residual Plot\")\n",
    "plt.show()"
   ]
  },
  {
   "cell_type": "markdown",
   "metadata": {},
   "source": [
    "For the model a Random Forest Regressor was chosen due to the limited size of our sample set and stability"
   ]
  },
  {
   "cell_type": "code",
   "execution_count": 50,
   "metadata": {},
   "outputs": [
    {
     "name": "stdout",
     "output_type": "stream",
     "text": [
      "[778.99317247 681.61081575 730.34468196 672.88328784 764.54677833\n",
      " 738.29578905 669.97227722 716.2603797  672.88328784 746.39240774\n",
      " 767.17097163 749.04974509 657.71839745 716.2603797  767.9385045\n",
      " 674.42875594 696.04239447 666.19326489 666.19326489 694.90976531\n",
      " 730.34468196 734.30390409 668.56090519 658.43352549 778.99317247\n",
      " 681.61081575 696.04239447 718.23269397 767.17097163 696.95628913\n",
      " 767.17097163 696.95628913 696.04239447 764.54677833 700.61498045\n",
      " 696.95628913 741.42850643 688.33781649 746.39240774 741.42850643\n",
      " 749.04974509 704.13813408 740.7223736  741.42850643 734.30390409\n",
      " 694.90976531 666.19326489 664.91725837 753.41721793 746.39240774\n",
      " 694.90976531 669.97227722 696.04239447 767.17097163 746.39240774\n",
      " 733.89278214 666.19326489 733.89278214 734.30390409 745.85060147\n",
      " 730.34468196 754.48714609 684.82843093 764.54677833 688.33781649\n",
      " 733.89278214 754.48714609 669.97227722 669.97227722 723.15349214\n",
      " 696.04239447 695.22081648 695.22081648 696.04239447 724.42781593\n",
      " 738.29578905 689.33570854 796.10029889 672.88328784 728.22470203\n",
      " 716.2603797  720.12180435 772.63497174 681.61081575 767.17097163\n",
      " 694.90976531 746.39240774 753.6646402  709.92688149 720.12180435\n",
      " 695.22081648 753.6646402  668.56090519 689.33570854 688.33781649\n",
      " 796.10029889 714.79953488 689.33570854 664.91725837 698.83828713\n",
      " 767.9385045  692.13358675 724.42781593 717.36411993 741.42850643\n",
      " 716.2603797  688.33781649 716.2603797  658.12666847 672.88328784\n",
      " 684.82843093 664.91725837 734.30390409 754.48714609 772.63497174\n",
      " 681.61081575 734.30390409 692.13358675 692.13358675 664.91725837\n",
      " 746.39240774 668.56090519 753.6646402  704.13813408 753.41721793\n",
      " 756.03767617 670.93251558 657.71839745 767.17097163 753.41721793\n",
      " 740.7223736  689.33570854 664.91725837 738.29578905 658.12666847\n",
      " 666.19326489 657.71839745 670.93251558 772.63497174 767.17097163\n",
      " 728.22470203 714.79953488 658.12666847 753.6646402  753.41721793\n",
      " 796.10029889 749.04974509 746.39240774 681.61081575 692.13358675\n",
      " 716.2603797  704.13813408 767.17097163 740.7223736  664.91725837\n",
      " 684.82843093 689.33570854 664.91725837 723.15349214 767.9385045\n",
      " 696.95628913 754.48714609 741.42850643 704.13813408 717.36411993\n",
      " 695.22081648 719.28833169 753.6646402  700.61498045 696.95628913\n",
      " 657.71839745 753.6646402  738.29578905 688.33781649 719.28833169\n",
      " 698.83828713 733.89278214 666.19326489 658.43352549 741.42850643\n",
      " 717.36411993 666.19326489 753.41721793 669.97227722 746.39240774\n",
      " 764.54677833 728.22470203 695.22081648 764.54677833 728.22470203\n",
      " 657.71839745 714.79953488 724.42781593 704.13813408 733.89278214\n",
      " 696.04239447 749.04974509 756.03767617 668.56090519 734.30390409\n",
      " 670.93251558 698.83828713 718.23269397 745.85060147 694.90976531\n",
      " 716.2603797  745.85060147 754.48714609 718.23269397 658.43352549\n",
      " 724.42781593 666.19326489 746.39240774 741.42850643 764.54677833\n",
      " 657.71839745 746.39240774 734.30390409 767.9385045  658.43352549\n",
      " 767.9385045  696.95628913 772.63497174 723.15349214 738.29578905\n",
      " 741.42850643 730.34468196 796.10029889 745.85060147 764.54677833\n",
      " 717.36411993 674.42875594 700.61498045 767.17097163 719.28833169\n",
      " 689.33570854 767.17097163 738.29578905 681.61081575 718.23269397\n",
      " 658.43352549 700.61498045 704.13813408 738.29578905 670.93251558\n",
      " 709.92688149 745.85060147 709.92688149 719.28833169 733.89278214\n",
      " 734.30390409 664.91725837 749.04974509 670.93251558 764.54677833\n",
      " 724.42781593 753.6646402  692.13358675 796.10029889 734.30390409\n",
      " 664.91725837 657.71839745 730.34468196 772.63497174 672.88328784\n",
      " 664.91725837 718.23269397 767.17097163 696.04239447 658.43352549\n",
      " 670.93251558 658.43352549 674.42875594 658.12666847 658.12666847\n",
      " 740.7223736  658.12666847 670.93251558 746.39240774 754.48714609\n",
      " 724.42781593 740.7223736  672.88328784 696.04239447 688.33781649\n",
      " 696.95628913 719.28833169 717.36411993 692.13358675 704.13813408\n",
      " 666.19326489 717.36411993 717.36411993 796.10029889 658.12666847\n",
      " 700.61498045 756.03767617 692.13358675 717.36411993 714.79953488\n",
      " 733.89278214 764.54677833 746.39240774 754.48714609 714.79953488\n",
      " 724.42781593 674.42875594 719.28833169 745.85060147 657.71839745\n",
      " 681.61081575 674.42875594 658.12666847 674.42875594 728.22470203\n",
      " 696.95628913 753.6646402  658.12666847 698.83828713 696.95628913\n",
      " 745.85060147 730.34468196 740.7223736  738.29578905 738.29578905\n",
      " 754.48714609 689.33570854 740.7223736  717.36411993 716.2603797\n",
      " 692.13358675 796.10029889 749.04974509 720.12180435 709.92688149\n",
      " 688.33781649 778.99317247 764.54677833 700.61498045 674.42875594\n",
      " 753.6646402  696.95628913 694.90976531 730.34468196 689.33570854\n",
      " 796.10029889 764.54677833 714.79953488 754.48714609 734.30390409\n",
      " 716.2603797  681.61081575 698.83828713 694.90976531 670.93251558\n",
      " 716.2603797  796.10029889 674.42875594 767.17097163 796.10029889\n",
      " 669.97227722 724.42781593 728.22470203 764.54677833 740.7223736\n",
      " 723.15349214 695.22081648 717.36411993 700.61498045 684.82843093\n",
      " 746.39240774 670.93251558 700.61498045 756.03767617 700.61498045\n",
      " 666.19326489 658.43352549 724.42781593 658.12666847 733.89278214\n",
      " 720.12180435 716.2603797  767.9385045 ]\n"
     ]
    },
    {
     "data": {
      "image/png": "[encoded data removed]",
      "text/plain": [
       "<Figure size 432x288 with 1 Axes>"
      ]
     },
     "metadata": {
      "needs_background": "light"
     },
     "output_type": "display_data"
    }
   ],
   "source": [
    "error = []\n",
    "for DTA in range(30):\n",
    "    forest = RandomForestRegressor(n_estimators=1000, n_jobs=-1, random_state=5)\n",
    "    model= forest.fit(X_train_scaled, y_train.ravel())\n",
    "    predictions = model.predict(X_test_scaled)\n",
    "    MSE = mean_squared_error(y_test_scaled, predictions)\n",
    "    error.append(MSE)\n",
    "\n",
    "print(predictions)\n",
    "\n",
    "plt.scatter(model.predict(X_train_scaled), model.predict(X_train_scaled) - y_train_scaled.ravel(), c=\"blue\", label=\"Training Data\")\n",
    "plt.scatter(model.predict(X_test_scaled), model.predict(X_test_scaled) - y_test_scaled.ravel(), c=\"orange\", label=\"Testing Data\")\n",
    "plt.legend()\n",
    "plt.hlines(y=0, xmin=y_test_scaled.min(), xmax=y_test_scaled.max())\n",
    "plt.title(\"Residual Plot\")\n",
    "plt.show()\n"
   ]
  },
  {
   "cell_type": "markdown",
   "metadata": {},
   "source": [
    "Package, export & Save predictions & Results"
   ]
  },
  {
   "cell_type": "code",
   "execution_count": 51,
   "metadata": {},
   "outputs": [
    {
     "data": {
      "text/html": [
       "<div>\n",
       "<style scoped>\n",
       "    .dataframe tbody tr th:only-of-type {\n",
       "        vertical-align: middle;\n",
       "    }\n",
       "\n",
       "    .dataframe tbody tr th {\n",
       "        vertical-align: top;\n",
       "    }\n",
       "\n",
       "    .dataframe thead th {\n",
       "        text-align: right;\n",
       "    }\n",
       "</style>\n",
       "<table border=\"1\" class=\"dataframe\">\n",
       "  <thead>\n",
       "    <tr style=\"text-align: right;\">\n",
       "      <th></th>\n",
       "      <th>Predictions</th>\n",
       "    </tr>\n",
       "  </thead>\n",
       "  <tbody>\n",
       "    <tr>\n",
       "      <th>06-01</th>\n",
       "      <td>778.993172</td>\n",
       "    </tr>\n",
       "    <tr>\n",
       "      <th>06-02</th>\n",
       "      <td>681.610816</td>\n",
       "    </tr>\n",
       "    <tr>\n",
       "      <th>06-03</th>\n",
       "      <td>730.344682</td>\n",
       "    </tr>\n",
       "    <tr>\n",
       "      <th>06-04</th>\n",
       "      <td>672.883288</td>\n",
       "    </tr>\n",
       "    <tr>\n",
       "      <th>06-05</th>\n",
       "      <td>764.546778</td>\n",
       "    </tr>\n",
       "  </tbody>\n",
       "</table>\n",
       "</div>"
      ],
      "text/plain": [
       "       Predictions\n",
       "06-01   778.993172\n",
       "06-02   681.610816\n",
       "06-03   730.344682\n",
       "06-04   672.883288\n",
       "06-05   764.546778"
      ]
     },
     "execution_count": 51,
     "metadata": {},
     "output_type": "execute_result"
    }
   ],
   "source": [
    "df_predicts = pd.DataFrame(predictions)\n",
    "df_predicts.columns = ['Predictions']\n",
    "df_predicts.rename(index={0:'06-01',  1: '06-02',  2: '06-03',  3: '06-04',  4: '06-05',  5: '06-06',  6: '06-07',  7: '06-08',  8: '06-09', \n",
    "                          9:'06-10', 10: '06-11', 11: '06-12', 12: '06-13', 13: '06-14', 14: '06-15', 15: '06-16', 16: '06-17', 17: '06-18', 18:'06-19', 19:'06-20', 20:'06-21',\n",
    "                         21:'06-22', 22: '06-23', 23: '06-24', 24: '06-25', 25: '06-26', 26: '06-27', 27: '06-28', 28: '06-29', 29: '06-30' }, inplace=True)\n",
    "df_predicts.head()"
   ]
  },
  {
   "cell_type": "code",
   "execution_count": 53,
   "metadata": {},
   "outputs": [],
   "source": [
    "exportpredicts_csv = df_predicts.to_csv (r'C:\\Users\\nicol\\pythondir\\FinalProject\\exportpredicts2_dataframe.csv', index = None, header=True) "
   ]
  },
  {
   "cell_type": "code",
   "execution_count": 61,
   "metadata": {},
   "outputs": [],
   "source": [
    "pkl_pricepredict = \"pickle_model.pkl\"\n",
    "with open(pkl_pricepredict, 'wb') as file:\n",
    "    pickle.dump(model, file)"
   ]
  },
  {
   "cell_type": "code",
   "execution_count": 62,
   "metadata": {},
   "outputs": [],
   "source": [
    "with open(pkl_pricepredict, 'rb') as file:\n",
    "    pickle_model = pickle.load(file)"
   ]
  }
 ],
 "metadata": {
  "kernelspec": {
   "display_name": "Python 3",
   "language": "python",
   "name": "python3"
  },
  "language_info": {
   "codemirror_mode": {
    "name": "ipython",
    "version": 3
   },
   "file_extension": ".py",
   "mimetype": "text/x-python",
   "name": "python",
   "nbconvert_exporter": "python",
   "pygments_lexer": "ipython3",
   "version": "3.6.7"
  }
 },
 "nbformat": 4,
 "nbformat_minor": 2
}
